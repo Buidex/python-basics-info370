{
 "cells": [
  {
   "cell_type": "markdown",
   "metadata": {},
   "source": [
    "### 1. Setup"
   ]
  },
  {
   "cell_type": "code",
   "execution_count": 74,
   "metadata": {},
   "outputs": [],
   "source": [
    "# Import necessary libraries\n",
    "import pandas as pd\n",
    "import seaborn as sns\n",
    "import matplotlib.pyplot as plt\n",
    "%matplotlib inline"
   ]
  },
  {
   "cell_type": "code",
   "execution_count": 75,
   "metadata": {},
   "outputs": [
    {
     "data": {
      "text/plain": [
       "(336776, 19)"
      ]
     },
     "execution_count": 75,
     "metadata": {},
     "output_type": "execute_result"
    }
   ],
   "source": [
    "# 1. Loads the file into a DataFrame\n",
    "nyc_flights = pd.read_csv(\"./Downloads/nycflights13.csv.bz2\", sep=\"\\t\")\n",
    "nyc_flights.shape"
   ]
  },
  {
   "cell_type": "code",
   "execution_count": 204,
   "metadata": {},
   "outputs": [
    {
     "data": {
      "text/plain": [
       "Index(['year', 'month', 'day', 'dep_time', 'sched_dep_time', 'dep_delay',\n",
       "       'arr_time', 'sched_arr_time', 'arr_delay', 'carrier', 'flight',\n",
       "       'tailnum', 'origin', 'dest', 'air_time', 'distance', 'hour', 'minute',\n",
       "       'time_hour', 'total_delay', 'season', 'period_day'],\n",
       "      dtype='object')"
      ]
     },
     "execution_count": 204,
     "metadata": {},
     "output_type": "execute_result"
    }
   ],
   "source": [
    "# 2. Checks all the variables\n",
    "nyc_flights.columns"
   ]
  },
  {
   "cell_type": "code",
   "execution_count": 77,
   "metadata": {},
   "outputs": [
    {
     "data": {
      "text/html": [
       "<div>\n",
       "<style scoped>\n",
       "    .dataframe tbody tr th:only-of-type {\n",
       "        vertical-align: middle;\n",
       "    }\n",
       "\n",
       "    .dataframe tbody tr th {\n",
       "        vertical-align: top;\n",
       "    }\n",
       "\n",
       "    .dataframe thead th {\n",
       "        text-align: right;\n",
       "    }\n",
       "</style>\n",
       "<table border=\"1\" class=\"dataframe\">\n",
       "  <thead>\n",
       "    <tr style=\"text-align: right;\">\n",
       "      <th></th>\n",
       "      <th>year</th>\n",
       "      <th>month</th>\n",
       "      <th>day</th>\n",
       "      <th>dep_time</th>\n",
       "      <th>sched_dep_time</th>\n",
       "      <th>dep_delay</th>\n",
       "      <th>arr_time</th>\n",
       "      <th>sched_arr_time</th>\n",
       "      <th>arr_delay</th>\n",
       "      <th>carrier</th>\n",
       "      <th>flight</th>\n",
       "      <th>tailnum</th>\n",
       "      <th>origin</th>\n",
       "      <th>dest</th>\n",
       "      <th>air_time</th>\n",
       "      <th>distance</th>\n",
       "      <th>hour</th>\n",
       "      <th>minute</th>\n",
       "      <th>time_hour</th>\n",
       "    </tr>\n",
       "  </thead>\n",
       "  <tbody>\n",
       "    <tr>\n",
       "      <td>0</td>\n",
       "      <td>2013</td>\n",
       "      <td>1</td>\n",
       "      <td>1</td>\n",
       "      <td>517.0</td>\n",
       "      <td>515</td>\n",
       "      <td>2.0</td>\n",
       "      <td>830.0</td>\n",
       "      <td>819</td>\n",
       "      <td>11.0</td>\n",
       "      <td>UA</td>\n",
       "      <td>1545</td>\n",
       "      <td>N14228</td>\n",
       "      <td>EWR</td>\n",
       "      <td>IAH</td>\n",
       "      <td>227.0</td>\n",
       "      <td>1400</td>\n",
       "      <td>5</td>\n",
       "      <td>15</td>\n",
       "      <td>2013-01-01T10:00:00Z</td>\n",
       "    </tr>\n",
       "    <tr>\n",
       "      <td>1</td>\n",
       "      <td>2013</td>\n",
       "      <td>1</td>\n",
       "      <td>1</td>\n",
       "      <td>533.0</td>\n",
       "      <td>529</td>\n",
       "      <td>4.0</td>\n",
       "      <td>850.0</td>\n",
       "      <td>830</td>\n",
       "      <td>20.0</td>\n",
       "      <td>UA</td>\n",
       "      <td>1714</td>\n",
       "      <td>N24211</td>\n",
       "      <td>LGA</td>\n",
       "      <td>IAH</td>\n",
       "      <td>227.0</td>\n",
       "      <td>1416</td>\n",
       "      <td>5</td>\n",
       "      <td>29</td>\n",
       "      <td>2013-01-01T10:00:00Z</td>\n",
       "    </tr>\n",
       "    <tr>\n",
       "      <td>2</td>\n",
       "      <td>2013</td>\n",
       "      <td>1</td>\n",
       "      <td>1</td>\n",
       "      <td>542.0</td>\n",
       "      <td>540</td>\n",
       "      <td>2.0</td>\n",
       "      <td>923.0</td>\n",
       "      <td>850</td>\n",
       "      <td>33.0</td>\n",
       "      <td>AA</td>\n",
       "      <td>1141</td>\n",
       "      <td>N619AA</td>\n",
       "      <td>JFK</td>\n",
       "      <td>MIA</td>\n",
       "      <td>160.0</td>\n",
       "      <td>1089</td>\n",
       "      <td>5</td>\n",
       "      <td>40</td>\n",
       "      <td>2013-01-01T10:00:00Z</td>\n",
       "    </tr>\n",
       "    <tr>\n",
       "      <td>3</td>\n",
       "      <td>2013</td>\n",
       "      <td>1</td>\n",
       "      <td>1</td>\n",
       "      <td>544.0</td>\n",
       "      <td>545</td>\n",
       "      <td>-1.0</td>\n",
       "      <td>1004.0</td>\n",
       "      <td>1022</td>\n",
       "      <td>-18.0</td>\n",
       "      <td>B6</td>\n",
       "      <td>725</td>\n",
       "      <td>N804JB</td>\n",
       "      <td>JFK</td>\n",
       "      <td>BQN</td>\n",
       "      <td>183.0</td>\n",
       "      <td>1576</td>\n",
       "      <td>5</td>\n",
       "      <td>45</td>\n",
       "      <td>2013-01-01T10:00:00Z</td>\n",
       "    </tr>\n",
       "    <tr>\n",
       "      <td>4</td>\n",
       "      <td>2013</td>\n",
       "      <td>1</td>\n",
       "      <td>1</td>\n",
       "      <td>554.0</td>\n",
       "      <td>600</td>\n",
       "      <td>-6.0</td>\n",
       "      <td>812.0</td>\n",
       "      <td>837</td>\n",
       "      <td>-25.0</td>\n",
       "      <td>DL</td>\n",
       "      <td>461</td>\n",
       "      <td>N668DN</td>\n",
       "      <td>LGA</td>\n",
       "      <td>ATL</td>\n",
       "      <td>116.0</td>\n",
       "      <td>762</td>\n",
       "      <td>6</td>\n",
       "      <td>0</td>\n",
       "      <td>2013-01-01T11:00:00Z</td>\n",
       "    </tr>\n",
       "    <tr>\n",
       "      <td>5</td>\n",
       "      <td>2013</td>\n",
       "      <td>1</td>\n",
       "      <td>1</td>\n",
       "      <td>554.0</td>\n",
       "      <td>558</td>\n",
       "      <td>-4.0</td>\n",
       "      <td>740.0</td>\n",
       "      <td>728</td>\n",
       "      <td>12.0</td>\n",
       "      <td>UA</td>\n",
       "      <td>1696</td>\n",
       "      <td>N39463</td>\n",
       "      <td>EWR</td>\n",
       "      <td>ORD</td>\n",
       "      <td>150.0</td>\n",
       "      <td>719</td>\n",
       "      <td>5</td>\n",
       "      <td>58</td>\n",
       "      <td>2013-01-01T10:00:00Z</td>\n",
       "    </tr>\n",
       "    <tr>\n",
       "      <td>6</td>\n",
       "      <td>2013</td>\n",
       "      <td>1</td>\n",
       "      <td>1</td>\n",
       "      <td>555.0</td>\n",
       "      <td>600</td>\n",
       "      <td>-5.0</td>\n",
       "      <td>913.0</td>\n",
       "      <td>854</td>\n",
       "      <td>19.0</td>\n",
       "      <td>B6</td>\n",
       "      <td>507</td>\n",
       "      <td>N516JB</td>\n",
       "      <td>EWR</td>\n",
       "      <td>FLL</td>\n",
       "      <td>158.0</td>\n",
       "      <td>1065</td>\n",
       "      <td>6</td>\n",
       "      <td>0</td>\n",
       "      <td>2013-01-01T11:00:00Z</td>\n",
       "    </tr>\n",
       "  </tbody>\n",
       "</table>\n",
       "</div>"
      ],
      "text/plain": [
       "   year  month  day  dep_time  sched_dep_time  dep_delay  arr_time  \\\n",
       "0  2013      1    1     517.0             515        2.0     830.0   \n",
       "1  2013      1    1     533.0             529        4.0     850.0   \n",
       "2  2013      1    1     542.0             540        2.0     923.0   \n",
       "3  2013      1    1     544.0             545       -1.0    1004.0   \n",
       "4  2013      1    1     554.0             600       -6.0     812.0   \n",
       "5  2013      1    1     554.0             558       -4.0     740.0   \n",
       "6  2013      1    1     555.0             600       -5.0     913.0   \n",
       "\n",
       "   sched_arr_time  arr_delay carrier  flight tailnum origin dest  air_time  \\\n",
       "0             819       11.0      UA    1545  N14228    EWR  IAH     227.0   \n",
       "1             830       20.0      UA    1714  N24211    LGA  IAH     227.0   \n",
       "2             850       33.0      AA    1141  N619AA    JFK  MIA     160.0   \n",
       "3            1022      -18.0      B6     725  N804JB    JFK  BQN     183.0   \n",
       "4             837      -25.0      DL     461  N668DN    LGA  ATL     116.0   \n",
       "5             728       12.0      UA    1696  N39463    EWR  ORD     150.0   \n",
       "6             854       19.0      B6     507  N516JB    EWR  FLL     158.0   \n",
       "\n",
       "   distance  hour  minute             time_hour  \n",
       "0      1400     5      15  2013-01-01T10:00:00Z  \n",
       "1      1416     5      29  2013-01-01T10:00:00Z  \n",
       "2      1089     5      40  2013-01-01T10:00:00Z  \n",
       "3      1576     5      45  2013-01-01T10:00:00Z  \n",
       "4       762     6       0  2013-01-01T11:00:00Z  \n",
       "5       719     5      58  2013-01-01T10:00:00Z  \n",
       "6      1065     6       0  2013-01-01T11:00:00Z  "
      ]
     },
     "execution_count": 77,
     "metadata": {},
     "output_type": "execute_result"
    }
   ],
   "source": [
    "nyc_flights.head(7)"
   ]
  },
  {
   "cell_type": "markdown",
   "metadata": {},
   "source": [
    "### 2. Data Exploration"
   ]
  },
  {
   "cell_type": "code",
   "execution_count": 78,
   "metadata": {},
   "outputs": [
    {
     "data": {
      "text/plain": [
       "336776"
      ]
     },
     "execution_count": 78,
     "metadata": {},
     "output_type": "execute_result"
    }
   ],
   "source": [
    "# Number of flights out of NYC in 2013\n",
    "nyc_flights[nyc_flights['year'] == 2013].count()[0]"
   ]
  },
  {
   "cell_type": "markdown",
   "metadata": {},
   "source": [
    "1. In 2013, there were 336776 flights out of NYC."
   ]
  },
  {
   "cell_type": "code",
   "execution_count": 79,
   "metadata": {},
   "outputs": [
    {
     "data": {
      "text/plain": [
       "array(['EWR', 'LGA', 'JFK'], dtype=object)"
      ]
     },
     "execution_count": 79,
     "metadata": {},
     "output_type": "execute_result"
    }
   ],
   "source": [
    "# Number of NYC airports in the data frame\n",
    "nyc_flights.origin.unique()"
   ]
  },
  {
   "cell_type": "code",
   "execution_count": 80,
   "metadata": {},
   "outputs": [
    {
     "data": {
      "text/plain": [
       "3"
      ]
     },
     "execution_count": 80,
     "metadata": {},
     "output_type": "execute_result"
    }
   ],
   "source": [
    "nyc_flights.origin.nunique()"
   ]
  },
  {
   "cell_type": "markdown",
   "metadata": {},
   "source": [
    "2. There are 3 NYC airports in this data: Newark International Airport (EWR), LaGuardia Airport (LGA), and John F. Kennedy International Airport (JFK)."
   ]
  },
  {
   "cell_type": "code",
   "execution_count": 81,
   "metadata": {},
   "outputs": [
    {
     "data": {
      "text/plain": [
       "105"
      ]
     },
     "execution_count": 81,
     "metadata": {},
     "output_type": "execute_result"
    }
   ],
   "source": [
    "nyc_flights[nyc_flights.year == 2013].dest.nunique()"
   ]
  },
  {
   "cell_type": "markdown",
   "metadata": {},
   "source": [
    "3. Airplanes leaving NYC made their way to 105 different airports in 2013."
   ]
  },
  {
   "cell_type": "code",
   "execution_count": 82,
   "metadata": {},
   "outputs": [
    {
     "data": {
      "text/plain": [
       "3923"
      ]
     },
     "execution_count": 82,
     "metadata": {},
     "output_type": "execute_result"
    }
   ],
   "source": [
    "nyc_flights[nyc_flights.dest == 'SEA'].count()['dest']"
   ]
  },
  {
   "cell_type": "markdown",
   "metadata": {},
   "source": [
    "4. There was a total of 3923 flights from NYC to Seattle."
   ]
  },
  {
   "cell_type": "code",
   "execution_count": 83,
   "metadata": {},
   "outputs": [
    {
     "data": {
      "text/plain": [
       "0"
      ]
     },
     "execution_count": 83,
     "metadata": {},
     "output_type": "execute_result"
    }
   ],
   "source": [
    "nyc_flights[nyc_flights.dest == 'GEG'].count()['dest']"
   ]
  },
  {
   "cell_type": "markdown",
   "metadata": {},
   "source": [
    "5. Surprisingly (or maybe not), there were no flights from NYC to Spokane (GEG)!"
   ]
  },
  {
   "cell_type": "code",
   "execution_count": 84,
   "metadata": {},
   "outputs": [
    {
     "data": {
      "text/plain": [
       "0"
      ]
     },
     "execution_count": 84,
     "metadata": {},
     "output_type": "execute_result"
    }
   ],
   "source": [
    "# Check if there are any destinations with invalid airport codes.\n",
    "# The code for the regex operation was based on this one from StackOverflow:\n",
    "# https://stackoverflow.com/questions/7090717/regular-expression-to-match-3-capital-letters-followed-by-a-small-letter-followe\n",
    "nyc_flights[nyc_flights['year'] == 2013].count()[0] - len(nyc_flights.dest.str.match(pat = r'\\b[A-Z]{3}\\b'))"
   ]
  },
  {
   "cell_type": "code",
   "execution_count": 85,
   "metadata": {},
   "outputs": [
    {
     "data": {
      "text/plain": [
       "0"
      ]
     },
     "execution_count": 85,
     "metadata": {},
     "output_type": "execute_result"
    }
   ],
   "source": [
    "nyc_flights.dest.isnull().sum()"
   ]
  },
  {
   "cell_type": "markdown",
   "metadata": {},
   "source": [
    "6. There are no destinations that do not look like valid airport codes and no missing destination codes."
   ]
  },
  {
   "cell_type": "markdown",
   "metadata": {},
   "source": [
    "7. I was able to answer all the questions, and they are all well defined! The data seems very complete so far, with a low amount of null values for some categories."
   ]
  },
  {
   "cell_type": "markdown",
   "metadata": {},
   "source": [
    "### 3. Flights are delayed..."
   ]
  },
  {
   "cell_type": "code",
   "execution_count": 86,
   "metadata": {},
   "outputs": [
    {
     "data": {
      "text/plain": [
       "19.45"
      ]
     },
     "execution_count": 86,
     "metadata": {},
     "output_type": "execute_result"
    }
   ],
   "source": [
    "# Typical delay of flights\n",
    "round((nyc_flights.dep_delay + nyc_flights.arr_delay).mean(), 2)"
   ]
  },
  {
   "cell_type": "markdown",
   "metadata": {},
   "source": [
    "1. The average delay of flights in this data frame is of 19.45 minutes."
   ]
  },
  {
   "cell_type": "markdown",
   "metadata": {},
   "source": [
    "Let's check if our 'delay' data is good:"
   ]
  },
  {
   "cell_type": "code",
   "execution_count": 87,
   "metadata": {},
   "outputs": [
    {
     "data": {
      "text/plain": [
       "dtype('float64')"
      ]
     },
     "execution_count": 87,
     "metadata": {},
     "output_type": "execute_result"
    }
   ],
   "source": [
    "nyc_flights['arr_delay'].dtypes"
   ]
  },
  {
   "cell_type": "code",
   "execution_count": 88,
   "metadata": {},
   "outputs": [
    {
     "data": {
      "text/plain": [
       "dtype('float64')"
      ]
     },
     "execution_count": 88,
     "metadata": {},
     "output_type": "execute_result"
    }
   ],
   "source": [
    "nyc_flights['dep_delay'].dtypes"
   ]
  },
  {
   "cell_type": "code",
   "execution_count": 89,
   "metadata": {},
   "outputs": [
    {
     "data": {
      "text/plain": [
       "8255"
      ]
     },
     "execution_count": 89,
     "metadata": {},
     "output_type": "execute_result"
    }
   ],
   "source": [
    "nyc_flights['dep_delay'].isna().sum()"
   ]
  },
  {
   "cell_type": "code",
   "execution_count": 90,
   "metadata": {},
   "outputs": [
    {
     "data": {
      "text/plain": [
       "9430"
      ]
     },
     "execution_count": 90,
     "metadata": {},
     "output_type": "execute_result"
    }
   ],
   "source": [
    "nyc_flights['arr_delay'].isna().sum()"
   ]
  },
  {
   "cell_type": "code",
   "execution_count": 192,
   "metadata": {},
   "outputs": [
    {
     "data": {
      "text/plain": [
       "2.88"
      ]
     },
     "execution_count": 192,
     "metadata": {},
     "output_type": "execute_result"
    }
   ],
   "source": [
    "round(nyc_flights['arr_delay'].isna().sum() / nyc_flights['arr_delay'].count() * 100, 2)"
   ]
  },
  {
   "cell_type": "code",
   "execution_count": 191,
   "metadata": {},
   "outputs": [
    {
     "data": {
      "text/plain": [
       "2.513"
      ]
     },
     "execution_count": 191,
     "metadata": {},
     "output_type": "execute_result"
    }
   ],
   "source": [
    "round(nyc_flights['dep_delay'].isna().sum() / nyc_flights['dep_delay'].count() * 100, 2)"
   ]
  },
  {
   "cell_type": "markdown",
   "metadata": {},
   "source": [
    "2. Both our 'delay' variables are of _float_ data type, therefore there should be no invalid entries. Besides, the ratio of missing data to the total amount of data we have for both these variables is minimal, so they are great!"
   ]
  },
  {
   "cell_type": "code",
   "execution_count": 93,
   "metadata": {},
   "outputs": [],
   "source": [
    "nyc_flights['total_delay'] = nyc_flights['arr_delay'] + nyc_flights['dep_delay']"
   ]
  },
  {
   "cell_type": "markdown",
   "metadata": {},
   "source": [
    "I decided to create a new column which is the sum of the arrival delay and the departure delay to make computation easier.\n",
    "I'll call it _total_delay_."
   ]
  },
  {
   "cell_type": "code",
   "execution_count": 94,
   "metadata": {},
   "outputs": [
    {
     "data": {
      "text/html": [
       "<div>\n",
       "<style scoped>\n",
       "    .dataframe tbody tr th:only-of-type {\n",
       "        vertical-align: middle;\n",
       "    }\n",
       "\n",
       "    .dataframe tbody tr th {\n",
       "        vertical-align: top;\n",
       "    }\n",
       "\n",
       "    .dataframe thead th {\n",
       "        text-align: right;\n",
       "    }\n",
       "</style>\n",
       "<table border=\"1\" class=\"dataframe\">\n",
       "  <thead>\n",
       "    <tr style=\"text-align: right;\">\n",
       "      <th></th>\n",
       "      <th>year</th>\n",
       "      <th>month</th>\n",
       "      <th>day</th>\n",
       "      <th>dep_time</th>\n",
       "      <th>sched_dep_time</th>\n",
       "      <th>dep_delay</th>\n",
       "      <th>arr_time</th>\n",
       "      <th>sched_arr_time</th>\n",
       "      <th>arr_delay</th>\n",
       "      <th>carrier</th>\n",
       "      <th>flight</th>\n",
       "      <th>tailnum</th>\n",
       "      <th>origin</th>\n",
       "      <th>dest</th>\n",
       "      <th>air_time</th>\n",
       "      <th>distance</th>\n",
       "      <th>hour</th>\n",
       "      <th>minute</th>\n",
       "      <th>time_hour</th>\n",
       "      <th>total_delay</th>\n",
       "    </tr>\n",
       "  </thead>\n",
       "  <tbody>\n",
       "    <tr>\n",
       "      <td>0</td>\n",
       "      <td>2013</td>\n",
       "      <td>1</td>\n",
       "      <td>1</td>\n",
       "      <td>517.0</td>\n",
       "      <td>515</td>\n",
       "      <td>2.0</td>\n",
       "      <td>830.0</td>\n",
       "      <td>819</td>\n",
       "      <td>11.0</td>\n",
       "      <td>UA</td>\n",
       "      <td>1545</td>\n",
       "      <td>N14228</td>\n",
       "      <td>EWR</td>\n",
       "      <td>IAH</td>\n",
       "      <td>227.0</td>\n",
       "      <td>1400</td>\n",
       "      <td>5</td>\n",
       "      <td>15</td>\n",
       "      <td>2013-01-01T10:00:00Z</td>\n",
       "      <td>13.0</td>\n",
       "    </tr>\n",
       "    <tr>\n",
       "      <td>1</td>\n",
       "      <td>2013</td>\n",
       "      <td>1</td>\n",
       "      <td>1</td>\n",
       "      <td>533.0</td>\n",
       "      <td>529</td>\n",
       "      <td>4.0</td>\n",
       "      <td>850.0</td>\n",
       "      <td>830</td>\n",
       "      <td>20.0</td>\n",
       "      <td>UA</td>\n",
       "      <td>1714</td>\n",
       "      <td>N24211</td>\n",
       "      <td>LGA</td>\n",
       "      <td>IAH</td>\n",
       "      <td>227.0</td>\n",
       "      <td>1416</td>\n",
       "      <td>5</td>\n",
       "      <td>29</td>\n",
       "      <td>2013-01-01T10:00:00Z</td>\n",
       "      <td>24.0</td>\n",
       "    </tr>\n",
       "    <tr>\n",
       "      <td>2</td>\n",
       "      <td>2013</td>\n",
       "      <td>1</td>\n",
       "      <td>1</td>\n",
       "      <td>542.0</td>\n",
       "      <td>540</td>\n",
       "      <td>2.0</td>\n",
       "      <td>923.0</td>\n",
       "      <td>850</td>\n",
       "      <td>33.0</td>\n",
       "      <td>AA</td>\n",
       "      <td>1141</td>\n",
       "      <td>N619AA</td>\n",
       "      <td>JFK</td>\n",
       "      <td>MIA</td>\n",
       "      <td>160.0</td>\n",
       "      <td>1089</td>\n",
       "      <td>5</td>\n",
       "      <td>40</td>\n",
       "      <td>2013-01-01T10:00:00Z</td>\n",
       "      <td>35.0</td>\n",
       "    </tr>\n",
       "    <tr>\n",
       "      <td>3</td>\n",
       "      <td>2013</td>\n",
       "      <td>1</td>\n",
       "      <td>1</td>\n",
       "      <td>544.0</td>\n",
       "      <td>545</td>\n",
       "      <td>-1.0</td>\n",
       "      <td>1004.0</td>\n",
       "      <td>1022</td>\n",
       "      <td>-18.0</td>\n",
       "      <td>B6</td>\n",
       "      <td>725</td>\n",
       "      <td>N804JB</td>\n",
       "      <td>JFK</td>\n",
       "      <td>BQN</td>\n",
       "      <td>183.0</td>\n",
       "      <td>1576</td>\n",
       "      <td>5</td>\n",
       "      <td>45</td>\n",
       "      <td>2013-01-01T10:00:00Z</td>\n",
       "      <td>-19.0</td>\n",
       "    </tr>\n",
       "    <tr>\n",
       "      <td>4</td>\n",
       "      <td>2013</td>\n",
       "      <td>1</td>\n",
       "      <td>1</td>\n",
       "      <td>554.0</td>\n",
       "      <td>600</td>\n",
       "      <td>-6.0</td>\n",
       "      <td>812.0</td>\n",
       "      <td>837</td>\n",
       "      <td>-25.0</td>\n",
       "      <td>DL</td>\n",
       "      <td>461</td>\n",
       "      <td>N668DN</td>\n",
       "      <td>LGA</td>\n",
       "      <td>ATL</td>\n",
       "      <td>116.0</td>\n",
       "      <td>762</td>\n",
       "      <td>6</td>\n",
       "      <td>0</td>\n",
       "      <td>2013-01-01T11:00:00Z</td>\n",
       "      <td>-31.0</td>\n",
       "    </tr>\n",
       "    <tr>\n",
       "      <td>5</td>\n",
       "      <td>2013</td>\n",
       "      <td>1</td>\n",
       "      <td>1</td>\n",
       "      <td>554.0</td>\n",
       "      <td>558</td>\n",
       "      <td>-4.0</td>\n",
       "      <td>740.0</td>\n",
       "      <td>728</td>\n",
       "      <td>12.0</td>\n",
       "      <td>UA</td>\n",
       "      <td>1696</td>\n",
       "      <td>N39463</td>\n",
       "      <td>EWR</td>\n",
       "      <td>ORD</td>\n",
       "      <td>150.0</td>\n",
       "      <td>719</td>\n",
       "      <td>5</td>\n",
       "      <td>58</td>\n",
       "      <td>2013-01-01T10:00:00Z</td>\n",
       "      <td>8.0</td>\n",
       "    </tr>\n",
       "    <tr>\n",
       "      <td>6</td>\n",
       "      <td>2013</td>\n",
       "      <td>1</td>\n",
       "      <td>1</td>\n",
       "      <td>555.0</td>\n",
       "      <td>600</td>\n",
       "      <td>-5.0</td>\n",
       "      <td>913.0</td>\n",
       "      <td>854</td>\n",
       "      <td>19.0</td>\n",
       "      <td>B6</td>\n",
       "      <td>507</td>\n",
       "      <td>N516JB</td>\n",
       "      <td>EWR</td>\n",
       "      <td>FLL</td>\n",
       "      <td>158.0</td>\n",
       "      <td>1065</td>\n",
       "      <td>6</td>\n",
       "      <td>0</td>\n",
       "      <td>2013-01-01T11:00:00Z</td>\n",
       "      <td>14.0</td>\n",
       "    </tr>\n",
       "  </tbody>\n",
       "</table>\n",
       "</div>"
      ],
      "text/plain": [
       "   year  month  day  dep_time  sched_dep_time  dep_delay  arr_time  \\\n",
       "0  2013      1    1     517.0             515        2.0     830.0   \n",
       "1  2013      1    1     533.0             529        4.0     850.0   \n",
       "2  2013      1    1     542.0             540        2.0     923.0   \n",
       "3  2013      1    1     544.0             545       -1.0    1004.0   \n",
       "4  2013      1    1     554.0             600       -6.0     812.0   \n",
       "5  2013      1    1     554.0             558       -4.0     740.0   \n",
       "6  2013      1    1     555.0             600       -5.0     913.0   \n",
       "\n",
       "   sched_arr_time  arr_delay carrier  flight tailnum origin dest  air_time  \\\n",
       "0             819       11.0      UA    1545  N14228    EWR  IAH     227.0   \n",
       "1             830       20.0      UA    1714  N24211    LGA  IAH     227.0   \n",
       "2             850       33.0      AA    1141  N619AA    JFK  MIA     160.0   \n",
       "3            1022      -18.0      B6     725  N804JB    JFK  BQN     183.0   \n",
       "4             837      -25.0      DL     461  N668DN    LGA  ATL     116.0   \n",
       "5             728       12.0      UA    1696  N39463    EWR  ORD     150.0   \n",
       "6             854       19.0      B6     507  N516JB    EWR  FLL     158.0   \n",
       "\n",
       "   distance  hour  minute             time_hour  total_delay  \n",
       "0      1400     5      15  2013-01-01T10:00:00Z         13.0  \n",
       "1      1416     5      29  2013-01-01T10:00:00Z         24.0  \n",
       "2      1089     5      40  2013-01-01T10:00:00Z         35.0  \n",
       "3      1576     5      45  2013-01-01T10:00:00Z        -19.0  \n",
       "4       762     6       0  2013-01-01T11:00:00Z        -31.0  \n",
       "5       719     5      58  2013-01-01T10:00:00Z          8.0  \n",
       "6      1065     6       0  2013-01-01T11:00:00Z         14.0  "
      ]
     },
     "execution_count": 94,
     "metadata": {},
     "output_type": "execute_result"
    }
   ],
   "source": [
    "# A look on our data frame with this change\n",
    "nyc_flights.head(7)"
   ]
  },
  {
   "cell_type": "code",
   "execution_count": 95,
   "metadata": {},
   "outputs": [
    {
     "data": {
      "text/plain": [
       "dest\n",
       "ORD    17283\n",
       "ATL    17215\n",
       "LAX    16174\n",
       "BOS    15508\n",
       "MCO    14082\n",
       "CLT    14064\n",
       "SFO    13331\n",
       "FLL    12055\n",
       "MIA    11728\n",
       "DCA     9705\n",
       "dtype: int64"
      ]
     },
     "execution_count": 95,
     "metadata": {},
     "output_type": "execute_result"
    }
   ],
   "source": [
    "nyc_flights.groupby('dest').size().sort_values(ascending=False).head(10)"
   ]
  },
  {
   "cell_type": "code",
   "execution_count": 96,
   "metadata": {},
   "outputs": [
    {
     "data": {
      "text/plain": [
       "dest\n",
       "CAE    75.575472\n",
       "TUL    68.547619\n",
       "OKC    59.800000\n",
       "Name: total_delay, dtype: float64"
      ]
     },
     "execution_count": 96,
     "metadata": {},
     "output_type": "execute_result"
    }
   ],
   "source": [
    "nyc_flights.groupby(['dest']).total_delay.mean().sort_values(ascending=False).head(3)"
   ]
  },
  {
   "cell_type": "markdown",
   "metadata": {},
   "source": [
    "3. The three worst destinations in terms of the longest typical delay are Columbia Metropolitan Airport (CAE), Tulsa International Airport (TUL), and Will Rogers World Airport (OKC)."
   ]
  },
  {
   "cell_type": "markdown",
   "metadata": {},
   "source": [
    "Now, let's analyse a possible correlation between the season of the year and the delay on flights:"
   ]
  },
  {
   "cell_type": "code",
   "execution_count": 97,
   "metadata": {},
   "outputs": [],
   "source": [
    "# Function that creates a new column with the season of the year that a flight occurred.\n",
    "# Based on: https://stackoverflow.com/questions/21702342/creating-a-new-column-based-on-if-elif-else-condition\n",
    "def season(row):\n",
    "    if row['month'] in [12, 1, 2]:\n",
    "        val = 'winter'\n",
    "    elif row['month'] in [3, 4, 5]:\n",
    "        val = 'spring'\n",
    "    elif row['month'] in [6, 7, 8]:\n",
    "        val = 'summer'\n",
    "    elif row['month'] in [9, 10, 11]:\n",
    "        val = 'autumn'\n",
    "    else:\n",
    "        val = -1\n",
    "    return val"
   ]
  },
  {
   "cell_type": "code",
   "execution_count": 98,
   "metadata": {},
   "outputs": [],
   "source": [
    "# Applies the function to our data frame\n",
    "nyc_flights['season'] = nyc_flights.apply(season, axis=1)"
   ]
  },
  {
   "cell_type": "code",
   "execution_count": 99,
   "metadata": {},
   "outputs": [
    {
     "data": {
      "text/plain": [
       "summer    86995\n",
       "spring    85960\n",
       "autumn    83731\n",
       "winter    80090\n",
       "Name: season, dtype: int64"
      ]
     },
     "execution_count": 99,
     "metadata": {},
     "output_type": "execute_result"
    }
   ],
   "source": [
    "# Quick glance at the distribution of information in our new column\n",
    "nyc_flights.season.value_counts()"
   ]
  },
  {
   "cell_type": "markdown",
   "metadata": {},
   "source": [
    "There is a very similar amount of flights during each season of the year."
   ]
  },
  {
   "cell_type": "code",
   "execution_count": 100,
   "metadata": {},
   "outputs": [
    {
     "data": {
      "text/plain": [
       "season\n",
       "summer    31.195628\n",
       "winter    21.539290\n",
       "spring    20.106945\n",
       "autumn     4.876367\n",
       "Name: total_delay, dtype: float64"
      ]
     },
     "execution_count": 100,
     "metadata": {},
     "output_type": "execute_result"
    }
   ],
   "source": [
    "nyc_flights.groupby(['season']).total_delay.mean().sort_values(ascending=False).head()"
   ]
  },
  {
   "cell_type": "code",
   "execution_count": 101,
   "metadata": {},
   "outputs": [
    {
     "data": {
      "text/plain": [
       "Text(0.5, 1, 'Total delay on flights on each season')"
      ]
     },
     "execution_count": 101,
     "metadata": {},
     "output_type": "execute_result"
    },
    {
     "data": {
      "image/png": "[encoded data removed]",
      "text/plain": [
       "<Figure size 360x360 with 1 Axes>"
      ]
     },
     "metadata": {
      "needs_background": "light"
     },
     "output_type": "display_data"
    }
   ],
   "source": [
    "# Box plot of our data. The 'showfliers' argument equals to False to exclude outliers\n",
    "sns.catplot(x='season', y='total_delay', data=nyc_flights, kind='box', showfliers=False)\n",
    "plt.title('Total delay on flights on each season', fontsize=16)"
   ]
  },
  {
   "cell_type": "markdown",
   "metadata": {},
   "source": [
    "4. As we can see from both the table and the graph above, Autumn quarter experiences the least delay in flights, whereas Summer tends to experience the most. The median delay is very similar for all four quarters though."
   ]
  },
  {
   "cell_type": "code",
   "execution_count": 102,
   "metadata": {},
   "outputs": [],
   "source": [
    "# Function that creates a new column with the period of the day that a flight occurred.\n",
    "# Based on: https://stackoverflow.com/questions/21702342/creating-a-new-column-based-on-if-elif-else-condition\n",
    "def period_day(row):\n",
    "    if row['hour'] < 6:\n",
    "        val = 'early morning'\n",
    "    elif row['hour'] < 12:\n",
    "        val = 'morning'\n",
    "    elif row['hour'] < 18:\n",
    "        val = 'afternoon'\n",
    "    elif row['hour'] < 24:\n",
    "        val = 'night'\n",
    "    else:\n",
    "        val = -1\n",
    "    return val"
   ]
  },
  {
   "cell_type": "code",
   "execution_count": 103,
   "metadata": {},
   "outputs": [],
   "source": [
    "# Applies the function to our data frame\n",
    "nyc_flights['period_day'] = nyc_flights.apply(period_day, axis=1)"
   ]
  },
  {
   "cell_type": "code",
   "execution_count": 104,
   "metadata": {},
   "outputs": [
    {
     "data": {
      "text/plain": [
       "afternoon        131159\n",
       "morning          129067\n",
       "night             74596\n",
       "early morning      1954\n",
       "Name: period_day, dtype: int64"
      ]
     },
     "execution_count": 104,
     "metadata": {},
     "output_type": "execute_result"
    }
   ],
   "source": [
    "# Quick glance at the distribution of information in our new column\n",
    "nyc_flights.period_day.value_counts()"
   ]
  },
  {
   "cell_type": "code",
   "execution_count": 124,
   "metadata": {},
   "outputs": [
    {
     "data": {
      "text/plain": [
       "<matplotlib.axes._subplots.AxesSubplot at 0x2010117fbc8>"
      ]
     },
     "execution_count": 124,
     "metadata": {},
     "output_type": "execute_result"
    },
    {
     "data": {
      "image/png": "[encoded data removed]",
      "text/plain": [
       "<Figure size 432x288 with 1 Axes>"
      ]
     },
     "metadata": {},
     "output_type": "display_data"
    }
   ],
   "source": [
    "sns.set(style=\"whitegrid\")\n",
    "sns.violinplot(x='period_day', y='total_delay', data=nyc_flights, bw=10)"
   ]
  },
  {
   "cell_type": "markdown",
   "metadata": {},
   "source": [
    "5. From the violin plot above, we can see that both the early morning and morning periods experience least delay. On the other hand, flights in the afternoon and during the night tend to experience higher delays.\n",
    "\n",
    "So if you want to avoid any stress, being in the airport early might be the best alternative!"
   ]
  },
  {
   "cell_type": "markdown",
   "metadata": {},
   "source": [
    "6. One of the problems I had with the questions/answers was to choose a graph that efficiently showed the information I wanted to present. The box plot and violin plot seemed like great options for a categorical and numerical variables graph!"
   ]
  },
  {
   "cell_type": "markdown",
   "metadata": {},
   "source": [
    "### 4. San Diego!"
   ]
  },
  {
   "cell_type": "code",
   "execution_count": 130,
   "metadata": {},
   "outputs": [],
   "source": [
    "# Reduced data set that only contains flights from NYC to San Diego (SAN)\n",
    "nyc_san_flights = nyc_flights[nyc_flights['dest'] == 'SAN']"
   ]
  },
  {
   "cell_type": "code",
   "execution_count": 164,
   "metadata": {},
   "outputs": [
    {
     "data": {
      "text/html": [
       "<div>\n",
       "<style scoped>\n",
       "    .dataframe tbody tr th:only-of-type {\n",
       "        vertical-align: middle;\n",
       "    }\n",
       "\n",
       "    .dataframe tbody tr th {\n",
       "        vertical-align: top;\n",
       "    }\n",
       "\n",
       "    .dataframe thead th {\n",
       "        text-align: right;\n",
       "    }\n",
       "</style>\n",
       "<table border=\"1\" class=\"dataframe\">\n",
       "  <thead>\n",
       "    <tr style=\"text-align: right;\">\n",
       "      <th></th>\n",
       "      <th>year</th>\n",
       "      <th>month</th>\n",
       "      <th>day</th>\n",
       "      <th>dep_time</th>\n",
       "      <th>sched_dep_time</th>\n",
       "      <th>dep_delay</th>\n",
       "      <th>arr_time</th>\n",
       "      <th>sched_arr_time</th>\n",
       "      <th>arr_delay</th>\n",
       "      <th>carrier</th>\n",
       "      <th>...</th>\n",
       "      <th>origin</th>\n",
       "      <th>dest</th>\n",
       "      <th>air_time</th>\n",
       "      <th>distance</th>\n",
       "      <th>hour</th>\n",
       "      <th>minute</th>\n",
       "      <th>time_hour</th>\n",
       "      <th>total_delay</th>\n",
       "      <th>season</th>\n",
       "      <th>period_day</th>\n",
       "    </tr>\n",
       "  </thead>\n",
       "  <tbody>\n",
       "    <tr>\n",
       "      <td>128</td>\n",
       "      <td>2013</td>\n",
       "      <td>1</td>\n",
       "      <td>1</td>\n",
       "      <td>821.0</td>\n",
       "      <td>820</td>\n",
       "      <td>1.0</td>\n",
       "      <td>1153.0</td>\n",
       "      <td>1129</td>\n",
       "      <td>24.0</td>\n",
       "      <td>B6</td>\n",
       "      <td>...</td>\n",
       "      <td>JFK</td>\n",
       "      <td>SAN</td>\n",
       "      <td>354.0</td>\n",
       "      <td>2446</td>\n",
       "      <td>8</td>\n",
       "      <td>20</td>\n",
       "      <td>2013-01-01T13:00:00Z</td>\n",
       "      <td>25.0</td>\n",
       "      <td>winter</td>\n",
       "      <td>morning</td>\n",
       "    </tr>\n",
       "    <tr>\n",
       "      <td>155</td>\n",
       "      <td>2013</td>\n",
       "      <td>1</td>\n",
       "      <td>1</td>\n",
       "      <td>851.0</td>\n",
       "      <td>840</td>\n",
       "      <td>11.0</td>\n",
       "      <td>1215.0</td>\n",
       "      <td>1206</td>\n",
       "      <td>9.0</td>\n",
       "      <td>UA</td>\n",
       "      <td>...</td>\n",
       "      <td>EWR</td>\n",
       "      <td>SAN</td>\n",
       "      <td>367.0</td>\n",
       "      <td>2425</td>\n",
       "      <td>8</td>\n",
       "      <td>40</td>\n",
       "      <td>2013-01-01T13:00:00Z</td>\n",
       "      <td>20.0</td>\n",
       "      <td>winter</td>\n",
       "      <td>morning</td>\n",
       "    </tr>\n",
       "    <tr>\n",
       "      <td>492</td>\n",
       "      <td>2013</td>\n",
       "      <td>1</td>\n",
       "      <td>1</td>\n",
       "      <td>1542.0</td>\n",
       "      <td>1545</td>\n",
       "      <td>-3.0</td>\n",
       "      <td>1852.0</td>\n",
       "      <td>1913</td>\n",
       "      <td>-21.0</td>\n",
       "      <td>DL</td>\n",
       "      <td>...</td>\n",
       "      <td>JFK</td>\n",
       "      <td>SAN</td>\n",
       "      <td>342.0</td>\n",
       "      <td>2446</td>\n",
       "      <td>15</td>\n",
       "      <td>45</td>\n",
       "      <td>2013-01-01T20:00:00Z</td>\n",
       "      <td>-24.0</td>\n",
       "      <td>winter</td>\n",
       "      <td>afternoon</td>\n",
       "    </tr>\n",
       "    <tr>\n",
       "      <td>550</td>\n",
       "      <td>2013</td>\n",
       "      <td>1</td>\n",
       "      <td>1</td>\n",
       "      <td>1631.0</td>\n",
       "      <td>1630</td>\n",
       "      <td>1.0</td>\n",
       "      <td>1935.0</td>\n",
       "      <td>1950</td>\n",
       "      <td>-15.0</td>\n",
       "      <td>UA</td>\n",
       "      <td>...</td>\n",
       "      <td>EWR</td>\n",
       "      <td>SAN</td>\n",
       "      <td>346.0</td>\n",
       "      <td>2425</td>\n",
       "      <td>16</td>\n",
       "      <td>30</td>\n",
       "      <td>2013-01-01T21:00:00Z</td>\n",
       "      <td>-14.0</td>\n",
       "      <td>winter</td>\n",
       "      <td>afternoon</td>\n",
       "    </tr>\n",
       "    <tr>\n",
       "      <td>564</td>\n",
       "      <td>2013</td>\n",
       "      <td>1</td>\n",
       "      <td>1</td>\n",
       "      <td>1651.0</td>\n",
       "      <td>1650</td>\n",
       "      <td>1.0</td>\n",
       "      <td>2000.0</td>\n",
       "      <td>2004</td>\n",
       "      <td>-4.0</td>\n",
       "      <td>B6</td>\n",
       "      <td>...</td>\n",
       "      <td>JFK</td>\n",
       "      <td>SAN</td>\n",
       "      <td>349.0</td>\n",
       "      <td>2446</td>\n",
       "      <td>16</td>\n",
       "      <td>50</td>\n",
       "      <td>2013-01-01T21:00:00Z</td>\n",
       "      <td>-3.0</td>\n",
       "      <td>winter</td>\n",
       "      <td>afternoon</td>\n",
       "    </tr>\n",
       "    <tr>\n",
       "      <td>603</td>\n",
       "      <td>2013</td>\n",
       "      <td>1</td>\n",
       "      <td>1</td>\n",
       "      <td>1727.0</td>\n",
       "      <td>1725</td>\n",
       "      <td>2.0</td>\n",
       "      <td>2043.0</td>\n",
       "      <td>2040</td>\n",
       "      <td>3.0</td>\n",
       "      <td>AA</td>\n",
       "      <td>...</td>\n",
       "      <td>JFK</td>\n",
       "      <td>SAN</td>\n",
       "      <td>357.0</td>\n",
       "      <td>2446</td>\n",
       "      <td>17</td>\n",
       "      <td>25</td>\n",
       "      <td>2013-01-01T22:00:00Z</td>\n",
       "      <td>5.0</td>\n",
       "      <td>winter</td>\n",
       "      <td>afternoon</td>\n",
       "    </tr>\n",
       "    <tr>\n",
       "      <td>643</td>\n",
       "      <td>2013</td>\n",
       "      <td>1</td>\n",
       "      <td>1</td>\n",
       "      <td>1807.0</td>\n",
       "      <td>1738</td>\n",
       "      <td>29.0</td>\n",
       "      <td>2251.0</td>\n",
       "      <td>2103</td>\n",
       "      <td>NaN</td>\n",
       "      <td>UA</td>\n",
       "      <td>...</td>\n",
       "      <td>EWR</td>\n",
       "      <td>SAN</td>\n",
       "      <td>NaN</td>\n",
       "      <td>2425</td>\n",
       "      <td>17</td>\n",
       "      <td>38</td>\n",
       "      <td>2013-01-01T22:00:00Z</td>\n",
       "      <td>NaN</td>\n",
       "      <td>winter</td>\n",
       "      <td>afternoon</td>\n",
       "    </tr>\n",
       "  </tbody>\n",
       "</table>\n",
       "<p>7 rows × 22 columns</p>\n",
       "</div>"
      ],
      "text/plain": [
       "     year  month  day  dep_time  sched_dep_time  dep_delay  arr_time  \\\n",
       "128  2013      1    1     821.0             820        1.0    1153.0   \n",
       "155  2013      1    1     851.0             840       11.0    1215.0   \n",
       "492  2013      1    1    1542.0            1545       -3.0    1852.0   \n",
       "550  2013      1    1    1631.0            1630        1.0    1935.0   \n",
       "564  2013      1    1    1651.0            1650        1.0    2000.0   \n",
       "603  2013      1    1    1727.0            1725        2.0    2043.0   \n",
       "643  2013      1    1    1807.0            1738       29.0    2251.0   \n",
       "\n",
       "     sched_arr_time  arr_delay carrier  ...  origin dest air_time distance  \\\n",
       "128            1129       24.0      B6  ...     JFK  SAN    354.0     2446   \n",
       "155            1206        9.0      UA  ...     EWR  SAN    367.0     2425   \n",
       "492            1913      -21.0      DL  ...     JFK  SAN    342.0     2446   \n",
       "550            1950      -15.0      UA  ...     EWR  SAN    346.0     2425   \n",
       "564            2004       -4.0      B6  ...     JFK  SAN    349.0     2446   \n",
       "603            2040        3.0      AA  ...     JFK  SAN    357.0     2446   \n",
       "643            2103        NaN      UA  ...     EWR  SAN      NaN     2425   \n",
       "\n",
       "     hour  minute             time_hour  total_delay  season  period_day  \n",
       "128     8      20  2013-01-01T13:00:00Z         25.0  winter     morning  \n",
       "155     8      40  2013-01-01T13:00:00Z         20.0  winter     morning  \n",
       "492    15      45  2013-01-01T20:00:00Z        -24.0  winter   afternoon  \n",
       "550    16      30  2013-01-01T21:00:00Z        -14.0  winter   afternoon  \n",
       "564    16      50  2013-01-01T21:00:00Z         -3.0  winter   afternoon  \n",
       "603    17      25  2013-01-01T22:00:00Z          5.0  winter   afternoon  \n",
       "643    17      38  2013-01-01T22:00:00Z          NaN  winter   afternoon  \n",
       "\n",
       "[7 rows x 22 columns]"
      ]
     },
     "execution_count": 164,
     "metadata": {},
     "output_type": "execute_result"
    }
   ],
   "source": [
    "# Brief look at our reduced data set\n",
    "nyc_san_flights.head(7)"
   ]
  },
  {
   "cell_type": "code",
   "execution_count": 135,
   "metadata": {},
   "outputs": [
    {
     "data": {
      "text/plain": [
       "2737"
      ]
     },
     "execution_count": 135,
     "metadata": {},
     "output_type": "execute_result"
    }
   ],
   "source": [
    "nyc_san_flights[nyc_san_flights.year == 2013].shape[0]"
   ]
  },
  {
   "cell_type": "markdown",
   "metadata": {},
   "source": [
    "1. In 2013, there were 2737 flights from NYC to San Diego."
   ]
  },
  {
   "cell_type": "code",
   "execution_count": 141,
   "metadata": {},
   "outputs": [
    {
     "data": {
      "text/plain": [
       "4"
      ]
     },
     "execution_count": 141,
     "metadata": {},
     "output_type": "execute_result"
    }
   ],
   "source": [
    "nyc_san_flights.carrier.nunique()"
   ]
  },
  {
   "cell_type": "code",
   "execution_count": 142,
   "metadata": {},
   "outputs": [
    {
     "data": {
      "text/plain": [
       "array(['B6', 'UA', 'DL', 'AA'], dtype=object)"
      ]
     },
     "execution_count": 142,
     "metadata": {},
     "output_type": "execute_result"
    }
   ],
   "source": [
    "nyc_san_flights.carrier.unique()"
   ]
  },
  {
   "cell_type": "markdown",
   "metadata": {},
   "source": [
    "2. A total of 4 airlines flew from NYC to San Diego \n",
    "3. These are: JetBlue (B6), United Airlines (UA), Delta (DL), and American Airlines (AA)."
   ]
  },
  {
   "cell_type": "code",
   "execution_count": 144,
   "metadata": {},
   "outputs": [
    {
     "data": {
      "text/plain": [
       "UA    1134\n",
       "B6     663\n",
       "DL     575\n",
       "AA     365\n",
       "Name: carrier, dtype: int64"
      ]
     },
     "execution_count": 144,
     "metadata": {},
     "output_type": "execute_result"
    }
   ],
   "source": [
    "nyc_san_flights.carrier.value_counts()"
   ]
  },
  {
   "cell_type": "markdown",
   "metadata": {},
   "source": [
    "Their number of flights were the following:\n",
    "- United Airlines (UA): 1134\n",
    "- JetBlue (B6): 663\n",
    "- Delta (DL): 575\n",
    "- American Airlines (AA): 365"
   ]
  },
  {
   "cell_type": "code",
   "execution_count": 148,
   "metadata": {},
   "outputs": [
    {
     "data": {
      "text/plain": [
       "761"
      ]
     },
     "execution_count": 148,
     "metadata": {},
     "output_type": "execute_result"
    }
   ],
   "source": [
    "# The 'tailnum' variable stores the plane's tail number, which is its identifier.\n",
    "nyc_san_flights.tailnum.nunique()"
   ]
  },
  {
   "cell_type": "markdown",
   "metadata": {},
   "source": [
    "4. As we can see from the data, 761 unique planes flew from NYC to San Diego."
   ]
  },
  {
   "cell_type": "code",
   "execution_count": 161,
   "metadata": {},
   "outputs": [
    {
     "data": {
      "text/plain": [
       "origin\n",
       "JFK    397\n",
       "EWR    364\n",
       "Name: tailnum, dtype: int64"
      ]
     },
     "execution_count": 161,
     "metadata": {},
     "output_type": "execute_result"
    }
   ],
   "source": [
    "nyc_san_flights.groupby('origin').tailnum.nunique().sort_values(ascending=False)"
   ]
  },
  {
   "cell_type": "markdown",
   "metadata": {},
   "source": [
    "5. In total, 397 planes arrived in San Diego from JFK, 364 from EWR and 0 from LGA."
   ]
  },
  {
   "cell_type": "code",
   "execution_count": 176,
   "metadata": {},
   "outputs": [
    {
     "data": {
      "text/plain": [
       "325.53"
      ]
     },
     "execution_count": 176,
     "metadata": {},
     "output_type": "execute_result"
    }
   ],
   "source": [
    "round((nyc_san_flights.air_time).mean(), 2)"
   ]
  },
  {
   "cell_type": "code",
   "execution_count": 177,
   "metadata": {},
   "outputs": [
    {
     "data": {
      "text/plain": [
       "max    413.0\n",
       "min    279.0\n",
       "Name: air_time, dtype: float64"
      ]
     },
     "execution_count": 177,
     "metadata": {},
     "output_type": "execute_result"
    }
   ],
   "source": [
    "(nyc_san_flights.air_time).agg(['max', 'min'])"
   ]
  },
  {
   "cell_type": "markdown",
   "metadata": {},
   "source": [
    "6. The average flight duration to San Diego was of 325.53 minutes, or about 5 hours and 25 minutes. This result is not the same as the one in flight schedules, as most flights from New York take **at least** 6 hours and 15 minutes to reach San Diego. \n",
    "\n",
    "One hypothesis is that this data set does **not** account for the change in **time zones**. San Diego is in the Pacific Standard Time (GMT-8) whereas New York is in the Eastern Standard Time (GMT -5). Therefore, adding the 3 hours of difference in time zone, we could get an average flight duration of 8 hours and 25 minutes.\n",
    "\n",
    "The slowest flight took 413 hours and the fastest arrived in San Diego 279 hours before departure time."
   ]
  },
  {
   "cell_type": "code",
   "execution_count": 193,
   "metadata": {},
   "outputs": [
    {
     "data": {
      "text/plain": [
       "23.31"
      ]
     },
     "execution_count": 193,
     "metadata": {},
     "output_type": "execute_result"
    }
   ],
   "source": [
    "round((nyc_san_flights[nyc_san_flights.arr_delay > 15].shape[0] / nyc_san_flights.shape[0]) * 100, 2)"
   ]
  },
  {
   "cell_type": "markdown",
   "metadata": {},
   "source": [
    "7. Another interesting statistic from our data set: about 23% of all flights from New York to San Diego got delayed at **arrival** by _more than_ 15 minutes."
   ]
  },
  {
   "cell_type": "code",
   "execution_count": 200,
   "metadata": {},
   "outputs": [
    {
     "data": {
      "text/plain": [
       "23.46"
      ]
     },
     "execution_count": 200,
     "metadata": {},
     "output_type": "execute_result"
    }
   ],
   "source": [
    "round(nyc_san_flights[(nyc_san_flights.origin == 'JFK') & (nyc_san_flights.arr_delay > 15)].shape[0] / nyc_san_flights[nyc_san_flights.origin == 'JFK'].shape[0] * 100, 2)"
   ]
  },
  {
   "cell_type": "code",
   "execution_count": 201,
   "metadata": {},
   "outputs": [
    {
     "data": {
      "text/plain": [
       "23.1"
      ]
     },
     "execution_count": 201,
     "metadata": {},
     "output_type": "execute_result"
    }
   ],
   "source": [
    "round(nyc_san_flights[(nyc_san_flights.origin == 'EWR') & (nyc_san_flights.arr_delay > 15)].shape[0] / nyc_san_flights[nyc_san_flights.origin == 'EWR'].shape[0] * 100, 2)"
   ]
  },
  {
   "cell_type": "code",
   "execution_count": 205,
   "metadata": {},
   "outputs": [],
   "source": [
    "# This would result in a ZeroDivisionError as we do not have data of flights from LGA to SAN in this data set.\n",
    "\n",
    "# round(nyc_san_flights[(nyc_san_flights.origin == 'LGA') & (nyc_san_flights.arr_delay > 15)].shape[0] / nyc_san_flights[nyc_san_flights.origin == 'LGA'].shape[0] * 100, 2)"
   ]
  },
  {
   "cell_type": "markdown",
   "metadata": {},
   "source": [
    "8. It seems that flights leaving from either the JFK or EWR airports faced very similar arrival delays. There is **not** a considerable disparity between the two airports in this category."
   ]
  },
  {
   "cell_type": "markdown",
   "metadata": {},
   "source": [
    "### 5. What are these planes?"
   ]
  },
  {
   "cell_type": "code",
   "execution_count": 207,
   "metadata": {},
   "outputs": [],
   "source": [
    "# Loads the data set\n",
    "planes = pd.read_csv(\"./Downloads/planes.csv.bz2\", sep=\"\\t\")"
   ]
  },
  {
   "cell_type": "code",
   "execution_count": 209,
   "metadata": {},
   "outputs": [
    {
     "data": {
      "text/plain": [
       "Index(['tailnum', 'year', 'type', 'manufacturer', 'model', 'engines', 'seats',\n",
       "       'speed', 'engine'],\n",
       "      dtype='object')"
      ]
     },
     "execution_count": 209,
     "metadata": {},
     "output_type": "execute_result"
    }
   ],
   "source": [
    "planes.columns"
   ]
  },
  {
   "cell_type": "code",
   "execution_count": 210,
   "metadata": {},
   "outputs": [
    {
     "data": {
      "text/plain": [
       "3322"
      ]
     },
     "execution_count": 210,
     "metadata": {},
     "output_type": "execute_result"
    }
   ],
   "source": [
    "planes.shape[0]"
   ]
  },
  {
   "cell_type": "markdown",
   "metadata": {},
   "source": [
    "1. There are 3322 planes in total, and the variables are: 'tailnum', 'year', 'type', 'manufacturer', 'model', 'engines', 'seats', speed', 'engine'."
   ]
  },
  {
   "cell_type": "markdown",
   "metadata": {},
   "source": [
    "2. Both data sets ('flights' and 'planes') have the **'tailnum'** variable in common. Therefore, we shall use it as the _merge key_ for these data sets."
   ]
  },
  {
   "cell_type": "code",
   "execution_count": 231,
   "metadata": {},
   "outputs": [],
   "source": [
    "nyc_san_flights_planes = pd.merge(nyc_san_flights, planes, on='tailnum', how='inner')"
   ]
  },
  {
   "cell_type": "code",
   "execution_count": 232,
   "metadata": {},
   "outputs": [
    {
     "data": {
      "text/html": [
       "<div>\n",
       "<style scoped>\n",
       "    .dataframe tbody tr th:only-of-type {\n",
       "        vertical-align: middle;\n",
       "    }\n",
       "\n",
       "    .dataframe tbody tr th {\n",
       "        vertical-align: top;\n",
       "    }\n",
       "\n",
       "    .dataframe thead th {\n",
       "        text-align: right;\n",
       "    }\n",
       "</style>\n",
       "<table border=\"1\" class=\"dataframe\">\n",
       "  <thead>\n",
       "    <tr style=\"text-align: right;\">\n",
       "      <th></th>\n",
       "      <th>year_x</th>\n",
       "      <th>month</th>\n",
       "      <th>day</th>\n",
       "      <th>dep_time</th>\n",
       "      <th>sched_dep_time</th>\n",
       "      <th>dep_delay</th>\n",
       "      <th>arr_time</th>\n",
       "      <th>sched_arr_time</th>\n",
       "      <th>arr_delay</th>\n",
       "      <th>carrier</th>\n",
       "      <th>...</th>\n",
       "      <th>season</th>\n",
       "      <th>period_day</th>\n",
       "      <th>year_y</th>\n",
       "      <th>type</th>\n",
       "      <th>manufacturer</th>\n",
       "      <th>model</th>\n",
       "      <th>engines</th>\n",
       "      <th>seats</th>\n",
       "      <th>speed</th>\n",
       "      <th>engine</th>\n",
       "    </tr>\n",
       "  </thead>\n",
       "  <tbody>\n",
       "    <tr>\n",
       "      <td>0</td>\n",
       "      <td>2013</td>\n",
       "      <td>1</td>\n",
       "      <td>1</td>\n",
       "      <td>821.0</td>\n",
       "      <td>820</td>\n",
       "      <td>1.0</td>\n",
       "      <td>1153.0</td>\n",
       "      <td>1129</td>\n",
       "      <td>24.0</td>\n",
       "      <td>B6</td>\n",
       "      <td>...</td>\n",
       "      <td>winter</td>\n",
       "      <td>morning</td>\n",
       "      <td>2001.0</td>\n",
       "      <td>Fixed wing multi engine</td>\n",
       "      <td>AIRBUS INDUSTRIE</td>\n",
       "      <td>A320-232</td>\n",
       "      <td>2</td>\n",
       "      <td>200</td>\n",
       "      <td>NaN</td>\n",
       "      <td>Turbo-fan</td>\n",
       "    </tr>\n",
       "    <tr>\n",
       "      <td>1</td>\n",
       "      <td>2013</td>\n",
       "      <td>12</td>\n",
       "      <td>26</td>\n",
       "      <td>858.0</td>\n",
       "      <td>900</td>\n",
       "      <td>-2.0</td>\n",
       "      <td>1158.0</td>\n",
       "      <td>1210</td>\n",
       "      <td>-12.0</td>\n",
       "      <td>B6</td>\n",
       "      <td>...</td>\n",
       "      <td>winter</td>\n",
       "      <td>morning</td>\n",
       "      <td>2001.0</td>\n",
       "      <td>Fixed wing multi engine</td>\n",
       "      <td>AIRBUS INDUSTRIE</td>\n",
       "      <td>A320-232</td>\n",
       "      <td>2</td>\n",
       "      <td>200</td>\n",
       "      <td>NaN</td>\n",
       "      <td>Turbo-fan</td>\n",
       "    </tr>\n",
       "    <tr>\n",
       "      <td>2</td>\n",
       "      <td>2013</td>\n",
       "      <td>2</td>\n",
       "      <td>20</td>\n",
       "      <td>907.0</td>\n",
       "      <td>825</td>\n",
       "      <td>42.0</td>\n",
       "      <td>1233.0</td>\n",
       "      <td>1133</td>\n",
       "      <td>60.0</td>\n",
       "      <td>B6</td>\n",
       "      <td>...</td>\n",
       "      <td>winter</td>\n",
       "      <td>morning</td>\n",
       "      <td>2001.0</td>\n",
       "      <td>Fixed wing multi engine</td>\n",
       "      <td>AIRBUS INDUSTRIE</td>\n",
       "      <td>A320-232</td>\n",
       "      <td>2</td>\n",
       "      <td>200</td>\n",
       "      <td>NaN</td>\n",
       "      <td>Turbo-fan</td>\n",
       "    </tr>\n",
       "    <tr>\n",
       "      <td>3</td>\n",
       "      <td>2013</td>\n",
       "      <td>2</td>\n",
       "      <td>21</td>\n",
       "      <td>1703.0</td>\n",
       "      <td>1645</td>\n",
       "      <td>18.0</td>\n",
       "      <td>2009.0</td>\n",
       "      <td>2000</td>\n",
       "      <td>9.0</td>\n",
       "      <td>B6</td>\n",
       "      <td>...</td>\n",
       "      <td>winter</td>\n",
       "      <td>afternoon</td>\n",
       "      <td>2001.0</td>\n",
       "      <td>Fixed wing multi engine</td>\n",
       "      <td>AIRBUS INDUSTRIE</td>\n",
       "      <td>A320-232</td>\n",
       "      <td>2</td>\n",
       "      <td>200</td>\n",
       "      <td>NaN</td>\n",
       "      <td>Turbo-fan</td>\n",
       "    </tr>\n",
       "    <tr>\n",
       "      <td>4</td>\n",
       "      <td>2013</td>\n",
       "      <td>5</td>\n",
       "      <td>20</td>\n",
       "      <td>1657.0</td>\n",
       "      <td>1640</td>\n",
       "      <td>17.0</td>\n",
       "      <td>1939.0</td>\n",
       "      <td>1956</td>\n",
       "      <td>-17.0</td>\n",
       "      <td>B6</td>\n",
       "      <td>...</td>\n",
       "      <td>spring</td>\n",
       "      <td>afternoon</td>\n",
       "      <td>2001.0</td>\n",
       "      <td>Fixed wing multi engine</td>\n",
       "      <td>AIRBUS INDUSTRIE</td>\n",
       "      <td>A320-232</td>\n",
       "      <td>2</td>\n",
       "      <td>200</td>\n",
       "      <td>NaN</td>\n",
       "      <td>Turbo-fan</td>\n",
       "    </tr>\n",
       "    <tr>\n",
       "      <td>5</td>\n",
       "      <td>2013</td>\n",
       "      <td>8</td>\n",
       "      <td>5</td>\n",
       "      <td>1709.0</td>\n",
       "      <td>1635</td>\n",
       "      <td>34.0</td>\n",
       "      <td>1934.0</td>\n",
       "      <td>1938</td>\n",
       "      <td>-4.0</td>\n",
       "      <td>B6</td>\n",
       "      <td>...</td>\n",
       "      <td>summer</td>\n",
       "      <td>afternoon</td>\n",
       "      <td>2001.0</td>\n",
       "      <td>Fixed wing multi engine</td>\n",
       "      <td>AIRBUS INDUSTRIE</td>\n",
       "      <td>A320-232</td>\n",
       "      <td>2</td>\n",
       "      <td>200</td>\n",
       "      <td>NaN</td>\n",
       "      <td>Turbo-fan</td>\n",
       "    </tr>\n",
       "    <tr>\n",
       "      <td>6</td>\n",
       "      <td>2013</td>\n",
       "      <td>9</td>\n",
       "      <td>26</td>\n",
       "      <td>1651.0</td>\n",
       "      <td>1651</td>\n",
       "      <td>0.0</td>\n",
       "      <td>1931.0</td>\n",
       "      <td>1957</td>\n",
       "      <td>-26.0</td>\n",
       "      <td>B6</td>\n",
       "      <td>...</td>\n",
       "      <td>autumn</td>\n",
       "      <td>afternoon</td>\n",
       "      <td>2001.0</td>\n",
       "      <td>Fixed wing multi engine</td>\n",
       "      <td>AIRBUS INDUSTRIE</td>\n",
       "      <td>A320-232</td>\n",
       "      <td>2</td>\n",
       "      <td>200</td>\n",
       "      <td>NaN</td>\n",
       "      <td>Turbo-fan</td>\n",
       "    </tr>\n",
       "  </tbody>\n",
       "</table>\n",
       "<p>7 rows × 30 columns</p>\n",
       "</div>"
      ],
      "text/plain": [
       "   year_x  month  day  dep_time  sched_dep_time  dep_delay  arr_time  \\\n",
       "0    2013      1    1     821.0             820        1.0    1153.0   \n",
       "1    2013     12   26     858.0             900       -2.0    1158.0   \n",
       "2    2013      2   20     907.0             825       42.0    1233.0   \n",
       "3    2013      2   21    1703.0            1645       18.0    2009.0   \n",
       "4    2013      5   20    1657.0            1640       17.0    1939.0   \n",
       "5    2013      8    5    1709.0            1635       34.0    1934.0   \n",
       "6    2013      9   26    1651.0            1651        0.0    1931.0   \n",
       "\n",
       "   sched_arr_time  arr_delay carrier  ...  season period_day  year_y  \\\n",
       "0            1129       24.0      B6  ...  winter    morning  2001.0   \n",
       "1            1210      -12.0      B6  ...  winter    morning  2001.0   \n",
       "2            1133       60.0      B6  ...  winter    morning  2001.0   \n",
       "3            2000        9.0      B6  ...  winter  afternoon  2001.0   \n",
       "4            1956      -17.0      B6  ...  spring  afternoon  2001.0   \n",
       "5            1938       -4.0      B6  ...  summer  afternoon  2001.0   \n",
       "6            1957      -26.0      B6  ...  autumn  afternoon  2001.0   \n",
       "\n",
       "                      type      manufacturer     model  engines  seats speed  \\\n",
       "0  Fixed wing multi engine  AIRBUS INDUSTRIE  A320-232        2    200   NaN   \n",
       "1  Fixed wing multi engine  AIRBUS INDUSTRIE  A320-232        2    200   NaN   \n",
       "2  Fixed wing multi engine  AIRBUS INDUSTRIE  A320-232        2    200   NaN   \n",
       "3  Fixed wing multi engine  AIRBUS INDUSTRIE  A320-232        2    200   NaN   \n",
       "4  Fixed wing multi engine  AIRBUS INDUSTRIE  A320-232        2    200   NaN   \n",
       "5  Fixed wing multi engine  AIRBUS INDUSTRIE  A320-232        2    200   NaN   \n",
       "6  Fixed wing multi engine  AIRBUS INDUSTRIE  A320-232        2    200   NaN   \n",
       "\n",
       "      engine  \n",
       "0  Turbo-fan  \n",
       "1  Turbo-fan  \n",
       "2  Turbo-fan  \n",
       "3  Turbo-fan  \n",
       "4  Turbo-fan  \n",
       "5  Turbo-fan  \n",
       "6  Turbo-fan  \n",
       "\n",
       "[7 rows x 30 columns]"
      ]
     },
     "execution_count": 232,
     "metadata": {},
     "output_type": "execute_result"
    }
   ],
   "source": [
    "nyc_san_flights_planes.head(7)"
   ]
  },
  {
   "cell_type": "code",
   "execution_count": 233,
   "metadata": {},
   "outputs": [
    {
     "data": {
      "text/plain": [
       "2363"
      ]
     },
     "execution_count": 233,
     "metadata": {},
     "output_type": "execute_result"
    }
   ],
   "source": [
    "nyc_san_flights_planes.shape[0]"
   ]
  },
  {
   "cell_type": "markdown",
   "metadata": {},
   "source": [
    "3. I used an **inner merge** as the new data set will only cntain the common values in both the left and right dataframes. Therefore we avoid some null values.\n",
    "\n",
    "As we can see, we have 2363 rows with available data."
   ]
  },
  {
   "cell_type": "code",
   "execution_count": 219,
   "metadata": {},
   "outputs": [],
   "source": [
    "# To use some more complex RegEx functions, let's import its Python library:\n",
    "import re"
   ]
  },
  {
   "cell_type": "code",
   "execution_count": 220,
   "metadata": {},
   "outputs": [],
   "source": [
    "airbus_320 = re.compile('A318|A319|A320|A321')\n",
    "boeing_373 = re.compile('737')"
   ]
  },
  {
   "cell_type": "markdown",
   "metadata": {},
   "source": [
    "4. Airbus 320-series VS Boeing 737 planes"
   ]
  },
  {
   "cell_type": "code",
   "execution_count": 234,
   "metadata": {},
   "outputs": [
    {
     "data": {
      "text/plain": [
       "0"
      ]
     },
     "execution_count": 234,
     "metadata": {},
     "output_type": "execute_result"
    }
   ],
   "source": [
    "nyc_san_flights_planes.seats.isnull().sum()"
   ]
  },
  {
   "cell_type": "markdown",
   "metadata": {},
   "source": [
    "5. By inner merging both data sets, we ended up **not having any rows** without data about the number of seats in the plane."
   ]
  },
  {
   "cell_type": "code",
   "execution_count": 238,
   "metadata": {},
   "outputs": [
    {
     "data": {
      "text/plain": [
       "207"
      ]
     },
     "execution_count": 238,
     "metadata": {},
     "output_type": "execute_result"
    }
   ],
   "source": [
    "# We can find out the index of the largest plane in terms of seats with the idxmax() function\n",
    "# Credits: https://stackoverflow.com/questions/10202570/find-row-where-values-for-column-is-maximal-in-a-pandas-dataframe\n",
    "nyc_san_flights_planes.seats.idxmax()"
   ]
  },
  {
   "cell_type": "code",
   "execution_count": 241,
   "metadata": {},
   "outputs": [
    {
     "data": {
      "text/plain": [
       "seats               330\n",
       "manufacturer     BOEING\n",
       "model           767-323\n",
       "Name: 207, dtype: object"
      ]
     },
     "execution_count": 241,
     "metadata": {},
     "output_type": "execute_result"
    }
   ],
   "source": [
    "nyc_san_flights_planes.loc[207, ['seats', 'manufacturer', 'model']]"
   ]
  },
  {
   "cell_type": "markdown",
   "metadata": {},
   "source": [
    "6. The largest airplane is a Boeing 767-323, containing 330 seats."
   ]
  },
  {
   "cell_type": "code",
   "execution_count": 242,
   "metadata": {},
   "outputs": [
    {
     "data": {
      "text/plain": [
       "origin\n",
       "EWR    178\n",
       "JFK    200\n",
       "Name: seats, dtype: int64"
      ]
     },
     "execution_count": 242,
     "metadata": {},
     "output_type": "execute_result"
    }
   ],
   "source": [
    "nyc_san_flights_planes.groupby('origin').seats.median()"
   ]
  },
  {
   "cell_type": "markdown",
   "metadata": {},
   "source": [
    "7. The median number of seats of planes going to San Diego from the EWR airport is 178, and from JFK it's 200."
   ]
  },
  {
   "cell_type": "markdown",
   "metadata": {},
   "source": [
    "### 6. Reflections"
   ]
  },
  {
   "cell_type": "markdown",
   "metadata": {},
   "source": [
    "1. One issue I had with the data was deciding which type of _merge_ to use. I believe this is an important topic to go deeper into during lecture.\n",
    "\n",
    "2. No ethical concerns, we did not reveal personal information about any of the passengers nor the companies.\n",
    "\n",
    "3. These questions can be answered and can be used by the airports and the flight companies for business analytics. Besides, of course, it can be used to teach beginner students into the field of Data Science!"
   ]
  },
  {
   "cell_type": "code",
   "execution_count": null,
   "metadata": {},
   "outputs": [],
   "source": []
  }
 ],
 "metadata": {
  "kernelspec": {
   "display_name": "Python 3",
   "language": "python",
   "name": "python3"
  },
  "language_info": {
   "codemirror_mode": {
    "name": "ipython",
    "version": 3
   },
   "file_extension": ".py",
   "mimetype": "text/x-python",
   "name": "python",
   "nbconvert_exporter": "python",
   "pygments_lexer": "ipython3",
   "version": "3.7.4"
  }
 },
 "nbformat": 4,
 "nbformat_minor": 2
}
