{
 "cells": [
  {
   "cell_type": "code",
   "execution_count": 402,
   "metadata": {},
   "outputs": [],
   "source": [
    "import pandas as pd\n",
    "import numpy as np\n",
    "import matplotlib.pyplot as plt\n",
    "import warnings\n",
    "warnings.filterwarnings(\"ignore\")"
   ]
  },
  {
   "cell_type": "markdown",
   "metadata": {},
   "source": [
    "## 1 - Multiple Regression"
   ]
  },
  {
   "cell_type": "markdown",
   "metadata": {},
   "source": [
    "#### 1.1 - Loading datasets and getting a perspective on them"
   ]
  },
  {
   "cell_type": "code",
   "execution_count": 403,
   "metadata": {},
   "outputs": [],
   "source": [
    "elections = pd.read_csv('./Downloads/us-elections-2016.csv.bz2', sep='\\t')\n",
    "county = pd.read_csv('./Downloads/county-data.csv.bz2', sep=',')"
   ]
  },
  {
   "cell_type": "code",
   "execution_count": 404,
   "metadata": {},
   "outputs": [
    {
     "data": {
      "text/html": [
       "<div>\n",
       "<style scoped>\n",
       "    .dataframe tbody tr th:only-of-type {\n",
       "        vertical-align: middle;\n",
       "    }\n",
       "\n",
       "    .dataframe tbody tr th {\n",
       "        vertical-align: top;\n",
       "    }\n",
       "\n",
       "    .dataframe thead th {\n",
       "        text-align: right;\n",
       "    }\n",
       "</style>\n",
       "<table border=\"1\" class=\"dataframe\">\n",
       "  <thead>\n",
       "    <tr style=\"text-align: right;\">\n",
       "      <th></th>\n",
       "      <th>fips_code</th>\n",
       "      <th>county</th>\n",
       "      <th>total_2008</th>\n",
       "      <th>dem_2008</th>\n",
       "      <th>gop_2008</th>\n",
       "      <th>oth_2008</th>\n",
       "      <th>total_2012</th>\n",
       "      <th>dem_2012</th>\n",
       "      <th>gop_2012</th>\n",
       "      <th>oth_2012</th>\n",
       "      <th>total_2016</th>\n",
       "      <th>dem_2016</th>\n",
       "      <th>gop_2016</th>\n",
       "      <th>oth_2016</th>\n",
       "      <th>stateFips</th>\n",
       "      <th>state</th>\n",
       "    </tr>\n",
       "  </thead>\n",
       "  <tbody>\n",
       "    <tr>\n",
       "      <th>0</th>\n",
       "      <td>26041</td>\n",
       "      <td>Delta County</td>\n",
       "      <td>19064</td>\n",
       "      <td>9974</td>\n",
       "      <td>8763</td>\n",
       "      <td>327</td>\n",
       "      <td>18043</td>\n",
       "      <td>8330</td>\n",
       "      <td>9533</td>\n",
       "      <td>180</td>\n",
       "      <td>18467</td>\n",
       "      <td>6431</td>\n",
       "      <td>11112</td>\n",
       "      <td>924</td>\n",
       "      <td>26</td>\n",
       "      <td>Michigan</td>\n",
       "    </tr>\n",
       "    <tr>\n",
       "      <th>1</th>\n",
       "      <td>48295</td>\n",
       "      <td>Lipscomb County</td>\n",
       "      <td>1256</td>\n",
       "      <td>155</td>\n",
       "      <td>1093</td>\n",
       "      <td>8</td>\n",
       "      <td>1168</td>\n",
       "      <td>119</td>\n",
       "      <td>1044</td>\n",
       "      <td>5</td>\n",
       "      <td>1322</td>\n",
       "      <td>135</td>\n",
       "      <td>1159</td>\n",
       "      <td>28</td>\n",
       "      <td>48</td>\n",
       "      <td>Texas</td>\n",
       "    </tr>\n",
       "    <tr>\n",
       "      <th>2</th>\n",
       "      <td>1127</td>\n",
       "      <td>Walker County</td>\n",
       "      <td>28652</td>\n",
       "      <td>7420</td>\n",
       "      <td>20722</td>\n",
       "      <td>510</td>\n",
       "      <td>28497</td>\n",
       "      <td>6551</td>\n",
       "      <td>21633</td>\n",
       "      <td>313</td>\n",
       "      <td>29243</td>\n",
       "      <td>4486</td>\n",
       "      <td>24208</td>\n",
       "      <td>549</td>\n",
       "      <td>1</td>\n",
       "      <td>Alabama</td>\n",
       "    </tr>\n",
       "    <tr>\n",
       "      <th>3</th>\n",
       "      <td>48389</td>\n",
       "      <td>Reeves County</td>\n",
       "      <td>3077</td>\n",
       "      <td>1606</td>\n",
       "      <td>1445</td>\n",
       "      <td>26</td>\n",
       "      <td>2867</td>\n",
       "      <td>1649</td>\n",
       "      <td>1185</td>\n",
       "      <td>33</td>\n",
       "      <td>3184</td>\n",
       "      <td>1659</td>\n",
       "      <td>1417</td>\n",
       "      <td>108</td>\n",
       "      <td>48</td>\n",
       "      <td>Texas</td>\n",
       "    </tr>\n",
       "    <tr>\n",
       "      <th>4</th>\n",
       "      <td>56017</td>\n",
       "      <td>Hot Springs County</td>\n",
       "      <td>2546</td>\n",
       "      <td>619</td>\n",
       "      <td>1834</td>\n",
       "      <td>93</td>\n",
       "      <td>2495</td>\n",
       "      <td>523</td>\n",
       "      <td>1894</td>\n",
       "      <td>78</td>\n",
       "      <td>2535</td>\n",
       "      <td>400</td>\n",
       "      <td>1939</td>\n",
       "      <td>196</td>\n",
       "      <td>56</td>\n",
       "      <td>Wyoming</td>\n",
       "    </tr>\n",
       "    <tr>\n",
       "      <th>5</th>\n",
       "      <td>20043</td>\n",
       "      <td>Doniphan County</td>\n",
       "      <td>3564</td>\n",
       "      <td>1115</td>\n",
       "      <td>2372</td>\n",
       "      <td>77</td>\n",
       "      <td>3369</td>\n",
       "      <td>885</td>\n",
       "      <td>2397</td>\n",
       "      <td>87</td>\n",
       "      <td>3366</td>\n",
       "      <td>584</td>\n",
       "      <td>2601</td>\n",
       "      <td>181</td>\n",
       "      <td>20</td>\n",
       "      <td>Kansas</td>\n",
       "    </tr>\n",
       "    <tr>\n",
       "      <th>6</th>\n",
       "      <td>37183</td>\n",
       "      <td>Wake County</td>\n",
       "      <td>442245</td>\n",
       "      <td>250891</td>\n",
       "      <td>187001</td>\n",
       "      <td>4353</td>\n",
       "      <td>526805</td>\n",
       "      <td>286939</td>\n",
       "      <td>232933</td>\n",
       "      <td>6933</td>\n",
       "      <td>510940</td>\n",
       "      <td>298353</td>\n",
       "      <td>193607</td>\n",
       "      <td>18980</td>\n",
       "      <td>37</td>\n",
       "      <td>North Carolina</td>\n",
       "    </tr>\n",
       "  </tbody>\n",
       "</table>\n",
       "</div>"
      ],
      "text/plain": [
       "   fips_code              county  total_2008  dem_2008  gop_2008  oth_2008  \\\n",
       "0      26041        Delta County       19064      9974      8763       327   \n",
       "1      48295     Lipscomb County        1256       155      1093         8   \n",
       "2       1127       Walker County       28652      7420     20722       510   \n",
       "3      48389       Reeves County        3077      1606      1445        26   \n",
       "4      56017  Hot Springs County        2546       619      1834        93   \n",
       "5      20043     Doniphan County        3564      1115      2372        77   \n",
       "6      37183         Wake County      442245    250891    187001      4353   \n",
       "\n",
       "   total_2012  dem_2012  gop_2012  oth_2012  total_2016  dem_2016  gop_2016  \\\n",
       "0       18043      8330      9533       180       18467      6431     11112   \n",
       "1        1168       119      1044         5        1322       135      1159   \n",
       "2       28497      6551     21633       313       29243      4486     24208   \n",
       "3        2867      1649      1185        33        3184      1659      1417   \n",
       "4        2495       523      1894        78        2535       400      1939   \n",
       "5        3369       885      2397        87        3366       584      2601   \n",
       "6      526805    286939    232933      6933      510940    298353    193607   \n",
       "\n",
       "   oth_2016  stateFips           state  \n",
       "0       924         26        Michigan  \n",
       "1        28         48           Texas  \n",
       "2       549          1         Alabama  \n",
       "3       108         48           Texas  \n",
       "4       196         56         Wyoming  \n",
       "5       181         20          Kansas  \n",
       "6     18980         37  North Carolina  "
      ]
     },
     "execution_count": 404,
     "metadata": {},
     "output_type": "execute_result"
    }
   ],
   "source": [
    "elections.head(7)"
   ]
  },
  {
   "cell_type": "code",
   "execution_count": 405,
   "metadata": {},
   "outputs": [
    {
     "data": {
      "text/plain": [
       "(3112, 16)"
      ]
     },
     "execution_count": 405,
     "metadata": {},
     "output_type": "execute_result"
    }
   ],
   "source": [
    "elections.shape"
   ]
  },
  {
   "cell_type": "code",
   "execution_count": 406,
   "metadata": {},
   "outputs": [
    {
     "data": {
      "text/plain": [
       "fips_code     0\n",
       "county        0\n",
       "total_2008    0\n",
       "dem_2008      0\n",
       "gop_2008      0\n",
       "oth_2008      0\n",
       "total_2012    0\n",
       "dem_2012      0\n",
       "gop_2012      0\n",
       "oth_2012      0\n",
       "total_2016    0\n",
       "dem_2016      0\n",
       "gop_2016      0\n",
       "oth_2016      0\n",
       "stateFips     0\n",
       "state         0\n",
       "dtype: int64"
      ]
     },
     "execution_count": 406,
     "metadata": {},
     "output_type": "execute_result"
    }
   ],
   "source": [
    "elections.isna().sum()"
   ]
  },
  {
   "cell_type": "code",
   "execution_count": 407,
   "metadata": {},
   "outputs": [
    {
     "data": {
      "text/plain": [
       "3112"
      ]
     },
     "execution_count": 407,
     "metadata": {},
     "output_type": "execute_result"
    }
   ],
   "source": [
    "elections.fips_code.nunique()"
   ]
  },
  {
   "cell_type": "code",
   "execution_count": 408,
   "metadata": {},
   "outputs": [
    {
     "data": {
      "text/html": [
       "<div>\n",
       "<style scoped>\n",
       "    .dataframe tbody tr th:only-of-type {\n",
       "        vertical-align: middle;\n",
       "    }\n",
       "\n",
       "    .dataframe tbody tr th {\n",
       "        vertical-align: top;\n",
       "    }\n",
       "\n",
       "    .dataframe thead th {\n",
       "        text-align: right;\n",
       "    }\n",
       "</style>\n",
       "<table border=\"1\" class=\"dataframe\">\n",
       "  <thead>\n",
       "    <tr style=\"text-align: right;\">\n",
       "      <th></th>\n",
       "      <th>SUMLEV</th>\n",
       "      <th>REGION</th>\n",
       "      <th>DIVISION</th>\n",
       "      <th>STATE</th>\n",
       "      <th>COUNTY</th>\n",
       "      <th>STNAME</th>\n",
       "      <th>CTYNAME</th>\n",
       "      <th>CENSUS2010POP</th>\n",
       "      <th>ESTIMATESBASE2010</th>\n",
       "      <th>POPESTIMATE2010</th>\n",
       "      <th>...</th>\n",
       "      <th>RDOMESTICMIG2013</th>\n",
       "      <th>RDOMESTICMIG2014</th>\n",
       "      <th>RDOMESTICMIG2015</th>\n",
       "      <th>RDOMESTICMIG2016</th>\n",
       "      <th>RNETMIG2011</th>\n",
       "      <th>RNETMIG2012</th>\n",
       "      <th>RNETMIG2013</th>\n",
       "      <th>RNETMIG2014</th>\n",
       "      <th>RNETMIG2015</th>\n",
       "      <th>RNETMIG2016</th>\n",
       "    </tr>\n",
       "  </thead>\n",
       "  <tbody>\n",
       "    <tr>\n",
       "      <th>0</th>\n",
       "      <td>40</td>\n",
       "      <td>3</td>\n",
       "      <td>6</td>\n",
       "      <td>1</td>\n",
       "      <td>0</td>\n",
       "      <td>Alabama</td>\n",
       "      <td>Alabama</td>\n",
       "      <td>4779736</td>\n",
       "      <td>4780131</td>\n",
       "      <td>4785492</td>\n",
       "      <td>...</td>\n",
       "      <td>0.335703</td>\n",
       "      <td>0.086842</td>\n",
       "      <td>-0.642255</td>\n",
       "      <td>-0.177829</td>\n",
       "      <td>0.709411</td>\n",
       "      <td>1.062617</td>\n",
       "      <td>1.202226</td>\n",
       "      <td>1.065267</td>\n",
       "      <td>0.411670</td>\n",
       "      <td>0.797351</td>\n",
       "    </tr>\n",
       "    <tr>\n",
       "      <th>1</th>\n",
       "      <td>50</td>\n",
       "      <td>3</td>\n",
       "      <td>6</td>\n",
       "      <td>1</td>\n",
       "      <td>1</td>\n",
       "      <td>Alabama</td>\n",
       "      <td>Autauga County</td>\n",
       "      <td>54571</td>\n",
       "      <td>54571</td>\n",
       "      <td>54742</td>\n",
       "      <td>...</td>\n",
       "      <td>-4.607582</td>\n",
       "      <td>2.149969</td>\n",
       "      <td>-2.799695</td>\n",
       "      <td>4.128528</td>\n",
       "      <td>6.163804</td>\n",
       "      <td>-5.295515</td>\n",
       "      <td>-4.571158</td>\n",
       "      <td>2.259290</td>\n",
       "      <td>-2.654256</td>\n",
       "      <td>4.255281</td>\n",
       "    </tr>\n",
       "    <tr>\n",
       "      <th>2</th>\n",
       "      <td>50</td>\n",
       "      <td>3</td>\n",
       "      <td>6</td>\n",
       "      <td>1</td>\n",
       "      <td>3</td>\n",
       "      <td>Alabama</td>\n",
       "      <td>Baldwin County</td>\n",
       "      <td>182265</td>\n",
       "      <td>182265</td>\n",
       "      <td>183199</td>\n",
       "      <td>...</td>\n",
       "      <td>21.672935</td>\n",
       "      <td>19.038117</td>\n",
       "      <td>17.311339</td>\n",
       "      <td>19.628723</td>\n",
       "      <td>15.757654</td>\n",
       "      <td>18.612620</td>\n",
       "      <td>22.757100</td>\n",
       "      <td>20.248574</td>\n",
       "      <td>18.585398</td>\n",
       "      <td>20.807611</td>\n",
       "    </tr>\n",
       "    <tr>\n",
       "      <th>3</th>\n",
       "      <td>50</td>\n",
       "      <td>3</td>\n",
       "      <td>6</td>\n",
       "      <td>1</td>\n",
       "      <td>5</td>\n",
       "      <td>Alabama</td>\n",
       "      <td>Barbour County</td>\n",
       "      <td>27457</td>\n",
       "      <td>27457</td>\n",
       "      <td>27348</td>\n",
       "      <td>...</td>\n",
       "      <td>-7.027927</td>\n",
       "      <td>-4.208488</td>\n",
       "      <td>-16.593442</td>\n",
       "      <td>-9.495549</td>\n",
       "      <td>-1.280316</td>\n",
       "      <td>-7.418561</td>\n",
       "      <td>-7.360829</td>\n",
       "      <td>-4.506434</td>\n",
       "      <td>-16.819716</td>\n",
       "      <td>-9.686991</td>\n",
       "    </tr>\n",
       "    <tr>\n",
       "      <th>4</th>\n",
       "      <td>50</td>\n",
       "      <td>3</td>\n",
       "      <td>6</td>\n",
       "      <td>1</td>\n",
       "      <td>7</td>\n",
       "      <td>Alabama</td>\n",
       "      <td>Bibb County</td>\n",
       "      <td>22915</td>\n",
       "      <td>22919</td>\n",
       "      <td>22861</td>\n",
       "      <td>...</td>\n",
       "      <td>-6.556506</td>\n",
       "      <td>0.088865</td>\n",
       "      <td>0.088747</td>\n",
       "      <td>1.504292</td>\n",
       "      <td>-4.956466</td>\n",
       "      <td>-4.318988</td>\n",
       "      <td>-5.980596</td>\n",
       "      <td>0.888652</td>\n",
       "      <td>0.887469</td>\n",
       "      <td>2.300681</td>\n",
       "    </tr>\n",
       "    <tr>\n",
       "      <th>5</th>\n",
       "      <td>50</td>\n",
       "      <td>3</td>\n",
       "      <td>6</td>\n",
       "      <td>1</td>\n",
       "      <td>9</td>\n",
       "      <td>Alabama</td>\n",
       "      <td>Blount County</td>\n",
       "      <td>57322</td>\n",
       "      <td>57324</td>\n",
       "      <td>57376</td>\n",
       "      <td>...</td>\n",
       "      <td>-1.627452</td>\n",
       "      <td>-2.791093</td>\n",
       "      <td>-1.405067</td>\n",
       "      <td>-1.126712</td>\n",
       "      <td>1.755255</td>\n",
       "      <td>-0.848639</td>\n",
       "      <td>-1.125366</td>\n",
       "      <td>-2.236341</td>\n",
       "      <td>-0.780593</td>\n",
       "      <td>-0.468019</td>\n",
       "    </tr>\n",
       "    <tr>\n",
       "      <th>6</th>\n",
       "      <td>50</td>\n",
       "      <td>3</td>\n",
       "      <td>6</td>\n",
       "      <td>1</td>\n",
       "      <td>11</td>\n",
       "      <td>Alabama</td>\n",
       "      <td>Bullock County</td>\n",
       "      <td>10914</td>\n",
       "      <td>10911</td>\n",
       "      <td>10892</td>\n",
       "      <td>...</td>\n",
       "      <td>-8.666981</td>\n",
       "      <td>10.992108</td>\n",
       "      <td>-26.456276</td>\n",
       "      <td>-9.703608</td>\n",
       "      <td>-20.634774</td>\n",
       "      <td>-6.923653</td>\n",
       "      <td>-7.819124</td>\n",
       "      <td>11.931605</td>\n",
       "      <td>-25.605896</td>\n",
       "      <td>-8.838930</td>\n",
       "    </tr>\n",
       "  </tbody>\n",
       "</table>\n",
       "<p>7 rows × 116 columns</p>\n",
       "</div>"
      ],
      "text/plain": [
       "   SUMLEV  REGION  DIVISION  STATE  COUNTY   STNAME         CTYNAME  \\\n",
       "0      40       3         6      1       0  Alabama         Alabama   \n",
       "1      50       3         6      1       1  Alabama  Autauga County   \n",
       "2      50       3         6      1       3  Alabama  Baldwin County   \n",
       "3      50       3         6      1       5  Alabama  Barbour County   \n",
       "4      50       3         6      1       7  Alabama     Bibb County   \n",
       "5      50       3         6      1       9  Alabama   Blount County   \n",
       "6      50       3         6      1      11  Alabama  Bullock County   \n",
       "\n",
       "   CENSUS2010POP  ESTIMATESBASE2010  POPESTIMATE2010  ...  RDOMESTICMIG2013  \\\n",
       "0        4779736            4780131          4785492  ...          0.335703   \n",
       "1          54571              54571            54742  ...         -4.607582   \n",
       "2         182265             182265           183199  ...         21.672935   \n",
       "3          27457              27457            27348  ...         -7.027927   \n",
       "4          22915              22919            22861  ...         -6.556506   \n",
       "5          57322              57324            57376  ...         -1.627452   \n",
       "6          10914              10911            10892  ...         -8.666981   \n",
       "\n",
       "   RDOMESTICMIG2014  RDOMESTICMIG2015  RDOMESTICMIG2016  RNETMIG2011  \\\n",
       "0          0.086842         -0.642255         -0.177829     0.709411   \n",
       "1          2.149969         -2.799695          4.128528     6.163804   \n",
       "2         19.038117         17.311339         19.628723    15.757654   \n",
       "3         -4.208488        -16.593442         -9.495549    -1.280316   \n",
       "4          0.088865          0.088747          1.504292    -4.956466   \n",
       "5         -2.791093         -1.405067         -1.126712     1.755255   \n",
       "6         10.992108        -26.456276         -9.703608   -20.634774   \n",
       "\n",
       "   RNETMIG2012  RNETMIG2013  RNETMIG2014  RNETMIG2015  RNETMIG2016  \n",
       "0     1.062617     1.202226     1.065267     0.411670     0.797351  \n",
       "1    -5.295515    -4.571158     2.259290    -2.654256     4.255281  \n",
       "2    18.612620    22.757100    20.248574    18.585398    20.807611  \n",
       "3    -7.418561    -7.360829    -4.506434   -16.819716    -9.686991  \n",
       "4    -4.318988    -5.980596     0.888652     0.887469     2.300681  \n",
       "5    -0.848639    -1.125366    -2.236341    -0.780593    -0.468019  \n",
       "6    -6.923653    -7.819124    11.931605   -25.605896    -8.838930  \n",
       "\n",
       "[7 rows x 116 columns]"
      ]
     },
     "execution_count": 408,
     "metadata": {},
     "output_type": "execute_result"
    }
   ],
   "source": [
    "county.head(7)"
   ]
  },
  {
   "cell_type": "code",
   "execution_count": 409,
   "metadata": {},
   "outputs": [
    {
     "data": {
      "text/plain": [
       "(3193, 116)"
      ]
     },
     "execution_count": 409,
     "metadata": {},
     "output_type": "execute_result"
    }
   ],
   "source": [
    "county.shape"
   ]
  },
  {
   "cell_type": "code",
   "execution_count": 410,
   "metadata": {},
   "outputs": [
    {
     "data": {
      "text/plain": [
       "0"
      ]
     },
     "execution_count": 410,
     "metadata": {},
     "output_type": "execute_result"
    }
   ],
   "source": [
    "# Too many columns, so let's check the total sum of null values in ALL of them\n",
    "county.isna().sum().sum()"
   ]
  },
  {
   "cell_type": "markdown",
   "metadata": {},
   "source": [
    "#### 1.2 - Merge the datasets\n",
    "\n",
    "As recommended in the assignment, we can create a new column in the `county` dataframe, called `fips_code`, which is constructed by joining the value from the `STATE` variable to the `COUNTY` one."
   ]
  },
  {
   "cell_type": "code",
   "execution_count": 411,
   "metadata": {},
   "outputs": [
    {
     "name": "stdout",
     "output_type": "stream",
     "text": [
      "Data types: \n",
      " STATE:  int64\n",
      " COUNTY: int64\n"
     ]
    }
   ],
   "source": [
    "print(f'Data types: \\n STATE:  {county.STATE.dtype}\\n COUNTY: {county.COUNTY.dtype}')"
   ]
  },
  {
   "cell_type": "markdown",
   "metadata": {},
   "source": [
    "This is the tricky part. Counties that have **less than** 3 county fips will have the number 0 added to their start.\n",
    "\n",
    "Check the example below for Autauga County, in the state of Alabama:"
   ]
  },
  {
   "cell_type": "code",
   "execution_count": 412,
   "metadata": {},
   "outputs": [
    {
     "data": {
      "text/html": [
       "<div>\n",
       "<style scoped>\n",
       "    .dataframe tbody tr th:only-of-type {\n",
       "        vertical-align: middle;\n",
       "    }\n",
       "\n",
       "    .dataframe tbody tr th {\n",
       "        vertical-align: top;\n",
       "    }\n",
       "\n",
       "    .dataframe thead th {\n",
       "        text-align: right;\n",
       "    }\n",
       "</style>\n",
       "<table border=\"1\" class=\"dataframe\">\n",
       "  <thead>\n",
       "    <tr style=\"text-align: right;\">\n",
       "      <th></th>\n",
       "      <th>SUMLEV</th>\n",
       "      <th>REGION</th>\n",
       "      <th>DIVISION</th>\n",
       "      <th>STATE</th>\n",
       "      <th>COUNTY</th>\n",
       "      <th>STNAME</th>\n",
       "      <th>CTYNAME</th>\n",
       "      <th>CENSUS2010POP</th>\n",
       "      <th>ESTIMATESBASE2010</th>\n",
       "      <th>POPESTIMATE2010</th>\n",
       "      <th>...</th>\n",
       "      <th>RDOMESTICMIG2013</th>\n",
       "      <th>RDOMESTICMIG2014</th>\n",
       "      <th>RDOMESTICMIG2015</th>\n",
       "      <th>RDOMESTICMIG2016</th>\n",
       "      <th>RNETMIG2011</th>\n",
       "      <th>RNETMIG2012</th>\n",
       "      <th>RNETMIG2013</th>\n",
       "      <th>RNETMIG2014</th>\n",
       "      <th>RNETMIG2015</th>\n",
       "      <th>RNETMIG2016</th>\n",
       "    </tr>\n",
       "  </thead>\n",
       "  <tbody>\n",
       "    <tr>\n",
       "      <th>1</th>\n",
       "      <td>50</td>\n",
       "      <td>3</td>\n",
       "      <td>6</td>\n",
       "      <td>1</td>\n",
       "      <td>1</td>\n",
       "      <td>Alabama</td>\n",
       "      <td>Autauga County</td>\n",
       "      <td>54571</td>\n",
       "      <td>54571</td>\n",
       "      <td>54742</td>\n",
       "      <td>...</td>\n",
       "      <td>-4.607582</td>\n",
       "      <td>2.149969</td>\n",
       "      <td>-2.799695</td>\n",
       "      <td>4.128528</td>\n",
       "      <td>6.163804</td>\n",
       "      <td>-5.295515</td>\n",
       "      <td>-4.571158</td>\n",
       "      <td>2.25929</td>\n",
       "      <td>-2.654256</td>\n",
       "      <td>4.255281</td>\n",
       "    </tr>\n",
       "  </tbody>\n",
       "</table>\n",
       "<p>1 rows × 116 columns</p>\n",
       "</div>"
      ],
      "text/plain": [
       "   SUMLEV  REGION  DIVISION  STATE  COUNTY   STNAME         CTYNAME  \\\n",
       "1      50       3         6      1       1  Alabama  Autauga County   \n",
       "\n",
       "   CENSUS2010POP  ESTIMATESBASE2010  POPESTIMATE2010  ...  RDOMESTICMIG2013  \\\n",
       "1          54571              54571            54742  ...         -4.607582   \n",
       "\n",
       "   RDOMESTICMIG2014  RDOMESTICMIG2015  RDOMESTICMIG2016  RNETMIG2011  \\\n",
       "1          2.149969         -2.799695          4.128528     6.163804   \n",
       "\n",
       "   RNETMIG2012  RNETMIG2013  RNETMIG2014  RNETMIG2015  RNETMIG2016  \n",
       "1    -5.295515    -4.571158      2.25929    -2.654256     4.255281  \n",
       "\n",
       "[1 rows x 116 columns]"
      ]
     },
     "execution_count": 412,
     "metadata": {},
     "output_type": "execute_result"
    }
   ],
   "source": [
    "county[(county.STATE == 1) & (county.COUNTY == 1)]"
   ]
  },
  {
   "cell_type": "code",
   "execution_count": 413,
   "metadata": {},
   "outputs": [
    {
     "data": {
      "text/html": [
       "<div>\n",
       "<style scoped>\n",
       "    .dataframe tbody tr th:only-of-type {\n",
       "        vertical-align: middle;\n",
       "    }\n",
       "\n",
       "    .dataframe tbody tr th {\n",
       "        vertical-align: top;\n",
       "    }\n",
       "\n",
       "    .dataframe thead th {\n",
       "        text-align: right;\n",
       "    }\n",
       "</style>\n",
       "<table border=\"1\" class=\"dataframe\">\n",
       "  <thead>\n",
       "    <tr style=\"text-align: right;\">\n",
       "      <th></th>\n",
       "      <th>fips_code</th>\n",
       "      <th>county</th>\n",
       "    </tr>\n",
       "  </thead>\n",
       "  <tbody>\n",
       "    <tr>\n",
       "      <th>2979</th>\n",
       "      <td>1001</td>\n",
       "      <td>Autauga County</td>\n",
       "    </tr>\n",
       "  </tbody>\n",
       "</table>\n",
       "</div>"
      ],
      "text/plain": [
       "      fips_code          county\n",
       "2979       1001  Autauga County"
      ]
     },
     "execution_count": 413,
     "metadata": {},
     "output_type": "execute_result"
    }
   ],
   "source": [
    "elections[elections.county == 'Autauga County'][['fips_code', 'county']]"
   ]
  },
  {
   "cell_type": "markdown",
   "metadata": {},
   "source": [
    "As we can see, the state code for Alabama is 1, and the county code for Autauga County is also 1. **However**, its fips code is not 11, but 1001, because the county fips code must have 3 digits.\n",
    "\n",
    "We must take this fundamental detail into consideration for creating the 5-digit fips code!"
   ]
  },
  {
   "cell_type": "code",
   "execution_count": 414,
   "metadata": {},
   "outputs": [],
   "source": [
    "# Based on https://stackoverflow.com/questions/26886653/pandas-create-new-column-based-on-values-from-other-columns-apply-a-function-o\n",
    "def fips_code_maker(row):\n",
    "    if row['COUNTY'] < 10:\n",
    "        return '00' + str(row['COUNTY'])\n",
    "    elif row['COUNTY'] < 100:\n",
    "        return '0' + str(row['COUNTY'])\n",
    "    else:\n",
    "        return str(row['COUNTY'])"
   ]
  },
  {
   "cell_type": "code",
   "execution_count": 415,
   "metadata": {},
   "outputs": [],
   "source": [
    "#county.apply(lambda row: fips_code_maker(row), axis=1)\n",
    "county['FIPS_CODE'] = county['STATE'].apply(str) + county.apply(lambda row: fips_code_maker(row), axis=1)"
   ]
  },
  {
   "cell_type": "code",
   "execution_count": 416,
   "metadata": {},
   "outputs": [
    {
     "data": {
      "text/html": [
       "<div>\n",
       "<style scoped>\n",
       "    .dataframe tbody tr th:only-of-type {\n",
       "        vertical-align: middle;\n",
       "    }\n",
       "\n",
       "    .dataframe tbody tr th {\n",
       "        vertical-align: top;\n",
       "    }\n",
       "\n",
       "    .dataframe thead th {\n",
       "        text-align: right;\n",
       "    }\n",
       "</style>\n",
       "<table border=\"1\" class=\"dataframe\">\n",
       "  <thead>\n",
       "    <tr style=\"text-align: right;\">\n",
       "      <th></th>\n",
       "      <th>SUMLEV</th>\n",
       "      <th>REGION</th>\n",
       "      <th>DIVISION</th>\n",
       "      <th>STATE</th>\n",
       "      <th>COUNTY</th>\n",
       "      <th>STNAME</th>\n",
       "      <th>CTYNAME</th>\n",
       "      <th>CENSUS2010POP</th>\n",
       "      <th>ESTIMATESBASE2010</th>\n",
       "      <th>POPESTIMATE2010</th>\n",
       "      <th>...</th>\n",
       "      <th>RDOMESTICMIG2014</th>\n",
       "      <th>RDOMESTICMIG2015</th>\n",
       "      <th>RDOMESTICMIG2016</th>\n",
       "      <th>RNETMIG2011</th>\n",
       "      <th>RNETMIG2012</th>\n",
       "      <th>RNETMIG2013</th>\n",
       "      <th>RNETMIG2014</th>\n",
       "      <th>RNETMIG2015</th>\n",
       "      <th>RNETMIG2016</th>\n",
       "      <th>FIPS_CODE</th>\n",
       "    </tr>\n",
       "  </thead>\n",
       "  <tbody>\n",
       "    <tr>\n",
       "      <th>3138</th>\n",
       "      <td>50</td>\n",
       "      <td>2</td>\n",
       "      <td>3</td>\n",
       "      <td>55</td>\n",
       "      <td>81</td>\n",
       "      <td>Wisconsin</td>\n",
       "      <td>Monroe County</td>\n",
       "      <td>44673</td>\n",
       "      <td>44675</td>\n",
       "      <td>44776</td>\n",
       "      <td>...</td>\n",
       "      <td>-2.738214</td>\n",
       "      <td>-2.002927</td>\n",
       "      <td>-2.742973</td>\n",
       "      <td>3.091671</td>\n",
       "      <td>-5.916439</td>\n",
       "      <td>0.177117</td>\n",
       "      <td>-2.164072</td>\n",
       "      <td>-1.122520</td>\n",
       "      <td>-2.260209</td>\n",
       "      <td>55081</td>\n",
       "    </tr>\n",
       "    <tr>\n",
       "      <th>1378</th>\n",
       "      <td>50</td>\n",
       "      <td>2</td>\n",
       "      <td>4</td>\n",
       "      <td>27</td>\n",
       "      <td>81</td>\n",
       "      <td>Minnesota</td>\n",
       "      <td>Lincoln County</td>\n",
       "      <td>5896</td>\n",
       "      <td>5896</td>\n",
       "      <td>5885</td>\n",
       "      <td>...</td>\n",
       "      <td>1.033770</td>\n",
       "      <td>-5.530591</td>\n",
       "      <td>2.597403</td>\n",
       "      <td>-3.236246</td>\n",
       "      <td>-8.060367</td>\n",
       "      <td>-2.067540</td>\n",
       "      <td>1.033770</td>\n",
       "      <td>-5.530591</td>\n",
       "      <td>2.597403</td>\n",
       "      <td>27081</td>\n",
       "    </tr>\n",
       "    <tr>\n",
       "      <th>2354</th>\n",
       "      <td>50</td>\n",
       "      <td>1</td>\n",
       "      <td>1</td>\n",
       "      <td>44</td>\n",
       "      <td>7</td>\n",
       "      <td>Rhode Island</td>\n",
       "      <td>Providence County</td>\n",
       "      <td>626667</td>\n",
       "      <td>626672</td>\n",
       "      <td>627199</td>\n",
       "      <td>...</td>\n",
       "      <td>-5.006363</td>\n",
       "      <td>-6.783485</td>\n",
       "      <td>-5.943952</td>\n",
       "      <td>-1.035621</td>\n",
       "      <td>-1.038609</td>\n",
       "      <td>-2.209524</td>\n",
       "      <td>0.718366</td>\n",
       "      <td>-0.871869</td>\n",
       "      <td>-0.116889</td>\n",
       "      <td>44007</td>\n",
       "    </tr>\n",
       "    <tr>\n",
       "      <th>2700</th>\n",
       "      <td>50</td>\n",
       "      <td>3</td>\n",
       "      <td>7</td>\n",
       "      <td>48</td>\n",
       "      <td>267</td>\n",
       "      <td>Texas</td>\n",
       "      <td>Kimble County</td>\n",
       "      <td>4607</td>\n",
       "      <td>4605</td>\n",
       "      <td>4587</td>\n",
       "      <td>...</td>\n",
       "      <td>-4.716451</td>\n",
       "      <td>-10.641911</td>\n",
       "      <td>8.846546</td>\n",
       "      <td>8.710801</td>\n",
       "      <td>-9.192383</td>\n",
       "      <td>-11.768624</td>\n",
       "      <td>-4.716451</td>\n",
       "      <td>-10.641911</td>\n",
       "      <td>8.846546</td>\n",
       "      <td>48267</td>\n",
       "    </tr>\n",
       "    <tr>\n",
       "      <th>1233</th>\n",
       "      <td>50</td>\n",
       "      <td>3</td>\n",
       "      <td>5</td>\n",
       "      <td>24</td>\n",
       "      <td>41</td>\n",
       "      <td>Maryland</td>\n",
       "      <td>Talbot County</td>\n",
       "      <td>37782</td>\n",
       "      <td>37782</td>\n",
       "      <td>37884</td>\n",
       "      <td>...</td>\n",
       "      <td>-6.809480</td>\n",
       "      <td>0.346242</td>\n",
       "      <td>-4.010642</td>\n",
       "      <td>3.585694</td>\n",
       "      <td>4.998159</td>\n",
       "      <td>0.500204</td>\n",
       "      <td>-5.802631</td>\n",
       "      <td>1.358334</td>\n",
       "      <td>-2.994612</td>\n",
       "      <td>24041</td>\n",
       "    </tr>\n",
       "  </tbody>\n",
       "</table>\n",
       "<p>5 rows × 117 columns</p>\n",
       "</div>"
      ],
      "text/plain": [
       "      SUMLEV  REGION  DIVISION  STATE  COUNTY        STNAME  \\\n",
       "3138      50       2         3     55      81     Wisconsin   \n",
       "1378      50       2         4     27      81     Minnesota   \n",
       "2354      50       1         1     44       7  Rhode Island   \n",
       "2700      50       3         7     48     267         Texas   \n",
       "1233      50       3         5     24      41      Maryland   \n",
       "\n",
       "                CTYNAME  CENSUS2010POP  ESTIMATESBASE2010  POPESTIMATE2010  \\\n",
       "3138      Monroe County          44673              44675            44776   \n",
       "1378     Lincoln County           5896               5896             5885   \n",
       "2354  Providence County         626667             626672           627199   \n",
       "2700      Kimble County           4607               4605             4587   \n",
       "1233      Talbot County          37782              37782            37884   \n",
       "\n",
       "      ...  RDOMESTICMIG2014  RDOMESTICMIG2015  RDOMESTICMIG2016  RNETMIG2011  \\\n",
       "3138  ...         -2.738214         -2.002927         -2.742973     3.091671   \n",
       "1378  ...          1.033770         -5.530591          2.597403    -3.236246   \n",
       "2354  ...         -5.006363         -6.783485         -5.943952    -1.035621   \n",
       "2700  ...         -4.716451        -10.641911          8.846546     8.710801   \n",
       "1233  ...         -6.809480          0.346242         -4.010642     3.585694   \n",
       "\n",
       "      RNETMIG2012  RNETMIG2013  RNETMIG2014  RNETMIG2015  RNETMIG2016  \\\n",
       "3138    -5.916439     0.177117    -2.164072    -1.122520    -2.260209   \n",
       "1378    -8.060367    -2.067540     1.033770    -5.530591     2.597403   \n",
       "2354    -1.038609    -2.209524     0.718366    -0.871869    -0.116889   \n",
       "2700    -9.192383   -11.768624    -4.716451   -10.641911     8.846546   \n",
       "1233     4.998159     0.500204    -5.802631     1.358334    -2.994612   \n",
       "\n",
       "      FIPS_CODE  \n",
       "3138      55081  \n",
       "1378      27081  \n",
       "2354      44007  \n",
       "2700      48267  \n",
       "1233      24041  \n",
       "\n",
       "[5 rows x 117 columns]"
      ]
     },
     "execution_count": 416,
     "metadata": {},
     "output_type": "execute_result"
    }
   ],
   "source": [
    "county.sample(5)"
   ]
  },
  {
   "cell_type": "code",
   "execution_count": 417,
   "metadata": {},
   "outputs": [
    {
     "data": {
      "text/plain": [
       "3193"
      ]
     },
     "execution_count": 417,
     "metadata": {},
     "output_type": "execute_result"
    }
   ],
   "source": [
    "county.FIPS_CODE.nunique()"
   ]
  },
  {
   "cell_type": "code",
   "execution_count": 418,
   "metadata": {},
   "outputs": [
    {
     "data": {
      "text/plain": [
       "dtype('O')"
      ]
     },
     "execution_count": 418,
     "metadata": {},
     "output_type": "execute_result"
    }
   ],
   "source": [
    "county.FIPS_CODE.dtype"
   ]
  },
  {
   "cell_type": "code",
   "execution_count": 419,
   "metadata": {},
   "outputs": [
    {
     "data": {
      "text/plain": [
       "dtype('int64')"
      ]
     },
     "execution_count": 419,
     "metadata": {},
     "output_type": "execute_result"
    }
   ],
   "source": [
    "elections.fips_code.dtype"
   ]
  },
  {
   "cell_type": "code",
   "execution_count": 420,
   "metadata": {},
   "outputs": [],
   "source": [
    "# Convert `fips_code` to int64, just like the corresponding variable from the `elections` dataset\n",
    "county.FIPS_CODE = pd.to_numeric(county.FIPS_CODE)"
   ]
  },
  {
   "cell_type": "code",
   "execution_count": 421,
   "metadata": {},
   "outputs": [
    {
     "name": "stdout",
     "output_type": "stream",
     "text": [
      "Data types: \n",
      " STATE: int64\n",
      " COUNTY: int64\n",
      " FIPS_CODE: int64\n"
     ]
    }
   ],
   "source": [
    "print(f'Data types: \\n STATE: {county.STATE.dtype}\\n COUNTY: {county.COUNTY.dtype}\\n FIPS_CODE: {county.FIPS_CODE.dtype}')"
   ]
  },
  {
   "cell_type": "code",
   "execution_count": 422,
   "metadata": {},
   "outputs": [
    {
     "data": {
      "text/html": [
       "<div>\n",
       "<style scoped>\n",
       "    .dataframe tbody tr th:only-of-type {\n",
       "        vertical-align: middle;\n",
       "    }\n",
       "\n",
       "    .dataframe tbody tr th {\n",
       "        vertical-align: top;\n",
       "    }\n",
       "\n",
       "    .dataframe thead th {\n",
       "        text-align: right;\n",
       "    }\n",
       "</style>\n",
       "<table border=\"1\" class=\"dataframe\">\n",
       "  <thead>\n",
       "    <tr style=\"text-align: right;\">\n",
       "      <th></th>\n",
       "      <th>fips_code</th>\n",
       "      <th>county</th>\n",
       "      <th>total_2008</th>\n",
       "      <th>dem_2008</th>\n",
       "      <th>gop_2008</th>\n",
       "      <th>oth_2008</th>\n",
       "      <th>total_2012</th>\n",
       "      <th>dem_2012</th>\n",
       "      <th>gop_2012</th>\n",
       "      <th>oth_2012</th>\n",
       "      <th>...</th>\n",
       "      <th>RDOMESTICMIG2013</th>\n",
       "      <th>RDOMESTICMIG2014</th>\n",
       "      <th>RDOMESTICMIG2015</th>\n",
       "      <th>RDOMESTICMIG2016</th>\n",
       "      <th>RNETMIG2011</th>\n",
       "      <th>RNETMIG2012</th>\n",
       "      <th>RNETMIG2013</th>\n",
       "      <th>RNETMIG2014</th>\n",
       "      <th>RNETMIG2015</th>\n",
       "      <th>RNETMIG2016</th>\n",
       "    </tr>\n",
       "  </thead>\n",
       "  <tbody>\n",
       "    <tr>\n",
       "      <th>0</th>\n",
       "      <td>26041</td>\n",
       "      <td>Delta County</td>\n",
       "      <td>19064</td>\n",
       "      <td>9974</td>\n",
       "      <td>8763</td>\n",
       "      <td>327</td>\n",
       "      <td>18043</td>\n",
       "      <td>8330</td>\n",
       "      <td>9533</td>\n",
       "      <td>180</td>\n",
       "      <td>...</td>\n",
       "      <td>-0.434381</td>\n",
       "      <td>-5.939812</td>\n",
       "      <td>-2.822691</td>\n",
       "      <td>-3.966450</td>\n",
       "      <td>-0.972960</td>\n",
       "      <td>-0.867526</td>\n",
       "      <td>-0.271488</td>\n",
       "      <td>-5.776331</td>\n",
       "      <td>-2.658263</td>\n",
       "      <td>-3.801182</td>\n",
       "    </tr>\n",
       "    <tr>\n",
       "      <th>1</th>\n",
       "      <td>48295</td>\n",
       "      <td>Lipscomb County</td>\n",
       "      <td>1256</td>\n",
       "      <td>155</td>\n",
       "      <td>1093</td>\n",
       "      <td>8</td>\n",
       "      <td>1168</td>\n",
       "      <td>119</td>\n",
       "      <td>1044</td>\n",
       "      <td>5</td>\n",
       "      <td>...</td>\n",
       "      <td>6.915430</td>\n",
       "      <td>13.070038</td>\n",
       "      <td>-9.566685</td>\n",
       "      <td>-29.545455</td>\n",
       "      <td>7.240911</td>\n",
       "      <td>31.167304</td>\n",
       "      <td>7.779859</td>\n",
       "      <td>14.490695</td>\n",
       "      <td>-7.878447</td>\n",
       "      <td>-27.840909</td>\n",
       "    </tr>\n",
       "    <tr>\n",
       "      <th>2</th>\n",
       "      <td>1127</td>\n",
       "      <td>Walker County</td>\n",
       "      <td>28652</td>\n",
       "      <td>7420</td>\n",
       "      <td>20722</td>\n",
       "      <td>510</td>\n",
       "      <td>28497</td>\n",
       "      <td>6551</td>\n",
       "      <td>21633</td>\n",
       "      <td>313</td>\n",
       "      <td>...</td>\n",
       "      <td>-0.908093</td>\n",
       "      <td>-3.391687</td>\n",
       "      <td>-3.133239</td>\n",
       "      <td>-2.763746</td>\n",
       "      <td>-3.920190</td>\n",
       "      <td>-3.778072</td>\n",
       "      <td>-0.484316</td>\n",
       "      <td>-2.874568</td>\n",
       "      <td>-2.598296</td>\n",
       "      <td>-2.226351</td>\n",
       "    </tr>\n",
       "    <tr>\n",
       "      <th>3</th>\n",
       "      <td>48389</td>\n",
       "      <td>Reeves County</td>\n",
       "      <td>3077</td>\n",
       "      <td>1606</td>\n",
       "      <td>1445</td>\n",
       "      <td>26</td>\n",
       "      <td>2867</td>\n",
       "      <td>1649</td>\n",
       "      <td>1185</td>\n",
       "      <td>33</td>\n",
       "      <td>...</td>\n",
       "      <td>7.486364</td>\n",
       "      <td>10.436001</td>\n",
       "      <td>12.868780</td>\n",
       "      <td>-3.231235</td>\n",
       "      <td>-8.770658</td>\n",
       "      <td>6.281135</td>\n",
       "      <td>11.407793</td>\n",
       "      <td>14.988618</td>\n",
       "      <td>17.523444</td>\n",
       "      <td>1.548300</td>\n",
       "    </tr>\n",
       "    <tr>\n",
       "      <th>4</th>\n",
       "      <td>56017</td>\n",
       "      <td>Hot Springs County</td>\n",
       "      <td>2546</td>\n",
       "      <td>619</td>\n",
       "      <td>1834</td>\n",
       "      <td>93</td>\n",
       "      <td>2495</td>\n",
       "      <td>523</td>\n",
       "      <td>1894</td>\n",
       "      <td>78</td>\n",
       "      <td>...</td>\n",
       "      <td>2.065476</td>\n",
       "      <td>-4.358203</td>\n",
       "      <td>-6.497590</td>\n",
       "      <td>-9.974533</td>\n",
       "      <td>5.398671</td>\n",
       "      <td>5.588905</td>\n",
       "      <td>2.065476</td>\n",
       "      <td>-4.358203</td>\n",
       "      <td>-6.497590</td>\n",
       "      <td>-9.974533</td>\n",
       "    </tr>\n",
       "    <tr>\n",
       "      <th>5</th>\n",
       "      <td>20043</td>\n",
       "      <td>Doniphan County</td>\n",
       "      <td>3564</td>\n",
       "      <td>1115</td>\n",
       "      <td>2372</td>\n",
       "      <td>77</td>\n",
       "      <td>3369</td>\n",
       "      <td>885</td>\n",
       "      <td>2397</td>\n",
       "      <td>87</td>\n",
       "      <td>...</td>\n",
       "      <td>-4.200344</td>\n",
       "      <td>-1.530905</td>\n",
       "      <td>-8.724100</td>\n",
       "      <td>-11.932555</td>\n",
       "      <td>-2.264293</td>\n",
       "      <td>-10.366625</td>\n",
       "      <td>-3.563928</td>\n",
       "      <td>-0.637877</td>\n",
       "      <td>-7.826031</td>\n",
       "      <td>-11.024643</td>\n",
       "    </tr>\n",
       "    <tr>\n",
       "      <th>6</th>\n",
       "      <td>37183</td>\n",
       "      <td>Wake County</td>\n",
       "      <td>442245</td>\n",
       "      <td>250891</td>\n",
       "      <td>187001</td>\n",
       "      <td>4353</td>\n",
       "      <td>526805</td>\n",
       "      <td>286939</td>\n",
       "      <td>232933</td>\n",
       "      <td>6933</td>\n",
       "      <td>...</td>\n",
       "      <td>10.767224</td>\n",
       "      <td>12.060957</td>\n",
       "      <td>11.716590</td>\n",
       "      <td>12.607522</td>\n",
       "      <td>15.214385</td>\n",
       "      <td>16.179610</td>\n",
       "      <td>14.338994</td>\n",
       "      <td>15.989313</td>\n",
       "      <td>15.739619</td>\n",
       "      <td>16.462962</td>\n",
       "    </tr>\n",
       "  </tbody>\n",
       "</table>\n",
       "<p>7 rows × 132 columns</p>\n",
       "</div>"
      ],
      "text/plain": [
       "   fips_code              county  total_2008  dem_2008  gop_2008  oth_2008  \\\n",
       "0      26041        Delta County       19064      9974      8763       327   \n",
       "1      48295     Lipscomb County        1256       155      1093         8   \n",
       "2       1127       Walker County       28652      7420     20722       510   \n",
       "3      48389       Reeves County        3077      1606      1445        26   \n",
       "4      56017  Hot Springs County        2546       619      1834        93   \n",
       "5      20043     Doniphan County        3564      1115      2372        77   \n",
       "6      37183         Wake County      442245    250891    187001      4353   \n",
       "\n",
       "   total_2012  dem_2012  gop_2012  oth_2012  ...  RDOMESTICMIG2013  \\\n",
       "0       18043      8330      9533       180  ...         -0.434381   \n",
       "1        1168       119      1044         5  ...          6.915430   \n",
       "2       28497      6551     21633       313  ...         -0.908093   \n",
       "3        2867      1649      1185        33  ...          7.486364   \n",
       "4        2495       523      1894        78  ...          2.065476   \n",
       "5        3369       885      2397        87  ...         -4.200344   \n",
       "6      526805    286939    232933      6933  ...         10.767224   \n",
       "\n",
       "   RDOMESTICMIG2014  RDOMESTICMIG2015  RDOMESTICMIG2016  RNETMIG2011  \\\n",
       "0         -5.939812         -2.822691         -3.966450    -0.972960   \n",
       "1         13.070038         -9.566685        -29.545455     7.240911   \n",
       "2         -3.391687         -3.133239         -2.763746    -3.920190   \n",
       "3         10.436001         12.868780         -3.231235    -8.770658   \n",
       "4         -4.358203         -6.497590         -9.974533     5.398671   \n",
       "5         -1.530905         -8.724100        -11.932555    -2.264293   \n",
       "6         12.060957         11.716590         12.607522    15.214385   \n",
       "\n",
       "  RNETMIG2012  RNETMIG2013  RNETMIG2014  RNETMIG2015  RNETMIG2016  \n",
       "0   -0.867526    -0.271488    -5.776331    -2.658263    -3.801182  \n",
       "1   31.167304     7.779859    14.490695    -7.878447   -27.840909  \n",
       "2   -3.778072    -0.484316    -2.874568    -2.598296    -2.226351  \n",
       "3    6.281135    11.407793    14.988618    17.523444     1.548300  \n",
       "4    5.588905     2.065476    -4.358203    -6.497590    -9.974533  \n",
       "5  -10.366625    -3.563928    -0.637877    -7.826031   -11.024643  \n",
       "6   16.179610    14.338994    15.989313    15.739619    16.462962  \n",
       "\n",
       "[7 rows x 132 columns]"
      ]
     },
     "execution_count": 422,
     "metadata": {},
     "output_type": "execute_result"
    }
   ],
   "source": [
    "merged = elections.merge(county, left_on='fips_code', right_on='FIPS_CODE')\n",
    "# Drop the redudant variable\n",
    "merged.drop('FIPS_CODE', inplace=True, axis=1)\n",
    "merged.head(7)"
   ]
  },
  {
   "cell_type": "markdown",
   "metadata": {},
   "source": [
    "#### 1.3 - Consistency check"
   ]
  },
  {
   "cell_type": "code",
   "execution_count": 423,
   "metadata": {},
   "outputs": [
    {
     "data": {
      "text/plain": [
       "(3111, 132)"
      ]
     },
     "execution_count": 423,
     "metadata": {},
     "output_type": "execute_result"
    }
   ],
   "source": [
    "merged.shape"
   ]
  },
  {
   "cell_type": "markdown",
   "metadata": {},
   "source": [
    "We have 3111 rows, which is valid as the `elections` dataset had 3112 unique fips codes (and rows), so maybe one of the counties were not in the `county` dataset, which contained 3193 counties.\n",
    "\n",
    "When checking the number of states, we find that the `merged` dataset only has data on 50 of them, not 51 (50 plus the District of Columbia)."
   ]
  },
  {
   "cell_type": "code",
   "execution_count": 424,
   "metadata": {},
   "outputs": [
    {
     "data": {
      "text/plain": [
       "50"
      ]
     },
     "execution_count": 424,
     "metadata": {},
     "output_type": "execute_result"
    }
   ],
   "source": [
    "merged.STNAME.nunique()"
   ]
  },
  {
   "cell_type": "code",
   "execution_count": 425,
   "metadata": {},
   "outputs": [
    {
     "data": {
      "text/plain": [
       "51"
      ]
     },
     "execution_count": 425,
     "metadata": {},
     "output_type": "execute_result"
    }
   ],
   "source": [
    "county.STNAME.nunique()"
   ]
  },
  {
   "cell_type": "code",
   "execution_count": 426,
   "metadata": {},
   "outputs": [
    {
     "data": {
      "text/plain": [
       "50"
      ]
     },
     "execution_count": 426,
     "metadata": {},
     "output_type": "execute_result"
    }
   ],
   "source": [
    "elections.state.nunique()"
   ]
  },
  {
   "cell_type": "markdown",
   "metadata": {},
   "source": [
    "However, we see that this is because the `elections` dataset did not contain information on one of the states."
   ]
  },
  {
   "cell_type": "code",
   "execution_count": 427,
   "metadata": {},
   "outputs": [
    {
     "data": {
      "text/plain": [
       "array([ True, False,  True,  True,  True,  True,  True,  True,  True,\n",
       "        True,  True,  True,  True,  True,  True,  True,  True,  True,\n",
       "        True,  True,  True,  True,  True,  True,  True,  True,  True,\n",
       "        True,  True,  True,  True,  True,  True,  True,  True,  True,\n",
       "        True,  True,  True,  True,  True,  True,  True,  True,  True,\n",
       "        True,  True,  True,  True,  True,  True])"
      ]
     },
     "execution_count": 427,
     "metadata": {},
     "output_type": "execute_result"
    }
   ],
   "source": [
    "# Let's figure out which state is not in the `elections` dataframe\n",
    "np.isin(county.STNAME.unique(), elections.state.unique())"
   ]
  },
  {
   "cell_type": "code",
   "execution_count": 428,
   "metadata": {},
   "outputs": [
    {
     "data": {
      "text/plain": [
       "array(['Alabama', 'Alaska', 'Arizona', 'Arkansas', 'California',\n",
       "       'Colorado', 'Connecticut', 'Delaware', 'District of Columbia',\n",
       "       'Florida', 'Georgia', 'Hawaii', 'Idaho', 'Illinois', 'Indiana',\n",
       "       'Iowa', 'Kansas', 'Kentucky', 'Louisiana', 'Maine', 'Maryland',\n",
       "       'Massachusetts', 'Michigan', 'Minnesota', 'Mississippi',\n",
       "       'Missouri', 'Montana', 'Nebraska', 'Nevada', 'New Hampshire',\n",
       "       'New Jersey', 'New Mexico', 'New York', 'North Carolina',\n",
       "       'North Dakota', 'Ohio', 'Oklahoma', 'Oregon', 'Pennsylvania',\n",
       "       'Rhode Island', 'South Carolina', 'South Dakota', 'Tennessee',\n",
       "       'Texas', 'Utah', 'Vermont', 'Virginia', 'Washington',\n",
       "       'West Virginia', 'Wisconsin', 'Wyoming'], dtype=object)"
      ]
     },
     "execution_count": 428,
     "metadata": {},
     "output_type": "execute_result"
    }
   ],
   "source": [
    "# The function above gave us that the second state in the list below is the one missing, which is ALASKA!\n",
    "county.STNAME.unique()"
   ]
  },
  {
   "cell_type": "code",
   "execution_count": 429,
   "metadata": {},
   "outputs": [
    {
     "data": {
      "text/html": [
       "<div>\n",
       "<style scoped>\n",
       "    .dataframe tbody tr th:only-of-type {\n",
       "        vertical-align: middle;\n",
       "    }\n",
       "\n",
       "    .dataframe tbody tr th {\n",
       "        vertical-align: top;\n",
       "    }\n",
       "\n",
       "    .dataframe thead th {\n",
       "        text-align: right;\n",
       "    }\n",
       "</style>\n",
       "<table border=\"1\" class=\"dataframe\">\n",
       "  <thead>\n",
       "    <tr style=\"text-align: right;\">\n",
       "      <th></th>\n",
       "      <th>fips_code</th>\n",
       "      <th>county</th>\n",
       "      <th>total_2008</th>\n",
       "      <th>dem_2008</th>\n",
       "      <th>gop_2008</th>\n",
       "      <th>oth_2008</th>\n",
       "      <th>total_2012</th>\n",
       "      <th>dem_2012</th>\n",
       "      <th>gop_2012</th>\n",
       "      <th>oth_2012</th>\n",
       "      <th>total_2016</th>\n",
       "      <th>dem_2016</th>\n",
       "      <th>gop_2016</th>\n",
       "      <th>oth_2016</th>\n",
       "      <th>stateFips</th>\n",
       "      <th>state</th>\n",
       "    </tr>\n",
       "  </thead>\n",
       "  <tbody>\n",
       "  </tbody>\n",
       "</table>\n",
       "</div>"
      ],
      "text/plain": [
       "Empty DataFrame\n",
       "Columns: [fips_code, county, total_2008, dem_2008, gop_2008, oth_2008, total_2012, dem_2012, gop_2012, oth_2012, total_2016, dem_2016, gop_2016, oth_2016, stateFips, state]\n",
       "Index: []"
      ]
     },
     "execution_count": 429,
     "metadata": {},
     "output_type": "execute_result"
    }
   ],
   "source": [
    "elections[elections.state == 'Alaska']"
   ]
  },
  {
   "cell_type": "markdown",
   "metadata": {},
   "source": [
    "Therefore, we have 50 states, one of them being the District of Columbia. However, we do not have data on elections in the state of Alaska due to the nature of the data in the `elections` dataset. Therefore, all of the analysis we will make do not include data on this particularly cold state."
   ]
  },
  {
   "cell_type": "markdown",
   "metadata": {},
   "source": [
    "### Analysis on the relationship between _percentage of votes cast for democrats_ and various state-related _demographic characteristics_\n",
    "\n",
    "#### 1.4 - Percentage of votes for democrats in 2016"
   ]
  },
  {
   "cell_type": "code",
   "execution_count": 430,
   "metadata": {},
   "outputs": [],
   "source": [
    "merged['dem_pct'] = round((merged.dem_2016 / merged.total_2016) * 100, 2)"
   ]
  },
  {
   "cell_type": "code",
   "execution_count": 431,
   "metadata": {},
   "outputs": [
    {
     "data": {
      "text/html": [
       "<div>\n",
       "<style scoped>\n",
       "    .dataframe tbody tr th:only-of-type {\n",
       "        vertical-align: middle;\n",
       "    }\n",
       "\n",
       "    .dataframe tbody tr th {\n",
       "        vertical-align: top;\n",
       "    }\n",
       "\n",
       "    .dataframe thead th {\n",
       "        text-align: right;\n",
       "    }\n",
       "</style>\n",
       "<table border=\"1\" class=\"dataframe\">\n",
       "  <thead>\n",
       "    <tr style=\"text-align: right;\">\n",
       "      <th></th>\n",
       "      <th>county</th>\n",
       "      <th>state</th>\n",
       "      <th>dem_pct</th>\n",
       "    </tr>\n",
       "  </thead>\n",
       "  <tbody>\n",
       "    <tr>\n",
       "      <th>690</th>\n",
       "      <td>King County</td>\n",
       "      <td>Texas</td>\n",
       "      <td>3.14</td>\n",
       "    </tr>\n",
       "  </tbody>\n",
       "</table>\n",
       "</div>"
      ],
      "text/plain": [
       "          county  state  dem_pct\n",
       "690  King County  Texas     3.14"
      ]
     },
     "execution_count": 431,
     "metadata": {},
     "output_type": "execute_result"
    }
   ],
   "source": [
    "# Min percentage\n",
    "merged.loc[merged['dem_pct'] == merged['dem_pct'].min()][['county', 'state', 'dem_pct']]"
   ]
  },
  {
   "cell_type": "code",
   "execution_count": 432,
   "metadata": {},
   "outputs": [
    {
     "data": {
      "text/html": [
       "<div>\n",
       "<style scoped>\n",
       "    .dataframe tbody tr th:only-of-type {\n",
       "        vertical-align: middle;\n",
       "    }\n",
       "\n",
       "    .dataframe tbody tr th {\n",
       "        vertical-align: top;\n",
       "    }\n",
       "\n",
       "    .dataframe thead th {\n",
       "        text-align: right;\n",
       "    }\n",
       "</style>\n",
       "<table border=\"1\" class=\"dataframe\">\n",
       "  <thead>\n",
       "    <tr style=\"text-align: right;\">\n",
       "      <th></th>\n",
       "      <th>county</th>\n",
       "      <th>state</th>\n",
       "      <th>dem_pct</th>\n",
       "    </tr>\n",
       "  </thead>\n",
       "  <tbody>\n",
       "    <tr>\n",
       "      <th>2546</th>\n",
       "      <td>District of Columbia</td>\n",
       "      <td>District of Columbia</td>\n",
       "      <td>92.85</td>\n",
       "    </tr>\n",
       "  </tbody>\n",
       "</table>\n",
       "</div>"
      ],
      "text/plain": [
       "                    county                 state  dem_pct\n",
       "2546  District of Columbia  District of Columbia    92.85"
      ]
     },
     "execution_count": 432,
     "metadata": {},
     "output_type": "execute_result"
    }
   ],
   "source": [
    "# Max percentage\n",
    "merged.loc[merged['dem_pct'] == merged['dem_pct'].max()][['county', 'state', 'dem_pct']]"
   ]
  },
  {
   "cell_type": "code",
   "execution_count": 433,
   "metadata": {},
   "outputs": [
    {
     "data": {
      "text/plain": [
       "31.69"
      ]
     },
     "execution_count": 433,
     "metadata": {},
     "output_type": "execute_result"
    }
   ],
   "source": [
    "# Average percentage\n",
    "round(merged['dem_pct'].mean(), 2)"
   ]
  },
  {
   "cell_type": "code",
   "execution_count": 434,
   "metadata": {},
   "outputs": [
    {
     "data": {
      "text/plain": [
       "0"
      ]
     },
     "execution_count": 434,
     "metadata": {},
     "output_type": "execute_result"
    }
   ],
   "source": [
    "# Checking on null values\n",
    "merged['dem_pct'].isna().sum()"
   ]
  },
  {
   "cell_type": "markdown",
   "metadata": {},
   "source": [
    "We are checking on minimum and maximum to see how different and polarized the United States can be. In one county the Democrats had a massive win by having 92.85% of the votes in the 2016 elections, but they also suffered a gigantic loss in another county, with only 3.14% of the votes (interesting number, PI day was yesterday!).\n",
    "\n",
    "Of course that, due to the way the national elections are hold, some U.S. states are \"more important\" in terms of win/loss than others, depending on how many representatives they have due to the differences in their populations sizes."
   ]
  },
  {
   "cell_type": "markdown",
   "metadata": {},
   "source": [
    "#### 1.5 - Visualization!"
   ]
  },
  {
   "cell_type": "code",
   "execution_count": 435,
   "metadata": {},
   "outputs": [
    {
     "data": {
      "text/plain": [
       "Text(0.5, 1.0, 'Histogram of estimated population of U.S. counties in 2016')"
      ]
     },
     "execution_count": 435,
     "metadata": {},
     "output_type": "execute_result"
    },
    {
     "data": {
      "image/png": "[encoded data removed]",
      "text/plain": [
       "<Figure size 576x504 with 1 Axes>"
      ]
     },
     "metadata": {
      "needs_background": "light"
     },
     "output_type": "display_data"
    }
   ],
   "source": [
    "# Analyzing the POPESTIMATE2016 variable\n",
    "\n",
    "# Source: https://medium.com/towards-artificial-intelligence/when-and-why-to-use-log-transformation-in-regression-6a326d6259e6\n",
    "plt.figure(figsize=(8, 7))\n",
    "plt.hist(merged.POPESTIMATE2016)\n",
    "plt.xlabel('Estimated population in 2016 (in 10,000,000s)')\n",
    "plt.ylabel('Number of counties')\n",
    "plt.title('Histogram of estimated population of U.S. counties in 2016')"
   ]
  },
  {
   "cell_type": "markdown",
   "metadata": {},
   "source": [
    "Most counties had an estimated population of under 1 million people, with just a few above that. Because there is a huge difference between a county with just a couple thousand people, and a county with almost a million, applying **natural log** to this variable is a good idea for further analysis.\n",
    "\n",
    "The greater the population is, the greater its natural log will be. However, we know that log(x) increases on a smaller rate as x increases (for positive numbers). This relationship can give us a better insight on our visualization, as seen below:"
   ]
  },
  {
   "cell_type": "code",
   "execution_count": 436,
   "metadata": {},
   "outputs": [
    {
     "data": {
      "text/plain": [
       "Text(0, 0.5, 'Votes cast for democrats (%)')"
      ]
     },
     "execution_count": 436,
     "metadata": {},
     "output_type": "execute_result"
    },
    {
     "data": {
      "image/png": "[encoded data removed]",
      "text/plain": [
       "<Figure size 432x288 with 1 Axes>"
      ]
     },
     "metadata": {
      "needs_background": "light"
     },
     "output_type": "display_data"
    }
   ],
   "source": [
    "# Scatterplot\n",
    "plt.scatter(np.log(merged.POPESTIMATE2016), merged.dem_pct, edgecolor='k')\n",
    "\n",
    "plt.xlabel('Estimated population in 2016 (log)')\n",
    "plt.ylabel('Votes cast for democrats (%)')"
   ]
  },
  {
   "cell_type": "markdown",
   "metadata": {},
   "source": [
    "We can see that there is a positive correlation between the natural log of the estimated population for a county in 2016 and the percentage of votes cast for the Democratic party in the elections that year.\n",
    "\n",
    "Observe that most of the points in our scatterplot are very condensed on the range of about 10% and 20% for a log between 6 and 10. However, the range goes to about 30% and 60% more consistently for a log between 10 and 13, which may indicate that larger populations tend to have a higher percentage of votes cast for democrats than smaller ones.\n",
    "\n",
    "It is true though, that this variable alone does not explain the variations and differences in the percentage of votes for democrats in 2016."
   ]
  },
  {
   "cell_type": "markdown",
   "metadata": {},
   "source": [
    "#### 1.6 - DIVISION (and REGION) variables"
   ]
  },
  {
   "cell_type": "code",
   "execution_count": 437,
   "metadata": {},
   "outputs": [
    {
     "data": {
      "text/plain": [
       "Text(0.5, 1.0, 'Histogram of the number of counties in each U.S. Division')"
      ]
     },
     "execution_count": 437,
     "metadata": {},
     "output_type": "execute_result"
    },
    {
     "data": {
      "image/png": "[encoded data removed]",
      "text/plain": [
       "<Figure size 432x288 with 1 Axes>"
      ]
     },
     "metadata": {
      "needs_background": "light"
     },
     "output_type": "display_data"
    }
   ],
   "source": [
    "plt.hist(merged.DIVISION)\n",
    "plt.xlabel('U.S. Division')\n",
    "plt.ylabel('Number of counties')\n",
    "plt.title('Histogram of the number of counties in each U.S. Division')\n",
    "\n",
    "# Key for DIVISION (from the 'county-data-variables.pdf file on Canvas'):\n",
    " # 1 = New England; 2 = Middle Atlantic; 3 = East North Central; 4 = West North Central;\n",
    " # 5 = South Atlantic; 6 = East South Central; 7 = West South Central; 8 = Mountain; 9 = Pacific"
   ]
  },
  {
   "cell_type": "code",
   "execution_count": 438,
   "metadata": {},
   "outputs": [
    {
     "data": {
      "text/plain": [
       "<seaborn.axisgrid.FacetGrid at 0x27a11d51d08>"
      ]
     },
     "execution_count": 438,
     "metadata": {},
     "output_type": "execute_result"
    },
    {
     "data": {
      "image/png": "[encoded data removed]",
      "text/plain": [
       "<Figure size 407x360 with 1 Axes>"
      ]
     },
     "metadata": {
      "needs_background": "light"
     },
     "output_type": "display_data"
    }
   ],
   "source": [
    "# Boxplot with seaborn! We're working with a categorical data, after all\n",
    "import seaborn as sns\n",
    "g = sns.catplot(x='DIVISION', y='dem_pct', hue='REGION', kind='box', data=merged)\n",
    "g.set_axis_labels('U.S. counties DIVISION', 'Votes cast for democrats (%)')\n",
    "\n",
    "# Key for REGION (from the 'county-data-variables.pdf file on Canvas'):\n",
    " # 1 = Northeast 2 = Midwest 3 = South  4 = West "
   ]
  },
  {
   "cell_type": "markdown",
   "metadata": {},
   "source": [
    "I chose to use both DIVISION and REGION variables to confirm some assumptions I had. As we know, there is a tendency in the United States that states in the Northern part (plus California) are usually supportive of the Democrat party, whereas the Southern ones are in favor of the Republican party.\n",
    "\n",
    "From the plot above, we can see that the counties on New England and in the Pacific are the ones who had the highest percentage of votes cast for Democrats, with their median about 52% and 42%, respectively. The minimums and maximums are also interesting to observe as, in the case of the Pacific division, for example, they can go down to 20% of votes and up to 85%, which shows that counties in a certain division and region not necessarily share the same views and ideals than their \"mates\".\n",
    "\n",
    "On the other hand, counties in the Midwest and the South - specially in the West North Central, East South Central, and West South Central divisions - showed a lower percentage of votes cast for democrats, with medians below 40% and above 20%. However, these divisions have the largest amount of outliers, which represent counties that had a very high percentage of votes cast for democrats in the 2016 elections. This can indicate that, despite being part of divisions and regions that are majority pro-Republican, a few counties lean more towards democratic ideals."
   ]
  },
  {
   "cell_type": "markdown",
   "metadata": {},
   "source": [
    "### Regression analysis\n",
    "\n",
    "#### 1.7 - Regression model of democrat's percentage by county population"
   ]
  },
  {
   "cell_type": "code",
   "execution_count": 439,
   "metadata": {},
   "outputs": [
    {
     "data": {
      "text/plain": [
       "Intercept          30.018676\n",
       "POPESTIMATE2016     0.000016\n",
       "dtype: float64"
      ]
     },
     "execution_count": 439,
     "metadata": {},
     "output_type": "execute_result"
    }
   ],
   "source": [
    "import statsmodels.formula.api as smf\n",
    "m = smf.ols(formula='dem_pct ~POPESTIMATE2016', data=merged).fit()\n",
    "m.params"
   ]
  },
  {
   "cell_type": "code",
   "execution_count": 440,
   "metadata": {},
   "outputs": [
    {
     "data": {
      "text/html": [
       "<table class=\"simpletable\">\n",
       "<caption>OLS Regression Results</caption>\n",
       "<tr>\n",
       "  <th>Dep. Variable:</th>         <td>dem_pct</td>     <th>  R-squared:         </th> <td>   0.122</td> \n",
       "</tr>\n",
       "<tr>\n",
       "  <th>Model:</th>                   <td>OLS</td>       <th>  Adj. R-squared:    </th> <td>   0.122</td> \n",
       "</tr>\n",
       "<tr>\n",
       "  <th>Method:</th>             <td>Least Squares</td>  <th>  F-statistic:       </th> <td>   433.4</td> \n",
       "</tr>\n",
       "<tr>\n",
       "  <th>Date:</th>             <td>Mon, 16 Mar 2020</td> <th>  Prob (F-statistic):</th> <td>3.15e-90</td> \n",
       "</tr>\n",
       "<tr>\n",
       "  <th>Time:</th>                 <td>16:02:11</td>     <th>  Log-Likelihood:    </th> <td> -12703.</td> \n",
       "</tr>\n",
       "<tr>\n",
       "  <th>No. Observations:</th>      <td>  3111</td>      <th>  AIC:               </th> <td>2.541e+04</td>\n",
       "</tr>\n",
       "<tr>\n",
       "  <th>Df Residuals:</th>          <td>  3109</td>      <th>  BIC:               </th> <td>2.542e+04</td>\n",
       "</tr>\n",
       "<tr>\n",
       "  <th>Df Model:</th>              <td>     1</td>      <th>                     </th>     <td> </td>    \n",
       "</tr>\n",
       "<tr>\n",
       "  <th>Covariance Type:</th>      <td>nonrobust</td>    <th>                     </th>     <td> </td>    \n",
       "</tr>\n",
       "</table>\n",
       "<table class=\"simpletable\">\n",
       "<tr>\n",
       "         <td></td>            <th>coef</th>     <th>std err</th>      <th>t</th>      <th>P>|t|</th>  <th>[0.025</th>    <th>0.975]</th>  \n",
       "</tr>\n",
       "<tr>\n",
       "  <th>Intercept</th>       <td>   30.0187</td> <td>    0.270</td> <td>  111.270</td> <td> 0.000</td> <td>   29.490</td> <td>   30.548</td>\n",
       "</tr>\n",
       "<tr>\n",
       "  <th>POPESTIMATE2016</th> <td> 1.616e-05</td> <td> 7.76e-07</td> <td>   20.819</td> <td> 0.000</td> <td> 1.46e-05</td> <td> 1.77e-05</td>\n",
       "</tr>\n",
       "</table>\n",
       "<table class=\"simpletable\">\n",
       "<tr>\n",
       "  <th>Omnibus:</th>       <td>386.660</td> <th>  Durbin-Watson:     </th> <td>   2.003</td> \n",
       "</tr>\n",
       "<tr>\n",
       "  <th>Prob(Omnibus):</th> <td> 0.000</td>  <th>  Jarque-Bera (JB):  </th> <td>1018.447</td> \n",
       "</tr>\n",
       "<tr>\n",
       "  <th>Skew:</th>          <td> 0.689</td>  <th>  Prob(JB):          </th> <td>7.03e-222</td>\n",
       "</tr>\n",
       "<tr>\n",
       "  <th>Kurtosis:</th>      <td> 5.441</td>  <th>  Cond. No.          </th> <td>3.64e+05</td> \n",
       "</tr>\n",
       "</table><br/><br/>Warnings:<br/>[1] Standard Errors assume that the covariance matrix of the errors is correctly specified.<br/>[2] The condition number is large, 3.64e+05. This might indicate that there are<br/>strong multicollinearity or other numerical problems."
      ],
      "text/plain": [
       "<class 'statsmodels.iolib.summary.Summary'>\n",
       "\"\"\"\n",
       "                            OLS Regression Results                            \n",
       "==============================================================================\n",
       "Dep. Variable:                dem_pct   R-squared:                       0.122\n",
       "Model:                            OLS   Adj. R-squared:                  0.122\n",
       "Method:                 Least Squares   F-statistic:                     433.4\n",
       "Date:                Mon, 16 Mar 2020   Prob (F-statistic):           3.15e-90\n",
       "Time:                        16:02:11   Log-Likelihood:                -12703.\n",
       "No. Observations:                3111   AIC:                         2.541e+04\n",
       "Df Residuals:                    3109   BIC:                         2.542e+04\n",
       "Df Model:                           1                                         \n",
       "Covariance Type:            nonrobust                                         \n",
       "===================================================================================\n",
       "                      coef    std err          t      P>|t|      [0.025      0.975]\n",
       "-----------------------------------------------------------------------------------\n",
       "Intercept          30.0187      0.270    111.270      0.000      29.490      30.548\n",
       "POPESTIMATE2016  1.616e-05   7.76e-07     20.819      0.000    1.46e-05    1.77e-05\n",
       "==============================================================================\n",
       "Omnibus:                      386.660   Durbin-Watson:                   2.003\n",
       "Prob(Omnibus):                  0.000   Jarque-Bera (JB):             1018.447\n",
       "Skew:                           0.689   Prob(JB):                    7.03e-222\n",
       "Kurtosis:                       5.441   Cond. No.                     3.64e+05\n",
       "==============================================================================\n",
       "\n",
       "Warnings:\n",
       "[1] Standard Errors assume that the covariance matrix of the errors is correctly specified.\n",
       "[2] The condition number is large, 3.64e+05. This might indicate that there are\n",
       "strong multicollinearity or other numerical problems.\n",
       "\"\"\""
      ]
     },
     "execution_count": 440,
     "metadata": {},
     "output_type": "execute_result"
    }
   ],
   "source": [
    "m.summary()"
   ]
  },
  {
   "cell_type": "markdown",
   "metadata": {},
   "source": [
    "Using the county population in 2016 as the response variable and the democrat's percentage of each county as the independent variable, we have a slope of 0.000016 and an intercept of 30. That means that, when the population is 0, the percentage of votes cast for the Democrats is of 30% and, for each increase of 1 person in this population, the percentage **goes up** by 0.000016%.\n",
    "\n",
    "From the summary table we can also see that, for both coefficients, we have very big t-values and we have p-values equal to 0. Because of our 5% significance level, a p-value < 0.05 means that we reject the null hypothesis that these values were random. As this happens for both coefficients, they are **both statistically significant**. Note, as well, how the two coefficients are within the [0.025, 0.975] interval as well!"
   ]
  },
  {
   "cell_type": "code",
   "execution_count": 441,
   "metadata": {},
   "outputs": [
    {
     "data": {
      "text/plain": [
       "[<matplotlib.lines.Line2D at 0x27a12119348>]"
      ]
     },
     "execution_count": 441,
     "metadata": {},
     "output_type": "execute_result"
    },
    {
     "data": {
      "image/png": "[encoded data removed]",
      "text/plain": [
       "<Figure size 432x288 with 1 Axes>"
      ]
     },
     "metadata": {
      "needs_background": "light"
     },
     "output_type": "display_data"
    }
   ],
   "source": [
    "x = np.linspace(merged.POPESTIMATE2016.min(), merged.POPESTIMATE2016.max(), 10)\n",
    "y_hat = m.params[0] + m.params[1]*x\n",
    "plt.scatter(merged.POPESTIMATE2016, merged.dem_pct, edgecolor='k')\n",
    "plt.plot(x, y_hat, c='red')"
   ]
  },
  {
   "cell_type": "markdown",
   "metadata": {},
   "source": [
    "#### 1.8 - Regression model of democrat's percentage by natural log of county population"
   ]
  },
  {
   "cell_type": "code",
   "execution_count": 442,
   "metadata": {},
   "outputs": [],
   "source": [
    "m = smf.ols(formula='dem_pct ~ np.log(POPESTIMATE2016)', data=merged).fit()"
   ]
  },
  {
   "cell_type": "code",
   "execution_count": 443,
   "metadata": {},
   "outputs": [
    {
     "data": {
      "text/html": [
       "<table class=\"simpletable\">\n",
       "<caption>OLS Regression Results</caption>\n",
       "<tr>\n",
       "  <th>Dep. Variable:</th>         <td>dem_pct</td>     <th>  R-squared:         </th> <td>   0.251</td> \n",
       "</tr>\n",
       "<tr>\n",
       "  <th>Model:</th>                   <td>OLS</td>       <th>  Adj. R-squared:    </th> <td>   0.250</td> \n",
       "</tr>\n",
       "<tr>\n",
       "  <th>Method:</th>             <td>Least Squares</td>  <th>  F-statistic:       </th> <td>   1040.</td> \n",
       "</tr>\n",
       "<tr>\n",
       "  <th>Date:</th>             <td>Mon, 16 Mar 2020</td> <th>  Prob (F-statistic):</th> <td>4.59e-197</td>\n",
       "</tr>\n",
       "<tr>\n",
       "  <th>Time:</th>                 <td>16:02:11</td>     <th>  Log-Likelihood:    </th> <td> -12457.</td> \n",
       "</tr>\n",
       "<tr>\n",
       "  <th>No. Observations:</th>      <td>  3111</td>      <th>  AIC:               </th> <td>2.492e+04</td>\n",
       "</tr>\n",
       "<tr>\n",
       "  <th>Df Residuals:</th>          <td>  3109</td>      <th>  BIC:               </th> <td>2.493e+04</td>\n",
       "</tr>\n",
       "<tr>\n",
       "  <th>Df Model:</th>              <td>     1</td>      <th>                     </th>     <td> </td>    \n",
       "</tr>\n",
       "<tr>\n",
       "  <th>Covariance Type:</th>      <td>nonrobust</td>    <th>                     </th>     <td> </td>    \n",
       "</tr>\n",
       "</table>\n",
       "<table class=\"simpletable\">\n",
       "<tr>\n",
       "             <td></td>                <th>coef</th>     <th>std err</th>      <th>t</th>      <th>P>|t|</th>  <th>[0.025</th>    <th>0.975]</th>  \n",
       "</tr>\n",
       "<tr>\n",
       "  <th>Intercept</th>               <td>  -21.6520</td> <td>    1.671</td> <td>  -12.955</td> <td> 0.000</td> <td>  -24.929</td> <td>  -18.375</td>\n",
       "</tr>\n",
       "<tr>\n",
       "  <th>np.log(POPESTIMATE2016)</th> <td>    5.1860</td> <td>    0.161</td> <td>   32.247</td> <td> 0.000</td> <td>    4.871</td> <td>    5.501</td>\n",
       "</tr>\n",
       "</table>\n",
       "<table class=\"simpletable\">\n",
       "<tr>\n",
       "  <th>Omnibus:</th>       <td>621.978</td> <th>  Durbin-Watson:     </th> <td>   1.992</td> \n",
       "</tr>\n",
       "<tr>\n",
       "  <th>Prob(Omnibus):</th> <td> 0.000</td>  <th>  Jarque-Bera (JB):  </th> <td>1196.497</td> \n",
       "</tr>\n",
       "<tr>\n",
       "  <th>Skew:</th>          <td> 1.209</td>  <th>  Prob(JB):          </th> <td>1.53e-260</td>\n",
       "</tr>\n",
       "<tr>\n",
       "  <th>Kurtosis:</th>      <td> 4.839</td>  <th>  Cond. No.          </th> <td>    73.7</td> \n",
       "</tr>\n",
       "</table><br/><br/>Warnings:<br/>[1] Standard Errors assume that the covariance matrix of the errors is correctly specified."
      ],
      "text/plain": [
       "<class 'statsmodels.iolib.summary.Summary'>\n",
       "\"\"\"\n",
       "                            OLS Regression Results                            \n",
       "==============================================================================\n",
       "Dep. Variable:                dem_pct   R-squared:                       0.251\n",
       "Model:                            OLS   Adj. R-squared:                  0.250\n",
       "Method:                 Least Squares   F-statistic:                     1040.\n",
       "Date:                Mon, 16 Mar 2020   Prob (F-statistic):          4.59e-197\n",
       "Time:                        16:02:11   Log-Likelihood:                -12457.\n",
       "No. Observations:                3111   AIC:                         2.492e+04\n",
       "Df Residuals:                    3109   BIC:                         2.493e+04\n",
       "Df Model:                           1                                         \n",
       "Covariance Type:            nonrobust                                         \n",
       "===========================================================================================\n",
       "                              coef    std err          t      P>|t|      [0.025      0.975]\n",
       "-------------------------------------------------------------------------------------------\n",
       "Intercept                 -21.6520      1.671    -12.955      0.000     -24.929     -18.375\n",
       "np.log(POPESTIMATE2016)     5.1860      0.161     32.247      0.000       4.871       5.501\n",
       "==============================================================================\n",
       "Omnibus:                      621.978   Durbin-Watson:                   1.992\n",
       "Prob(Omnibus):                  0.000   Jarque-Bera (JB):             1196.497\n",
       "Skew:                           1.209   Prob(JB):                    1.53e-260\n",
       "Kurtosis:                       4.839   Cond. No.                         73.7\n",
       "==============================================================================\n",
       "\n",
       "Warnings:\n",
       "[1] Standard Errors assume that the covariance matrix of the errors is correctly specified.\n",
       "\"\"\""
      ]
     },
     "execution_count": 443,
     "metadata": {},
     "output_type": "execute_result"
    }
   ],
   "source": [
    "# Summary table\n",
    "m.summary()"
   ]
  },
  {
   "cell_type": "markdown",
   "metadata": {},
   "source": [
    "Using the natural log of the county population in 2016 as the response variable and the democrat's percentage of each county as the independent variable, we have a slope of about 5.19 and an intercept of -21.65. That means that, when the population is 0, the percentage of votes cast for the Democrats is of -21.65% and, for each increase of 1 in the natural log of this population, the percentage **goes up** by 5.19%.\n",
    "\n",
    "From the summary table we can also see that, for both coefficients, we have very big t-values and we have p-values equal to 0. Because of our 5% significance level, a p-value < 0.05 means that we reject the null hypothesis that these values were random. As this happens for both coefficients, they are **both statistically significant**. Note, as well, how the two coefficients are within the [0.025, 0.975] interval as well!"
   ]
  },
  {
   "cell_type": "code",
   "execution_count": 444,
   "metadata": {},
   "outputs": [
    {
     "data": {
      "text/plain": [
       "[<matplotlib.lines.Line2D at 0x27a1215ec08>]"
      ]
     },
     "execution_count": 444,
     "metadata": {},
     "output_type": "execute_result"
    },
    {
     "data": {
      "image/png": "[encoded data removed]",
      "text/plain": [
       "<Figure size 432x288 with 1 Axes>"
      ]
     },
     "metadata": {
      "needs_background": "light"
     },
     "output_type": "display_data"
    }
   ],
   "source": [
    "# Let's revisit our plot, but this time with the linear regression line crossing it\n",
    "x = np.linspace(np.log(merged.POPESTIMATE2016).min(), np.log(merged.POPESTIMATE2016).max(), 10)\n",
    "y_hat = m.params[0] + m.params[1]*x\n",
    "plt.scatter(np.log(merged.POPESTIMATE2016), merged.dem_pct, edgecolor='k')\n",
    "plt.plot(x, y_hat, c='red')"
   ]
  },
  {
   "cell_type": "markdown",
   "metadata": {},
   "source": [
    "#### 1.9 - Comparing the models\n",
    "\n",
    "I prefer the second model, with the natural log transformation, than the first one. Both models display a positive correlation between the percentage of votes cast for democrats and the two independent variables used in the models. \n",
    "\n",
    "However, the fact that the second model uses the natural log transformation - which I believed back at step 1.5 to be more useful - brings a greater R^2 value, which indicates that it explains more of the variability in the response variable than the first model. Because the natural log makes the data more sparse (less concentrated) due to its naturality (being the population of a county), I believe that it is better for the regression model."
   ]
  },
  {
   "cell_type": "markdown",
   "metadata": {},
   "source": [
    "#### 1.10 - Multiple Regression model\n",
    "\n",
    "Besides the natural log of the county population in 2016, let's add a few more variables to the model, making it a **multiple regression model**.\n",
    "\n",
    "We'll use the following variables:\n",
    "- The natural log of the estimated county population in 2016;\n",
    "- Census Division Code\n",
    "- Census Region Code\n",
    "- Death rate in period 7/1/2015 to 6/30/2016\n",
    "- Net migration rate in period 7/1/2015 to 6/30/2016"
   ]
  },
  {
   "cell_type": "code",
   "execution_count": 445,
   "metadata": {},
   "outputs": [],
   "source": [
    "merged['logPOPESTIMATE2016'] = np.log(merged['POPESTIMATE2016'])"
   ]
  },
  {
   "cell_type": "code",
   "execution_count": 446,
   "metadata": {},
   "outputs": [
    {
     "data": {
      "text/plain": [
       "array([ 5.20132659, -2.64532676,  6.40100586, -0.48514801, -0.1396564 ])"
      ]
     },
     "execution_count": 446,
     "metadata": {},
     "output_type": "execute_result"
    }
   ],
   "source": [
    "# Source: https://towardsdatascience.com/simple-and-multiple-linear-regression-with-python-c9ab422ec29c\n",
    "from sklearn.linear_model import LinearRegression\n",
    "\n",
    "# Create linear regression object.\n",
    "mlr = LinearRegression()\n",
    "\n",
    "# Fit linear regression.\n",
    "mlr.fit(merged[['logPOPESTIMATE2016', 'DIVISION', 'REGION', 'RDEATH2016', 'RNETMIG2016']], merged['dem_pct'])\n",
    "\n",
    "# Get the slope and intercept of the line best fit.\n",
    "mlr.coef_"
   ]
  },
  {
   "cell_type": "markdown",
   "metadata": {},
   "source": [
    "From the results above, we can observe that there is a **positive correlation** between the percentage of votes cast for democrats in 2016 and the following variables: _natural log of the estimated county population in 2016_, and _region_. On the other hand, there is a **negative correlation** between the response variable and the following ones: _DIVISION_, _RDEATH2016_, and _RNETMIG2016_, with the last two having small negative coefficients.\n",
    "\n",
    "In our multiple regression model, we have that, with **all other variables constant**, an increase of 1 in the following variable:\n",
    "- `logPOPESTIMATE2016` increases the percentage rate by 5.20%.\n",
    "- `DIVISION` decreases the percentage rate by 2.65%.\n",
    "- `REGION` increases the percentage rate by 6.40%.\n",
    "- `RDEATH2016` decreases the percentage rate by 0.49%.\n",
    "- `RNETMIG2016` decreases the percentage rate by 0.14%."
   ]
  },
  {
   "cell_type": "markdown",
   "metadata": {},
   "source": [
    "#### 1.11 - Insights!\n",
    "\n",
    "One of the issues with the data, that we managed to observe at the beginning of this first part of the assignment, was that we lack data on elections in Alaska. This probably did not affect our models and analyzes entirely, but it did not give us the best scenario nor insights.\n",
    "\n",
    "In general, everything we managed to get out from the datasets could be used by both the Democrats, which have an idea on the factors that could effectively affect the number of votes they receive and where they are mostly located at, but also by the Republicans, as they can create strategies to transfer some of their investments from places they are well represented to others that they can perform better in the future.\n",
    "\n",
    "In the end, everyone wins as we have free access to such fantastic, socially-responsible datasets. I am glad we had the opportunity to work with such important, real data and got a glimpse of the impact we can create in the world with it!"
   ]
  },
  {
   "cell_type": "markdown",
   "metadata": {},
   "source": [
    "## 2 - Categorization"
   ]
  },
  {
   "cell_type": "markdown",
   "metadata": {},
   "source": [
    "#### 2.1 - Loading data and performing basic sanity checks"
   ]
  },
  {
   "cell_type": "code",
   "execution_count": 447,
   "metadata": {},
   "outputs": [
    {
     "data": {
      "text/html": [
       "<div>\n",
       "<style scoped>\n",
       "    .dataframe tbody tr th:only-of-type {\n",
       "        vertical-align: middle;\n",
       "    }\n",
       "\n",
       "    .dataframe tbody tr th {\n",
       "        vertical-align: top;\n",
       "    }\n",
       "\n",
       "    .dataframe thead th {\n",
       "        text-align: right;\n",
       "    }\n",
       "</style>\n",
       "<table border=\"1\" class=\"dataframe\">\n",
       "  <thead>\n",
       "    <tr style=\"text-align: right;\">\n",
       "      <th></th>\n",
       "      <th>id</th>\n",
       "      <th>listing_url</th>\n",
       "      <th>scrape_id</th>\n",
       "      <th>last_scraped</th>\n",
       "      <th>name</th>\n",
       "      <th>summary</th>\n",
       "      <th>space</th>\n",
       "      <th>description</th>\n",
       "      <th>experiences_offered</th>\n",
       "      <th>neighborhood_overview</th>\n",
       "      <th>...</th>\n",
       "      <th>instant_bookable</th>\n",
       "      <th>is_business_travel_ready</th>\n",
       "      <th>cancellation_policy</th>\n",
       "      <th>require_guest_profile_picture</th>\n",
       "      <th>require_guest_phone_verification</th>\n",
       "      <th>calculated_host_listings_count</th>\n",
       "      <th>calculated_host_listings_count_entire_homes</th>\n",
       "      <th>calculated_host_listings_count_private_rooms</th>\n",
       "      <th>calculated_host_listings_count_shared_rooms</th>\n",
       "      <th>reviews_per_month</th>\n",
       "    </tr>\n",
       "  </thead>\n",
       "  <tbody>\n",
       "    <tr>\n",
       "      <th>0</th>\n",
       "      <td>44054</td>\n",
       "      <td>https://www.airbnb.com/rooms/44054</td>\n",
       "      <td>20191124233310</td>\n",
       "      <td>2019-11-25</td>\n",
       "      <td>Modern and Comfortable Living in CBD</td>\n",
       "      <td>East Apartments offers comfortable living away...</td>\n",
       "      <td>East Apartments is a western managed serviced ...</td>\n",
       "      <td>East Apartments offers comfortable living away...</td>\n",
       "      <td>none</td>\n",
       "      <td>The neighborhood is a private compound.  Just ...</td>\n",
       "      <td>...</td>\n",
       "      <td>t</td>\n",
       "      <td>f</td>\n",
       "      <td>strict_14_with_grace_period</td>\n",
       "      <td>f</td>\n",
       "      <td>f</td>\n",
       "      <td>5</td>\n",
       "      <td>5</td>\n",
       "      <td>0</td>\n",
       "      <td>0</td>\n",
       "      <td>0.86</td>\n",
       "    </tr>\n",
       "    <tr>\n",
       "      <th>1</th>\n",
       "      <td>100213</td>\n",
       "      <td>https://www.airbnb.com/rooms/100213</td>\n",
       "      <td>20191124233310</td>\n",
       "      <td>2019-11-25</td>\n",
       "      <td>The Great Wall Box Deluxe Suite A团园长城小院东院套房</td>\n",
       "      <td>This is your guide to live by the Great Wall! ...</td>\n",
       "      <td>This is your guide to live by the Great Wall! ...</td>\n",
       "      <td>This is your guide to live by the Great Wall! ...</td>\n",
       "      <td>none</td>\n",
       "      <td>5 mins walk to Panglongshan Great Wall, 25 min...</td>\n",
       "      <td>...</td>\n",
       "      <td>t</td>\n",
       "      <td>f</td>\n",
       "      <td>strict_14_with_grace_period</td>\n",
       "      <td>f</td>\n",
       "      <td>f</td>\n",
       "      <td>4</td>\n",
       "      <td>0</td>\n",
       "      <td>3</td>\n",
       "      <td>1</td>\n",
       "      <td>0.07</td>\n",
       "    </tr>\n",
       "    <tr>\n",
       "      <th>2</th>\n",
       "      <td>103749</td>\n",
       "      <td>https://www.airbnb.com/rooms/103749</td>\n",
       "      <td>20191124233310</td>\n",
       "      <td>2019-11-25</td>\n",
       "      <td>Sun Thirsty Full Service Suite Apt.</td>\n",
       "      <td>华纳北京恋日公寓位于北京的中心商务区,是十分受到旅客欢迎的订房选择｡ 5.0 km之外便是市...</td>\n",
       "      <td>Our Suite Apartments are located only 40 km fr...</td>\n",
       "      <td>Our Suite Apartments are located only 40 km fr...</td>\n",
       "      <td>none</td>\n",
       "      <td>Numerous eateries and coffee store within 3 mi...</td>\n",
       "      <td>...</td>\n",
       "      <td>f</td>\n",
       "      <td>f</td>\n",
       "      <td>moderate</td>\n",
       "      <td>f</td>\n",
       "      <td>f</td>\n",
       "      <td>3</td>\n",
       "      <td>3</td>\n",
       "      <td>0</td>\n",
       "      <td>0</td>\n",
       "      <td>0.16</td>\n",
       "    </tr>\n",
       "    <tr>\n",
       "      <th>3</th>\n",
       "      <td>114384</td>\n",
       "      <td>https://www.airbnb.com/rooms/114384</td>\n",
       "      <td>20191124233310</td>\n",
       "      <td>2019-11-25</td>\n",
       "      <td>CBD Luxury 1-bedroom suite with a 30m2 terrace</td>\n",
       "      <td>Located in the core position of Chaoyang CBD. ...</td>\n",
       "      <td>Closed fully-equipped kitchen with top brand f...</td>\n",
       "      <td>Located in the core position of Chaoyang CBD. ...</td>\n",
       "      <td>none</td>\n",
       "      <td>Located in the core position of Chaoyang CBD. ...</td>\n",
       "      <td>...</td>\n",
       "      <td>t</td>\n",
       "      <td>f</td>\n",
       "      <td>moderate</td>\n",
       "      <td>f</td>\n",
       "      <td>f</td>\n",
       "      <td>3</td>\n",
       "      <td>3</td>\n",
       "      <td>0</td>\n",
       "      <td>0</td>\n",
       "      <td>0.77</td>\n",
       "    </tr>\n",
       "  </tbody>\n",
       "</table>\n",
       "<p>4 rows × 106 columns</p>\n",
       "</div>"
      ],
      "text/plain": [
       "       id                          listing_url       scrape_id last_scraped  \\\n",
       "0   44054   https://www.airbnb.com/rooms/44054  20191124233310   2019-11-25   \n",
       "1  100213  https://www.airbnb.com/rooms/100213  20191124233310   2019-11-25   \n",
       "2  103749  https://www.airbnb.com/rooms/103749  20191124233310   2019-11-25   \n",
       "3  114384  https://www.airbnb.com/rooms/114384  20191124233310   2019-11-25   \n",
       "\n",
       "                                             name  \\\n",
       "0            Modern and Comfortable Living in CBD   \n",
       "1     The Great Wall Box Deluxe Suite A团园长城小院东院套房   \n",
       "2             Sun Thirsty Full Service Suite Apt.   \n",
       "3  CBD Luxury 1-bedroom suite with a 30m2 terrace   \n",
       "\n",
       "                                             summary  \\\n",
       "0  East Apartments offers comfortable living away...   \n",
       "1  This is your guide to live by the Great Wall! ...   \n",
       "2  华纳北京恋日公寓位于北京的中心商务区,是十分受到旅客欢迎的订房选择｡ 5.0 km之外便是市...   \n",
       "3  Located in the core position of Chaoyang CBD. ...   \n",
       "\n",
       "                                               space  \\\n",
       "0  East Apartments is a western managed serviced ...   \n",
       "1  This is your guide to live by the Great Wall! ...   \n",
       "2  Our Suite Apartments are located only 40 km fr...   \n",
       "3  Closed fully-equipped kitchen with top brand f...   \n",
       "\n",
       "                                         description experiences_offered  \\\n",
       "0  East Apartments offers comfortable living away...                none   \n",
       "1  This is your guide to live by the Great Wall! ...                none   \n",
       "2  Our Suite Apartments are located only 40 km fr...                none   \n",
       "3  Located in the core position of Chaoyang CBD. ...                none   \n",
       "\n",
       "                               neighborhood_overview  ... instant_bookable  \\\n",
       "0  The neighborhood is a private compound.  Just ...  ...                t   \n",
       "1  5 mins walk to Panglongshan Great Wall, 25 min...  ...                t   \n",
       "2  Numerous eateries and coffee store within 3 mi...  ...                f   \n",
       "3  Located in the core position of Chaoyang CBD. ...  ...                t   \n",
       "\n",
       "  is_business_travel_ready          cancellation_policy  \\\n",
       "0                        f  strict_14_with_grace_period   \n",
       "1                        f  strict_14_with_grace_period   \n",
       "2                        f                     moderate   \n",
       "3                        f                     moderate   \n",
       "\n",
       "  require_guest_profile_picture require_guest_phone_verification  \\\n",
       "0                             f                                f   \n",
       "1                             f                                f   \n",
       "2                             f                                f   \n",
       "3                             f                                f   \n",
       "\n",
       "   calculated_host_listings_count  \\\n",
       "0                               5   \n",
       "1                               4   \n",
       "2                               3   \n",
       "3                               3   \n",
       "\n",
       "   calculated_host_listings_count_entire_homes  \\\n",
       "0                                            5   \n",
       "1                                            0   \n",
       "2                                            3   \n",
       "3                                            3   \n",
       "\n",
       "  calculated_host_listings_count_private_rooms  \\\n",
       "0                                            0   \n",
       "1                                            3   \n",
       "2                                            0   \n",
       "3                                            0   \n",
       "\n",
       "   calculated_host_listings_count_shared_rooms  reviews_per_month  \n",
       "0                                            0               0.86  \n",
       "1                                            1               0.07  \n",
       "2                                            0               0.16  \n",
       "3                                            0               0.77  \n",
       "\n",
       "[4 rows x 106 columns]"
      ]
     },
     "execution_count": 447,
     "metadata": {},
     "output_type": "execute_result"
    }
   ],
   "source": [
    "listings = pd.read_csv(\"./Downloads/airbnb-beijing-listings.csv.bz2\")\n",
    "listings.head(4)"
   ]
  },
  {
   "cell_type": "code",
   "execution_count": 448,
   "metadata": {},
   "outputs": [
    {
     "data": {
      "text/plain": [
       "(38814, 106)"
      ]
     },
     "execution_count": 448,
     "metadata": {},
     "output_type": "execute_result"
    }
   ],
   "source": [
    "# Many columns, many more rows\n",
    "listings.shape"
   ]
  },
  {
   "cell_type": "code",
   "execution_count": 449,
   "metadata": {},
   "outputs": [
    {
     "data": {
      "text/plain": [
       "host_acceptance_rate            38814\n",
       "xl_picture_url                  38814\n",
       "thumbnail_url                   38814\n",
       "neighbourhood_group_cleansed    38814\n",
       "medium_url                      38814\n",
       "                                ...  \n",
       "maximum_nights                      0\n",
       "minimum_minimum_nights              0\n",
       "maximum_minimum_nights              0\n",
       "minimum_maximum_nights              0\n",
       "id                                  0\n",
       "Length: 106, dtype: int64"
      ]
     },
     "execution_count": 449,
     "metadata": {},
     "output_type": "execute_result"
    }
   ],
   "source": [
    "# Some variables only have null values lol\n",
    "listings.isna().sum().sort_values(ascending=False)"
   ]
  },
  {
   "cell_type": "code",
   "execution_count": 450,
   "metadata": {},
   "outputs": [
    {
     "data": {
      "text/plain": [
       "54"
      ]
     },
     "execution_count": 450,
     "metadata": {},
     "output_type": "execute_result"
    }
   ],
   "source": [
    "# Number of columns with null values (from a total of 106)\n",
    "len(listings.columns[listings.isna().any()].tolist())"
   ]
  },
  {
   "cell_type": "markdown",
   "metadata": {},
   "source": [
    "#### 2.2 - Basic data cleaning\n",
    "\n",
    "(a) Convert `price` to numeric"
   ]
  },
  {
   "cell_type": "code",
   "execution_count": 451,
   "metadata": {},
   "outputs": [
    {
     "data": {
      "text/plain": [
       "dtype('O')"
      ]
     },
     "execution_count": 451,
     "metadata": {},
     "output_type": "execute_result"
    }
   ],
   "source": [
    "listings.price.dtype"
   ]
  },
  {
   "cell_type": "code",
   "execution_count": 452,
   "metadata": {},
   "outputs": [
    {
     "data": {
      "text/plain": [
       "0      $831.00\n",
       "1    $1,197.00\n",
       "2      $598.00\n",
       "3      $598.00\n",
       "4      $598.00\n",
       "5      $408.00\n",
       "6      $563.00\n",
       "Name: price, dtype: object"
      ]
     },
     "execution_count": 452,
     "metadata": {},
     "output_type": "execute_result"
    }
   ],
   "source": [
    "# A quick look at the 'price' variable, which we want to convert from Object to numeric\n",
    "listings.price.head(7)"
   ]
  },
  {
   "cell_type": "code",
   "execution_count": 453,
   "metadata": {},
   "outputs": [
    {
     "data": {
      "text/plain": [
       "0     831.00\n",
       "1    1197.00\n",
       "2     598.00\n",
       "3     598.00\n",
       "4     598.00\n",
       "5     408.00\n",
       "6     563.00\n",
       "Name: price, dtype: object"
      ]
     },
     "execution_count": 453,
     "metadata": {},
     "output_type": "execute_result"
    }
   ],
   "source": [
    "# Removing unwanted characters from the entries\n",
    "listings.price = listings.price.str.replace(',', '')\n",
    "listings.price = listings.price.str.replace('$', '')\n",
    "listings.price.head(7)"
   ]
  },
  {
   "cell_type": "code",
   "execution_count": 454,
   "metadata": {},
   "outputs": [
    {
     "data": {
      "text/plain": [
       "dtype('float64')"
      ]
     },
     "execution_count": 454,
     "metadata": {},
     "output_type": "execute_result"
    }
   ],
   "source": [
    "listings.price = listings.price.astype('float64')\n",
    "# Just to double check\n",
    "listings.price.dtype"
   ]
  },
  {
   "cell_type": "markdown",
   "metadata": {},
   "source": [
    "(b) Removing entries with missing or invalid values for the most relevant variables for us.\n",
    "\n",
    "Variables: `price`, `bedrooms`, `room_type`, `accommodates`, `bathrooms`."
   ]
  },
  {
   "cell_type": "markdown",
   "metadata": {},
   "source": [
    "`bedrooms`:"
   ]
  },
  {
   "cell_type": "code",
   "execution_count": 455,
   "metadata": {},
   "outputs": [
    {
     "data": {
      "text/plain": [
       "1.0     25706\n",
       "2.0      7641\n",
       "3.0      2566\n",
       "4.0       989\n",
       "5.0       536\n",
       "6.0       381\n",
       "0.0       236\n",
       "7.0       225\n",
       "8.0       141\n",
       "10.0      133\n",
       "9.0        89\n",
       "12.0       14\n",
       "11.0       12\n",
       "14.0        7\n",
       "18.0        5\n",
       "16.0        5\n",
       "20.0        3\n",
       "50.0        2\n",
       "25.0        2\n",
       "15.0        1\n",
       "19.0        1\n",
       "24.0        1\n",
       "13.0        1\n",
       "22.0        1\n",
       "21.0        1\n",
       "23.0        1\n",
       "Name: bedrooms, dtype: int64"
      ]
     },
     "execution_count": 455,
     "metadata": {},
     "output_type": "execute_result"
    }
   ],
   "source": [
    "listings.bedrooms.value_counts()"
   ]
  },
  {
   "cell_type": "code",
   "execution_count": 456,
   "metadata": {},
   "outputs": [
    {
     "data": {
      "text/plain": [
       "114"
      ]
     },
     "execution_count": 456,
     "metadata": {},
     "output_type": "execute_result"
    }
   ],
   "source": [
    "listings.bedrooms.isna().sum()"
   ]
  },
  {
   "cell_type": "markdown",
   "metadata": {},
   "source": [
    "`room_type`:"
   ]
  },
  {
   "cell_type": "code",
   "execution_count": 457,
   "metadata": {},
   "outputs": [
    {
     "data": {
      "text/plain": [
       "Entire home/apt    23925\n",
       "Private room       13087\n",
       "Shared room         1802\n",
       "Name: room_type, dtype: int64"
      ]
     },
     "execution_count": 457,
     "metadata": {},
     "output_type": "execute_result"
    }
   ],
   "source": [
    "listings.room_type.value_counts()"
   ]
  },
  {
   "cell_type": "code",
   "execution_count": 458,
   "metadata": {},
   "outputs": [
    {
     "data": {
      "text/plain": [
       "0"
      ]
     },
     "execution_count": 458,
     "metadata": {},
     "output_type": "execute_result"
    }
   ],
   "source": [
    "listings.room_type.isna().sum()"
   ]
  },
  {
   "cell_type": "markdown",
   "metadata": {},
   "source": [
    "`accommodates`:"
   ]
  },
  {
   "cell_type": "code",
   "execution_count": 459,
   "metadata": {},
   "outputs": [
    {
     "data": {
      "text/plain": [
       "2     17203\n",
       "4      7215\n",
       "3      3244\n",
       "1      2885\n",
       "6      2698\n",
       "5      1551\n",
       "8       976\n",
       "16      887\n",
       "10      591\n",
       "7       541\n",
       "12      384\n",
       "9       229\n",
       "14      134\n",
       "15      119\n",
       "13       83\n",
       "11       73\n",
       "34        1\n",
       "Name: accommodates, dtype: int64"
      ]
     },
     "execution_count": 459,
     "metadata": {},
     "output_type": "execute_result"
    }
   ],
   "source": [
    "listings.accommodates.value_counts()"
   ]
  },
  {
   "cell_type": "code",
   "execution_count": 460,
   "metadata": {},
   "outputs": [
    {
     "data": {
      "text/plain": [
       "0"
      ]
     },
     "execution_count": 460,
     "metadata": {},
     "output_type": "execute_result"
    }
   ],
   "source": [
    "listings.accommodates.isna().sum()"
   ]
  },
  {
   "cell_type": "markdown",
   "metadata": {},
   "source": [
    "`bathrooms`:"
   ]
  },
  {
   "cell_type": "code",
   "execution_count": 461,
   "metadata": {},
   "outputs": [
    {
     "data": {
      "text/plain": [
       "1.0      27471\n",
       "1.5       4441\n",
       "2.0       3534\n",
       "3.0        852\n",
       "0.5        501\n",
       "4.0        483\n",
       "2.5        288\n",
       "5.0        235\n",
       "6.0        181\n",
       "0.0        175\n",
       "8.0        169\n",
       "7.0        102\n",
       "4.5         83\n",
       "3.5         74\n",
       "5.5         33\n",
       "9.0         28\n",
       "7.5         27\n",
       "6.5         21\n",
       "10.0        19\n",
       "12.0        14\n",
       "8.5         11\n",
       "10.5        11\n",
       "11.0        10\n",
       "9.5          7\n",
       "14.0         4\n",
       "15.0         4\n",
       "12.5         4\n",
       "16.0         3\n",
       "13.0         3\n",
       "16.5         3\n",
       "22.0         2\n",
       "20.0         2\n",
       "14.5         2\n",
       "18.5         2\n",
       "25.0         2\n",
       "18.0         2\n",
       "33.0         1\n",
       "20.5         1\n",
       "101.5        1\n",
       "19.5         1\n",
       "Name: bathrooms, dtype: int64"
      ]
     },
     "execution_count": 461,
     "metadata": {},
     "output_type": "execute_result"
    }
   ],
   "source": [
    "# So many variations, wow\n",
    "listings.bathrooms.value_counts()"
   ]
  },
  {
   "cell_type": "markdown",
   "metadata": {},
   "source": [
    "The \".5\" probably means a toilet only, without a shower."
   ]
  },
  {
   "cell_type": "code",
   "execution_count": 462,
   "metadata": {},
   "outputs": [
    {
     "data": {
      "text/plain": [
       "7"
      ]
     },
     "execution_count": 462,
     "metadata": {},
     "output_type": "execute_result"
    }
   ],
   "source": [
    "listings.bathrooms.isna().sum()"
   ]
  },
  {
   "cell_type": "markdown",
   "metadata": {},
   "source": [
    "Let's drop the rows that have null values for any of these five variables:"
   ]
  },
  {
   "cell_type": "code",
   "execution_count": 463,
   "metadata": {},
   "outputs": [],
   "source": [
    "listings = listings.dropna(subset=['price', 'bedrooms', 'room_type', 'accommodates', 'bathrooms'])"
   ]
  },
  {
   "cell_type": "code",
   "execution_count": 464,
   "metadata": {},
   "outputs": [
    {
     "data": {
      "text/plain": [
       "(38695, 106)"
      ]
     },
     "execution_count": 464,
     "metadata": {},
     "output_type": "execute_result"
    }
   ],
   "source": [
    "# 119 rows were deleted from the dataset\n",
    "listings.shape"
   ]
  },
  {
   "cell_type": "markdown",
   "metadata": {},
   "source": [
    "#### 2.3 - The variable `expensive`\n",
    "\n",
    "We consider an AirBnb place as **expensive** if its total price divided by the number of guests included is **greater than** the place's corresponding _median_ value.\n",
    "\n",
    "First, to find the variable with information about guests included, let's take a look at _ALL_ the variables in the dataset and CTRL+F our way to the answer..."
   ]
  },
  {
   "cell_type": "code",
   "execution_count": 465,
   "metadata": {},
   "outputs": [
    {
     "data": {
      "text/plain": [
       "array(['id', 'listing_url', 'scrape_id', 'last_scraped', 'name',\n",
       "       'summary', 'space', 'description', 'experiences_offered',\n",
       "       'neighborhood_overview', 'notes', 'transit', 'access',\n",
       "       'interaction', 'house_rules', 'thumbnail_url', 'medium_url',\n",
       "       'picture_url', 'xl_picture_url', 'host_id', 'host_url',\n",
       "       'host_name', 'host_since', 'host_location', 'host_about',\n",
       "       'host_response_time', 'host_response_rate', 'host_acceptance_rate',\n",
       "       'host_is_superhost', 'host_thumbnail_url', 'host_picture_url',\n",
       "       'host_neighbourhood', 'host_listings_count',\n",
       "       'host_total_listings_count', 'host_verifications',\n",
       "       'host_has_profile_pic', 'host_identity_verified', 'street',\n",
       "       'neighbourhood', 'neighbourhood_cleansed',\n",
       "       'neighbourhood_group_cleansed', 'city', 'state', 'zipcode',\n",
       "       'market', 'smart_location', 'country_code', 'country', 'latitude',\n",
       "       'longitude', 'is_location_exact', 'property_type', 'room_type',\n",
       "       'accommodates', 'bathrooms', 'bedrooms', 'beds', 'bed_type',\n",
       "       'amenities', 'square_feet', 'price', 'weekly_price',\n",
       "       'monthly_price', 'security_deposit', 'cleaning_fee',\n",
       "       'guests_included', 'extra_people', 'minimum_nights',\n",
       "       'maximum_nights', 'minimum_minimum_nights',\n",
       "       'maximum_minimum_nights', 'minimum_maximum_nights',\n",
       "       'maximum_maximum_nights', 'minimum_nights_avg_ntm',\n",
       "       'maximum_nights_avg_ntm', 'calendar_updated', 'has_availability',\n",
       "       'availability_30', 'availability_60', 'availability_90',\n",
       "       'availability_365', 'calendar_last_scraped', 'number_of_reviews',\n",
       "       'number_of_reviews_ltm', 'first_review', 'last_review',\n",
       "       'review_scores_rating', 'review_scores_accuracy',\n",
       "       'review_scores_cleanliness', 'review_scores_checkin',\n",
       "       'review_scores_communication', 'review_scores_location',\n",
       "       'review_scores_value', 'requires_license', 'license',\n",
       "       'jurisdiction_names', 'instant_bookable',\n",
       "       'is_business_travel_ready', 'cancellation_policy',\n",
       "       'require_guest_profile_picture',\n",
       "       'require_guest_phone_verification',\n",
       "       'calculated_host_listings_count',\n",
       "       'calculated_host_listings_count_entire_homes',\n",
       "       'calculated_host_listings_count_private_rooms',\n",
       "       'calculated_host_listings_count_shared_rooms', 'reviews_per_month'],\n",
       "      dtype=object)"
      ]
     },
     "execution_count": 465,
     "metadata": {},
     "output_type": "execute_result"
    }
   ],
   "source": [
    "listings.columns.values"
   ]
  },
  {
   "cell_type": "markdown",
   "metadata": {},
   "source": [
    "It seems that the column is called `guests_included`! Let's now create a new column in the dataset that tells us if an AirBnB place is expensive or not."
   ]
  },
  {
   "cell_type": "code",
   "execution_count": 466,
   "metadata": {},
   "outputs": [],
   "source": [
    "median_price_guest = (listings['price'] / listings['guests_included']).median()"
   ]
  },
  {
   "cell_type": "code",
   "execution_count": 467,
   "metadata": {},
   "outputs": [],
   "source": [
    "# 1 means that the AirBnb is more expensive than the median, 0 means that it is less or equal to the median\n",
    "def expensive(row):\n",
    "    if row['price'] / row['guests_included'] > median_price_guest:\n",
    "        return 1\n",
    "    else:\n",
    "        return 0"
   ]
  },
  {
   "cell_type": "code",
   "execution_count": 468,
   "metadata": {},
   "outputs": [
    {
     "data": {
      "text/html": [
       "<div>\n",
       "<style scoped>\n",
       "    .dataframe tbody tr th:only-of-type {\n",
       "        vertical-align: middle;\n",
       "    }\n",
       "\n",
       "    .dataframe tbody tr th {\n",
       "        vertical-align: top;\n",
       "    }\n",
       "\n",
       "    .dataframe thead th {\n",
       "        text-align: right;\n",
       "    }\n",
       "</style>\n",
       "<table border=\"1\" class=\"dataframe\">\n",
       "  <thead>\n",
       "    <tr style=\"text-align: right;\">\n",
       "      <th></th>\n",
       "      <th>id</th>\n",
       "      <th>listing_url</th>\n",
       "      <th>scrape_id</th>\n",
       "      <th>last_scraped</th>\n",
       "      <th>name</th>\n",
       "      <th>summary</th>\n",
       "      <th>space</th>\n",
       "      <th>description</th>\n",
       "      <th>experiences_offered</th>\n",
       "      <th>neighborhood_overview</th>\n",
       "      <th>...</th>\n",
       "      <th>is_business_travel_ready</th>\n",
       "      <th>cancellation_policy</th>\n",
       "      <th>require_guest_profile_picture</th>\n",
       "      <th>require_guest_phone_verification</th>\n",
       "      <th>calculated_host_listings_count</th>\n",
       "      <th>calculated_host_listings_count_entire_homes</th>\n",
       "      <th>calculated_host_listings_count_private_rooms</th>\n",
       "      <th>calculated_host_listings_count_shared_rooms</th>\n",
       "      <th>reviews_per_month</th>\n",
       "      <th>expensive</th>\n",
       "    </tr>\n",
       "  </thead>\n",
       "  <tbody>\n",
       "    <tr>\n",
       "      <th>0</th>\n",
       "      <td>44054</td>\n",
       "      <td>https://www.airbnb.com/rooms/44054</td>\n",
       "      <td>20191124233310</td>\n",
       "      <td>2019-11-25</td>\n",
       "      <td>Modern and Comfortable Living in CBD</td>\n",
       "      <td>East Apartments offers comfortable living away...</td>\n",
       "      <td>East Apartments is a western managed serviced ...</td>\n",
       "      <td>East Apartments offers comfortable living away...</td>\n",
       "      <td>none</td>\n",
       "      <td>The neighborhood is a private compound.  Just ...</td>\n",
       "      <td>...</td>\n",
       "      <td>f</td>\n",
       "      <td>strict_14_with_grace_period</td>\n",
       "      <td>f</td>\n",
       "      <td>f</td>\n",
       "      <td>5</td>\n",
       "      <td>5</td>\n",
       "      <td>0</td>\n",
       "      <td>0</td>\n",
       "      <td>0.86</td>\n",
       "      <td>0</td>\n",
       "    </tr>\n",
       "    <tr>\n",
       "      <th>1</th>\n",
       "      <td>100213</td>\n",
       "      <td>https://www.airbnb.com/rooms/100213</td>\n",
       "      <td>20191124233310</td>\n",
       "      <td>2019-11-25</td>\n",
       "      <td>The Great Wall Box Deluxe Suite A团园长城小院东院套房</td>\n",
       "      <td>This is your guide to live by the Great Wall! ...</td>\n",
       "      <td>This is your guide to live by the Great Wall! ...</td>\n",
       "      <td>This is your guide to live by the Great Wall! ...</td>\n",
       "      <td>none</td>\n",
       "      <td>5 mins walk to Panglongshan Great Wall, 25 min...</td>\n",
       "      <td>...</td>\n",
       "      <td>f</td>\n",
       "      <td>strict_14_with_grace_period</td>\n",
       "      <td>f</td>\n",
       "      <td>f</td>\n",
       "      <td>4</td>\n",
       "      <td>0</td>\n",
       "      <td>3</td>\n",
       "      <td>1</td>\n",
       "      <td>0.07</td>\n",
       "      <td>1</td>\n",
       "    </tr>\n",
       "    <tr>\n",
       "      <th>2</th>\n",
       "      <td>103749</td>\n",
       "      <td>https://www.airbnb.com/rooms/103749</td>\n",
       "      <td>20191124233310</td>\n",
       "      <td>2019-11-25</td>\n",
       "      <td>Sun Thirsty Full Service Suite Apt.</td>\n",
       "      <td>华纳北京恋日公寓位于北京的中心商务区,是十分受到旅客欢迎的订房选择｡ 5.0 km之外便是市...</td>\n",
       "      <td>Our Suite Apartments are located only 40 km fr...</td>\n",
       "      <td>Our Suite Apartments are located only 40 km fr...</td>\n",
       "      <td>none</td>\n",
       "      <td>Numerous eateries and coffee store within 3 mi...</td>\n",
       "      <td>...</td>\n",
       "      <td>f</td>\n",
       "      <td>moderate</td>\n",
       "      <td>f</td>\n",
       "      <td>f</td>\n",
       "      <td>3</td>\n",
       "      <td>3</td>\n",
       "      <td>0</td>\n",
       "      <td>0</td>\n",
       "      <td>0.16</td>\n",
       "      <td>1</td>\n",
       "    </tr>\n",
       "    <tr>\n",
       "      <th>3</th>\n",
       "      <td>114384</td>\n",
       "      <td>https://www.airbnb.com/rooms/114384</td>\n",
       "      <td>20191124233310</td>\n",
       "      <td>2019-11-25</td>\n",
       "      <td>CBD Luxury 1-bedroom suite with a 30m2 terrace</td>\n",
       "      <td>Located in the core position of Chaoyang CBD. ...</td>\n",
       "      <td>Closed fully-equipped kitchen with top brand f...</td>\n",
       "      <td>Located in the core position of Chaoyang CBD. ...</td>\n",
       "      <td>none</td>\n",
       "      <td>Located in the core position of Chaoyang CBD. ...</td>\n",
       "      <td>...</td>\n",
       "      <td>f</td>\n",
       "      <td>moderate</td>\n",
       "      <td>f</td>\n",
       "      <td>f</td>\n",
       "      <td>3</td>\n",
       "      <td>3</td>\n",
       "      <td>0</td>\n",
       "      <td>0</td>\n",
       "      <td>0.77</td>\n",
       "      <td>1</td>\n",
       "    </tr>\n",
       "  </tbody>\n",
       "</table>\n",
       "<p>4 rows × 107 columns</p>\n",
       "</div>"
      ],
      "text/plain": [
       "       id                          listing_url       scrape_id last_scraped  \\\n",
       "0   44054   https://www.airbnb.com/rooms/44054  20191124233310   2019-11-25   \n",
       "1  100213  https://www.airbnb.com/rooms/100213  20191124233310   2019-11-25   \n",
       "2  103749  https://www.airbnb.com/rooms/103749  20191124233310   2019-11-25   \n",
       "3  114384  https://www.airbnb.com/rooms/114384  20191124233310   2019-11-25   \n",
       "\n",
       "                                             name  \\\n",
       "0            Modern and Comfortable Living in CBD   \n",
       "1     The Great Wall Box Deluxe Suite A团园长城小院东院套房   \n",
       "2             Sun Thirsty Full Service Suite Apt.   \n",
       "3  CBD Luxury 1-bedroom suite with a 30m2 terrace   \n",
       "\n",
       "                                             summary  \\\n",
       "0  East Apartments offers comfortable living away...   \n",
       "1  This is your guide to live by the Great Wall! ...   \n",
       "2  华纳北京恋日公寓位于北京的中心商务区,是十分受到旅客欢迎的订房选择｡ 5.0 km之外便是市...   \n",
       "3  Located in the core position of Chaoyang CBD. ...   \n",
       "\n",
       "                                               space  \\\n",
       "0  East Apartments is a western managed serviced ...   \n",
       "1  This is your guide to live by the Great Wall! ...   \n",
       "2  Our Suite Apartments are located only 40 km fr...   \n",
       "3  Closed fully-equipped kitchen with top brand f...   \n",
       "\n",
       "                                         description experiences_offered  \\\n",
       "0  East Apartments offers comfortable living away...                none   \n",
       "1  This is your guide to live by the Great Wall! ...                none   \n",
       "2  Our Suite Apartments are located only 40 km fr...                none   \n",
       "3  Located in the core position of Chaoyang CBD. ...                none   \n",
       "\n",
       "                               neighborhood_overview  ...  \\\n",
       "0  The neighborhood is a private compound.  Just ...  ...   \n",
       "1  5 mins walk to Panglongshan Great Wall, 25 min...  ...   \n",
       "2  Numerous eateries and coffee store within 3 mi...  ...   \n",
       "3  Located in the core position of Chaoyang CBD. ...  ...   \n",
       "\n",
       "  is_business_travel_ready          cancellation_policy  \\\n",
       "0                        f  strict_14_with_grace_period   \n",
       "1                        f  strict_14_with_grace_period   \n",
       "2                        f                     moderate   \n",
       "3                        f                     moderate   \n",
       "\n",
       "  require_guest_profile_picture require_guest_phone_verification  \\\n",
       "0                             f                                f   \n",
       "1                             f                                f   \n",
       "2                             f                                f   \n",
       "3                             f                                f   \n",
       "\n",
       "  calculated_host_listings_count  calculated_host_listings_count_entire_homes  \\\n",
       "0                              5                                            5   \n",
       "1                              4                                            0   \n",
       "2                              3                                            3   \n",
       "3                              3                                            3   \n",
       "\n",
       "   calculated_host_listings_count_private_rooms  \\\n",
       "0                                             0   \n",
       "1                                             3   \n",
       "2                                             0   \n",
       "3                                             0   \n",
       "\n",
       "  calculated_host_listings_count_shared_rooms  reviews_per_month  expensive  \n",
       "0                                           0               0.86          0  \n",
       "1                                           1               0.07          1  \n",
       "2                                           0               0.16          1  \n",
       "3                                           0               0.77          1  \n",
       "\n",
       "[4 rows x 107 columns]"
      ]
     },
     "execution_count": 468,
     "metadata": {},
     "output_type": "execute_result"
    }
   ],
   "source": [
    "listings['expensive'] = listings.apply(lambda row: expensive(row), axis=1)\n",
    "listings.head(4)"
   ]
  },
  {
   "cell_type": "code",
   "execution_count": 469,
   "metadata": {},
   "outputs": [
    {
     "data": {
      "text/plain": [
       "(38695, 107)"
      ]
     },
     "execution_count": 469,
     "metadata": {},
     "output_type": "execute_result"
    }
   ],
   "source": [
    "listings.shape"
   ]
  },
  {
   "cell_type": "markdown",
   "metadata": {},
   "source": [
    "#### 2.4 - Appropriate model(s) for predicting if a listing is expensive\n",
    "\n",
    "Let's first analyze the `price` variable:"
   ]
  },
  {
   "cell_type": "code",
   "execution_count": 470,
   "metadata": {},
   "outputs": [
    {
     "data": {
      "text/plain": [
       "Text(0, 0.5, 'Number of listings')"
      ]
     },
     "execution_count": 470,
     "metadata": {},
     "output_type": "execute_result"
    },
    {
     "data": {
      "image/png": "[encoded data removed]",
      "text/plain": [
       "<Figure size 432x288 with 1 Axes>"
      ]
     },
     "metadata": {
      "needs_background": "light"
     },
     "output_type": "display_data"
    }
   ],
   "source": [
    "plt.hist(listings.price, color='blue', edgecolor='black')\n",
    "plt.ylabel('Number of listings')"
   ]
  },
  {
   "cell_type": "markdown",
   "metadata": {},
   "source": [
    "This distribution is right-skewed, not normal. Therefore a log transformation is recommended."
   ]
  },
  {
   "cell_type": "code",
   "execution_count": 471,
   "metadata": {},
   "outputs": [],
   "source": [
    "listings['log_price'] = np.log(listings.price)"
   ]
  },
  {
   "cell_type": "code",
   "execution_count": 472,
   "metadata": {},
   "outputs": [
    {
     "data": {
      "text/plain": [
       "(38695, 108)"
      ]
     },
     "execution_count": 472,
     "metadata": {},
     "output_type": "execute_result"
    }
   ],
   "source": [
    "listings = listings.replace([np.inf, -np.inf], np.nan)\n",
    "listings.dropna(subset=['log_price'])\n",
    "listings.shape"
   ]
  },
  {
   "cell_type": "code",
   "execution_count": 473,
   "metadata": {},
   "outputs": [
    {
     "data": {
      "text/plain": [
       "Text(0, 0.5, 'Number of listings')"
      ]
     },
     "execution_count": 473,
     "metadata": {},
     "output_type": "execute_result"
    },
    {
     "data": {
      "image/png": "[encoded data removed]",
      "text/plain": [
       "<Figure size 432x288 with 1 Axes>"
      ]
     },
     "metadata": {
      "needs_background": "light"
     },
     "output_type": "display_data"
    }
   ],
   "source": [
    "# Much better now with our log transformation!\n",
    "plt.hist(listings.log_price, color='blue', edgecolor='black')\n",
    "plt.ylabel('Number of listings')"
   ]
  },
  {
   "cell_type": "markdown",
   "metadata": {},
   "source": [
    "Appropriate models are _classification_ models, as we have to predict if a certain AirBnb listing is expensive or not based on its price and the number of guests included. It is a **categorical** variable. This variable only takes two values: If the price per guest is greater than this metric's median, the listing is expensive and then the `expensive` variable gets a 1. Otherwise, a 0. \n",
    "\n",
    "Therefore, let's use the following Classification models: **Logistic Regression**, **KNeighborsClassifier** with 'k'=3, and another **Logistic Regression** model, but without the `log_price` variable. Because the `expensive` variable is created based on `price`, and `log_price` is the log-transformation form of this variable, it could cause our model to overfit."
   ]
  },
  {
   "cell_type": "code",
   "execution_count": 474,
   "metadata": {},
   "outputs": [
    {
     "data": {
      "text/html": [
       "<table class=\"simpletable\">\n",
       "<caption>OLS Regression Results</caption>\n",
       "<tr>\n",
       "  <th>Dep. Variable:</th>        <td>expensive</td>    <th>  R-squared:         </th> <td>   0.399</td> \n",
       "</tr>\n",
       "<tr>\n",
       "  <th>Model:</th>                   <td>OLS</td>       <th>  Adj. R-squared:    </th> <td>   0.399</td> \n",
       "</tr>\n",
       "<tr>\n",
       "  <th>Method:</th>             <td>Least Squares</td>  <th>  F-statistic:       </th> <td>2.569e+04</td>\n",
       "</tr>\n",
       "<tr>\n",
       "  <th>Date:</th>             <td>Mon, 16 Mar 2020</td> <th>  Prob (F-statistic):</th>  <td>  0.00</td>  \n",
       "</tr>\n",
       "<tr>\n",
       "  <th>Time:</th>                 <td>16:02:20</td>     <th>  Log-Likelihood:    </th> <td> -18226.</td> \n",
       "</tr>\n",
       "<tr>\n",
       "  <th>No. Observations:</th>      <td> 38686</td>      <th>  AIC:               </th> <td>3.646e+04</td>\n",
       "</tr>\n",
       "<tr>\n",
       "  <th>Df Residuals:</th>          <td> 38684</td>      <th>  BIC:               </th> <td>3.647e+04</td>\n",
       "</tr>\n",
       "<tr>\n",
       "  <th>Df Model:</th>              <td>     1</td>      <th>                     </th>     <td> </td>    \n",
       "</tr>\n",
       "<tr>\n",
       "  <th>Covariance Type:</th>      <td>nonrobust</td>    <th>                     </th>     <td> </td>    \n",
       "</tr>\n",
       "</table>\n",
       "<table class=\"simpletable\">\n",
       "<tr>\n",
       "      <td></td>         <th>coef</th>     <th>std err</th>      <th>t</th>      <th>P>|t|</th>  <th>[0.025</th>    <th>0.975]</th>  \n",
       "</tr>\n",
       "<tr>\n",
       "  <th>Intercept</th> <td>   -1.8161</td> <td>    0.015</td> <td> -124.587</td> <td> 0.000</td> <td>   -1.845</td> <td>   -1.788</td>\n",
       "</tr>\n",
       "<tr>\n",
       "  <th>log_price</th> <td>    0.3819</td> <td>    0.002</td> <td>  160.291</td> <td> 0.000</td> <td>    0.377</td> <td>    0.387</td>\n",
       "</tr>\n",
       "</table>\n",
       "<table class=\"simpletable\">\n",
       "<tr>\n",
       "  <th>Omnibus:</th>       <td>5681.008</td> <th>  Durbin-Watson:     </th> <td>   1.852</td>\n",
       "</tr>\n",
       "<tr>\n",
       "  <th>Prob(Omnibus):</th>  <td> 0.000</td>  <th>  Jarque-Bera (JB):  </th> <td>1468.610</td>\n",
       "</tr>\n",
       "<tr>\n",
       "  <th>Skew:</th>           <td>-0.147</td>  <th>  Prob(JB):          </th> <td>    0.00</td>\n",
       "</tr>\n",
       "<tr>\n",
       "  <th>Kurtosis:</th>       <td> 2.092</td>  <th>  Cond. No.          </th> <td>    46.4</td>\n",
       "</tr>\n",
       "</table><br/><br/>Warnings:<br/>[1] Standard Errors assume that the covariance matrix of the errors is correctly specified."
      ],
      "text/plain": [
       "<class 'statsmodels.iolib.summary.Summary'>\n",
       "\"\"\"\n",
       "                            OLS Regression Results                            \n",
       "==============================================================================\n",
       "Dep. Variable:              expensive   R-squared:                       0.399\n",
       "Model:                            OLS   Adj. R-squared:                  0.399\n",
       "Method:                 Least Squares   F-statistic:                 2.569e+04\n",
       "Date:                Mon, 16 Mar 2020   Prob (F-statistic):               0.00\n",
       "Time:                        16:02:20   Log-Likelihood:                -18226.\n",
       "No. Observations:               38686   AIC:                         3.646e+04\n",
       "Df Residuals:                   38684   BIC:                         3.647e+04\n",
       "Df Model:                           1                                         \n",
       "Covariance Type:            nonrobust                                         \n",
       "==============================================================================\n",
       "                 coef    std err          t      P>|t|      [0.025      0.975]\n",
       "------------------------------------------------------------------------------\n",
       "Intercept     -1.8161      0.015   -124.587      0.000      -1.845      -1.788\n",
       "log_price      0.3819      0.002    160.291      0.000       0.377       0.387\n",
       "==============================================================================\n",
       "Omnibus:                     5681.008   Durbin-Watson:                   1.852\n",
       "Prob(Omnibus):                  0.000   Jarque-Bera (JB):             1468.610\n",
       "Skew:                          -0.147   Prob(JB):                         0.00\n",
       "Kurtosis:                       2.092   Cond. No.                         46.4\n",
       "==============================================================================\n",
       "\n",
       "Warnings:\n",
       "[1] Standard Errors assume that the covariance matrix of the errors is correctly specified.\n",
       "\"\"\""
      ]
     },
     "execution_count": 474,
     "metadata": {},
     "output_type": "execute_result"
    }
   ],
   "source": [
    "m = smf.ols(formula='expensive ~ log_price', data=listings).fit()\n",
    "m.summary()"
   ]
  },
  {
   "cell_type": "code",
   "execution_count": 475,
   "metadata": {},
   "outputs": [],
   "source": [
    "# Transforming the `expensive` variable to a categorical one\n",
    "listings.expensive = listings.expensive.astype('category')"
   ]
  },
  {
   "cell_type": "code",
   "execution_count": 476,
   "metadata": {},
   "outputs": [
    {
     "data": {
      "text/plain": [
       "0    0\n",
       "1    1\n",
       "2    1\n",
       "3    1\n",
       "4    1\n",
       "Name: expensive, dtype: category\n",
       "Categories (2, int64): [0, 1]"
      ]
     },
     "execution_count": 476,
     "metadata": {},
     "output_type": "execute_result"
    }
   ],
   "source": [
    "listings.expensive.head(5)"
   ]
  },
  {
   "cell_type": "markdown",
   "metadata": {},
   "source": [
    "#### 2.5 - Model goodness indicators\n",
    "\n",
    "For this case, I believe that the indicators that can be used to estimate the quality of our classification models are:\n",
    "- Confusion Matrix: Describes the performance of a classification model\n",
    " - Accuracy: Percentage of correct answers\n",
    " - F-score: Harmonic mean of Precision and Recall\n",
    "\n",
    "Let's do it! For the variables to be used, I decided on the following ones:\n",
    "- log_price\n",
    "- room_type (dummies)\n",
    "- guests_included (modified and dummied)\n",
    "- bedrooms (modified and dummied)\n",
    "- bathrooms (modified and dummied)\n",
    "- number_of_reviews\n",
    "\n",
    "We know that the number of guests and the price have a direct impact on the `expensive` variable, as it is calculated based on these two variables. Besides, I think it will be interesting to see how a listing's reviews and the amount of shared and private rooms it has affects its prices and its expensiveness. \n",
    "\n",
    "Besides, I decided **not** to include certain variables such as `calculated_host_listings_count_private_rooms` and `calculated_host_listings_count_shared_rooms` as I believe that they posibly have an impact on the price of a listing but not its expensiveness. Also, these data is not available for the person trying to book an AirBnb at the listing's website, so I do not know how relevant they would be. Thus, by using the `bedrooms` variable only, we can try to **avoid multicollinearity**."
   ]
  },
  {
   "cell_type": "code",
   "execution_count": 477,
   "metadata": {},
   "outputs": [
    {
     "data": {
      "text/plain": [
       "(38686, 108)"
      ]
     },
     "execution_count": 477,
     "metadata": {},
     "output_type": "execute_result"
    }
   ],
   "source": [
    "listings = listings.dropna(subset=['log_price', 'guests_included', 'number_of_reviews'])\n",
    "listings.shape"
   ]
  },
  {
   "cell_type": "markdown",
   "metadata": {},
   "source": [
    "#### 2.6 - Models!"
   ]
  },
  {
   "cell_type": "markdown",
   "metadata": {},
   "source": [
    "##### Making some changes in the chosen variables"
   ]
  },
  {
   "cell_type": "code",
   "execution_count": 478,
   "metadata": {},
   "outputs": [
    {
     "data": {
      "text/plain": [
       "1     32230\n",
       "2      3391\n",
       "4      1519\n",
       "3       497\n",
       "6       399\n",
       "5       258\n",
       "8       125\n",
       "7        65\n",
       "10       61\n",
       "16       57\n",
       "12       37\n",
       "9        18\n",
       "14       12\n",
       "15        9\n",
       "13        4\n",
       "11        4\n",
       "Name: guests_included, dtype: int64"
      ]
     },
     "execution_count": 478,
     "metadata": {},
     "output_type": "execute_result"
    }
   ],
   "source": [
    "listings.guests_included.value_counts()"
   ]
  },
  {
   "cell_type": "code",
   "execution_count": 479,
   "metadata": {},
   "outputs": [],
   "source": [
    "conditions = [\n",
    "    (listings['guests_included'] == 1),\n",
    "    (listings['guests_included'] == 2),\n",
    "    (listings['guests_included'] == 3),\n",
    "    (listings['guests_included'] == 4),\n",
    "    (listings['guests_included'] == 5),\n",
    "    (listings['guests_included'] == 6),\n",
    "    (listings['guests_included'] > 6)]\n",
    "choices = ['1', '2', '3', '4', '5', '6', '6+']\n",
    "listings['guests_included_reduced'] = np.select(conditions, choices)"
   ]
  },
  {
   "cell_type": "code",
   "execution_count": 480,
   "metadata": {},
   "outputs": [
    {
     "data": {
      "text/plain": [
       "1.0     25695\n",
       "2.0      7640\n",
       "3.0      2566\n",
       "4.0       988\n",
       "5.0       536\n",
       "6.0       381\n",
       "0.0       235\n",
       "7.0       225\n",
       "8.0       141\n",
       "10.0      133\n",
       "9.0        89\n",
       "12.0       14\n",
       "11.0       12\n",
       "14.0        7\n",
       "18.0        5\n",
       "16.0        5\n",
       "20.0        3\n",
       "50.0        2\n",
       "25.0        2\n",
       "15.0        1\n",
       "19.0        1\n",
       "24.0        1\n",
       "13.0        1\n",
       "22.0        1\n",
       "21.0        1\n",
       "23.0        1\n",
       "Name: bedrooms, dtype: int64"
      ]
     },
     "execution_count": 480,
     "metadata": {},
     "output_type": "execute_result"
    }
   ],
   "source": [
    "listings.bedrooms.value_counts()"
   ]
  },
  {
   "cell_type": "code",
   "execution_count": 481,
   "metadata": {},
   "outputs": [],
   "source": [
    "conditions = [\n",
    "    (listings['bedrooms'] == 0.0) | (listings['bedrooms'] == 1.0),\n",
    "    (listings['bedrooms'] == 2.0),\n",
    "    (listings['bedrooms'] == 3.0),\n",
    "    (listings['bedrooms'] == 4.0),\n",
    "    (listings['bedrooms'] > 4.0)]\n",
    "choices = ['1', '2', '3', '4','4+']\n",
    "listings['bedrooms_reduced'] = np.select(conditions, choices)"
   ]
  },
  {
   "cell_type": "code",
   "execution_count": 482,
   "metadata": {},
   "outputs": [
    {
     "data": {
      "text/plain": [
       "1.0      27363\n",
       "1.5       4436\n",
       "2.0       3532\n",
       "3.0        852\n",
       "0.5        500\n",
       "4.0        482\n",
       "2.5        288\n",
       "5.0        235\n",
       "6.0        181\n",
       "0.0        172\n",
       "8.0        168\n",
       "7.0        102\n",
       "4.5         83\n",
       "3.5         74\n",
       "5.5         33\n",
       "9.0         28\n",
       "7.5         27\n",
       "6.5         21\n",
       "10.0        19\n",
       "12.0        14\n",
       "8.5         11\n",
       "10.5        11\n",
       "11.0        10\n",
       "9.5          7\n",
       "14.0         4\n",
       "15.0         4\n",
       "12.5         4\n",
       "16.0         3\n",
       "13.0         3\n",
       "16.5         3\n",
       "22.0         2\n",
       "20.0         2\n",
       "14.5         2\n",
       "18.5         2\n",
       "25.0         2\n",
       "18.0         2\n",
       "33.0         1\n",
       "20.5         1\n",
       "101.5        1\n",
       "19.5         1\n",
       "Name: bathrooms, dtype: int64"
      ]
     },
     "execution_count": 482,
     "metadata": {},
     "output_type": "execute_result"
    }
   ],
   "source": [
    "# Bathrooms\n",
    "listings.bathrooms.value_counts()"
   ]
  },
  {
   "cell_type": "code",
   "execution_count": 483,
   "metadata": {},
   "outputs": [],
   "source": [
    "conditions = [\n",
    "    (listings['bathrooms'] == 0.0),\n",
    "    (listings['bathrooms'] == 0.5) | (listings['bathrooms'] == 1.0),\n",
    "    (listings['bathrooms'] == 1.5) | (listings['bathrooms'] == 2.0),\n",
    "    (listings['bathrooms'] == 2.5) | (listings['bathrooms'] == 3.0),\n",
    "    (listings['bathrooms'] == 3.5) | (listings['bathrooms'] == 4.0),\n",
    "    (listings['bathrooms'] == 4.5) | (listings['bathrooms'] == 5.0),\n",
    "    (listings['bathrooms'] > 5.0)]\n",
    "choices = ['0', '1', '2', '3', '4', '5', '5+']\n",
    "listings['bathrooms_reduced'] = np.select(conditions, choices)"
   ]
  },
  {
   "cell_type": "markdown",
   "metadata": {},
   "source": [
    "Converting categorical variables to dummies (encoding them to numerical)"
   ]
  },
  {
   "cell_type": "code",
   "execution_count": 484,
   "metadata": {},
   "outputs": [],
   "source": [
    "# LabelEncoder\n",
    "from sklearn import preprocessing\n",
    "le = preprocessing.LabelEncoder()\n",
    "\n",
    "listings['guest_red_dum'] = le.fit_transform(listings.guests_included_reduced)\n",
    "listings['bed_red_dum'] = le.fit_transform(listings.bedrooms_reduced)\n",
    "listings['bath_red_dum'] = le.fit_transform(listings.bathrooms_reduced)\n",
    "listings['room_type_dum'] = le.fit_transform(listings.room_type)"
   ]
  },
  {
   "cell_type": "markdown",
   "metadata": {},
   "source": [
    "#### Our data"
   ]
  },
  {
   "cell_type": "code",
   "execution_count": 485,
   "metadata": {},
   "outputs": [],
   "source": [
    "y = listings.expensive\n",
    "X = np.hstack((listings['log_price'].values.reshape((-1, 1)),\n",
    "               listings['guest_red_dum'].values.reshape((-1, 1)),\n",
    "               listings['bed_red_dum'].values.reshape((-1, 1)),\n",
    "               listings['bath_red_dum'].values.reshape((-1, 1)),\n",
    "               listings['room_type_dum'].values.reshape((-1, 1)),\n",
    "               listings['number_of_reviews'].values.reshape((-1, 1)),\n",
    "              ))"
   ]
  },
  {
   "cell_type": "markdown",
   "metadata": {},
   "source": [
    "#### Logistic Regression"
   ]
  },
  {
   "cell_type": "code",
   "execution_count": 486,
   "metadata": {},
   "outputs": [],
   "source": [
    "from sklearn.linear_model import LogisticRegression\n",
    "from sklearn.model_selection import train_test_split\n",
    "\n",
    "# 20% of the data will be used for validation, and 80% for training\n",
    "Xtrain, Xvalid, ytrain, yvalid = train_test_split(X, y, test_size=0.2)"
   ]
  },
  {
   "cell_type": "code",
   "execution_count": 487,
   "metadata": {},
   "outputs": [
    {
     "data": {
      "text/html": [
       "<div>\n",
       "<style scoped>\n",
       "    .dataframe tbody tr th:only-of-type {\n",
       "        vertical-align: middle;\n",
       "    }\n",
       "\n",
       "    .dataframe tbody tr th {\n",
       "        vertical-align: top;\n",
       "    }\n",
       "\n",
       "    .dataframe thead th {\n",
       "        text-align: right;\n",
       "    }\n",
       "</style>\n",
       "<table border=\"1\" class=\"dataframe\">\n",
       "  <thead>\n",
       "    <tr style=\"text-align: right;\">\n",
       "      <th>col_0</th>\n",
       "      <th>0</th>\n",
       "      <th>1</th>\n",
       "    </tr>\n",
       "    <tr>\n",
       "      <th>expensive</th>\n",
       "      <th></th>\n",
       "      <th></th>\n",
       "    </tr>\n",
       "  </thead>\n",
       "  <tbody>\n",
       "    <tr>\n",
       "      <th>0</th>\n",
       "      <td>15290</td>\n",
       "      <td>236</td>\n",
       "    </tr>\n",
       "    <tr>\n",
       "      <th>1</th>\n",
       "      <td>113</td>\n",
       "      <td>15309</td>\n",
       "    </tr>\n",
       "  </tbody>\n",
       "</table>\n",
       "</div>"
      ],
      "text/plain": [
       "col_0          0      1\n",
       "expensive              \n",
       "0          15290    236\n",
       "1            113  15309"
      ]
     },
     "execution_count": 487,
     "metadata": {},
     "output_type": "execute_result"
    }
   ],
   "source": [
    "# Confusion Matrix for training data\n",
    "m = LogisticRegression(solver='lbfgs').fit(Xtrain, ytrain)\n",
    "y_hat_train = m.predict(Xtrain)\n",
    "conf_matrix = pd.crosstab(ytrain, y_hat_train)\n",
    "conf_matrix"
   ]
  },
  {
   "cell_type": "markdown",
   "metadata": {},
   "source": [
    "P.S: I am using the sklearn built-in equations to calculate accuracy and f1 scores because I was receiving this message when trying to do it my own: \"The kernel appears to have died. It will restart automatically.\"\n",
    "\n",
    "Otherwise I would have calculated them like this: \n",
    "\n",
    "Accuracy (percentage of correct answers = (TP + TN) / N )\n",
    "`acc_valid = (conf_matrix_valid[0][0] + conf_matrix_valid[1][1]) / (conf_matrix_valid[0][0] + conf_matrix_valid[0][1] + conf_matrix_valid[1][0] + conf_matrix_valid[1][1])`\n",
    "\n",
    "Precision (TP / (TP + FP)) = (TP / predicted positive)\n",
    "`prec_valid = conf_matrix_valid[0][0] / (conf_matrix_valid[0][0] + conf_matrix_valid[0][1])`\n",
    "\n",
    "Recall (percentage of real positives identified) = (TP / (TP + FN))\n",
    "`rec_valid = conf_matrix_valid[0][0] / (conf_matrix_valid[0][0] + conf_matrix_valid[1][0])`\n",
    "\n",
    "F score (harmonic mean of Precision and Recall) = 2 / (1/precision + 1/recall)\n",
    "`f_score_valid = 2 / (1/prec_valid + 1/rec_valid)`"
   ]
  },
  {
   "cell_type": "code",
   "execution_count": 488,
   "metadata": {},
   "outputs": [
    {
     "name": "stdout",
     "output_type": "stream",
     "text": [
      "Accuracy: 0.99 ; F1: 0.99\n"
     ]
    }
   ],
   "source": [
    "# Calculating Accuracy and F-score for training data\n",
    "  # Accuracy (percentage of correct answers = (TP + TN) / N )\n",
    "  # F1-score: Harmonic mean of Precision and Recall\n",
    "from sklearn.metrics import accuracy_score, f1_score\n",
    "print(f'Accuracy: {round(accuracy_score(ytrain, y_hat_train), 2)} ; F1: {round(f1_score(ytrain, y_hat_train), 2)}')"
   ]
  },
  {
   "cell_type": "code",
   "execution_count": 489,
   "metadata": {},
   "outputs": [
    {
     "data": {
      "text/plain": [
       "0.01"
      ]
     },
     "execution_count": 489,
     "metadata": {},
     "output_type": "execute_result"
    }
   ],
   "source": [
    "from sklearn.metrics import mean_squared_error\n",
    "# RMSE for training data\n",
    "round(mean_squared_error(ytrain, y_hat_train), 2)"
   ]
  },
  {
   "cell_type": "code",
   "execution_count": 490,
   "metadata": {},
   "outputs": [
    {
     "data": {
      "text/html": [
       "<div>\n",
       "<style scoped>\n",
       "    .dataframe tbody tr th:only-of-type {\n",
       "        vertical-align: middle;\n",
       "    }\n",
       "\n",
       "    .dataframe tbody tr th {\n",
       "        vertical-align: top;\n",
       "    }\n",
       "\n",
       "    .dataframe thead th {\n",
       "        text-align: right;\n",
       "    }\n",
       "</style>\n",
       "<table border=\"1\" class=\"dataframe\">\n",
       "  <thead>\n",
       "    <tr style=\"text-align: right;\">\n",
       "      <th>col_0</th>\n",
       "      <th>0</th>\n",
       "      <th>1</th>\n",
       "    </tr>\n",
       "    <tr>\n",
       "      <th>expensive</th>\n",
       "      <th></th>\n",
       "      <th></th>\n",
       "    </tr>\n",
       "  </thead>\n",
       "  <tbody>\n",
       "    <tr>\n",
       "      <th>0</th>\n",
       "      <td>3793</td>\n",
       "      <td>63</td>\n",
       "    </tr>\n",
       "    <tr>\n",
       "      <th>1</th>\n",
       "      <td>25</td>\n",
       "      <td>3857</td>\n",
       "    </tr>\n",
       "  </tbody>\n",
       "</table>\n",
       "</div>"
      ],
      "text/plain": [
       "col_0         0     1\n",
       "expensive            \n",
       "0          3793    63\n",
       "1            25  3857"
      ]
     },
     "execution_count": 490,
     "metadata": {},
     "output_type": "execute_result"
    }
   ],
   "source": [
    "# Confusion Matrix for validation data\n",
    "y_hat_valid = m.predict(Xvalid)\n",
    "conf_matrix_valid = pd.crosstab(yvalid, y_hat_valid)\n",
    "conf_matrix_valid"
   ]
  },
  {
   "cell_type": "code",
   "execution_count": 491,
   "metadata": {},
   "outputs": [
    {
     "name": "stdout",
     "output_type": "stream",
     "text": [
      "Accuracy: 0.99 ; F1: 0.99\n"
     ]
    }
   ],
   "source": [
    "print(f'Accuracy: {round(accuracy_score(yvalid, y_hat_valid), 2)} ; F1: {round(f1_score(yvalid, y_hat_valid), 2)}')"
   ]
  },
  {
   "cell_type": "code",
   "execution_count": 492,
   "metadata": {},
   "outputs": [
    {
     "data": {
      "text/plain": [
       "0.01"
      ]
     },
     "execution_count": 492,
     "metadata": {},
     "output_type": "execute_result"
    }
   ],
   "source": [
    "# RMSE for validation data\n",
    "round(mean_squared_error(yvalid, y_hat_valid), 2)"
   ]
  },
  {
   "cell_type": "markdown",
   "metadata": {},
   "source": [
    "#### k-NN Classification algorithm\n",
    "\n",
    "Source for some of the code: https://towardsdatascience.com/building-a-k-nearest-neighbors-k-nn-model-with-scikit-learn-51209555453a"
   ]
  },
  {
   "cell_type": "code",
   "execution_count": 493,
   "metadata": {},
   "outputs": [
    {
     "data": {
      "text/plain": [
       "KNeighborsClassifier(algorithm='auto', leaf_size=30, metric='minkowski',\n",
       "                     metric_params=None, n_jobs=None, n_neighbors=1, p=2,\n",
       "                     weights='uniform')"
      ]
     },
     "execution_count": 493,
     "metadata": {},
     "output_type": "execute_result"
    }
   ],
   "source": [
    "# 1 closest neighbor\n",
    "k = 1\n",
    "\n",
    "from sklearn.neighbors import KNeighborsClassifier\n",
    "knn = KNeighborsClassifier(n_neighbors=k)\n",
    "knn.fit(Xtrain, ytrain)"
   ]
  },
  {
   "cell_type": "code",
   "execution_count": 494,
   "metadata": {},
   "outputs": [
    {
     "name": "stdout",
     "output_type": "stream",
     "text": [
      "Accuracy: 0.98 ; F1: 1.0\n"
     ]
    }
   ],
   "source": [
    "from sklearn.metrics import precision_recall_fscore_support\n",
    "# Training data\n",
    "result = knn.predict(Xtrain)\n",
    "\n",
    "knn_f1 = precision_recall_fscore_support(ytrain, result, average='weighted')[2]\n",
    "\n",
    "print(f'Accuracy: {round(knn.score(Xvalid, yvalid), 2)} ; F1: {round((knn_f1), 2)}')"
   ]
  },
  {
   "cell_type": "code",
   "execution_count": 495,
   "metadata": {},
   "outputs": [
    {
     "data": {
      "text/plain": [
       "0.0"
      ]
     },
     "execution_count": 495,
     "metadata": {},
     "output_type": "execute_result"
    }
   ],
   "source": [
    "# RMSE for training data\n",
    "round(mean_squared_error(ytrain, result), 2)"
   ]
  },
  {
   "cell_type": "code",
   "execution_count": 496,
   "metadata": {},
   "outputs": [
    {
     "name": "stdout",
     "output_type": "stream",
     "text": [
      "Accuracy: 0.98 ; F1: 0.98\n"
     ]
    }
   ],
   "source": [
    "# Validation data\n",
    "result = knn.predict(Xvalid)\n",
    "\n",
    "knn_f1 = precision_recall_fscore_support(yvalid, result, average='weighted')[2]\n",
    "\n",
    "print(f'Accuracy: {round(knn.score(Xvalid, yvalid), 2)} ; F1: {round((knn_f1), 2)}')"
   ]
  },
  {
   "cell_type": "code",
   "execution_count": 497,
   "metadata": {},
   "outputs": [
    {
     "data": {
      "text/plain": [
       "0.02"
      ]
     },
     "execution_count": 497,
     "metadata": {},
     "output_type": "execute_result"
    }
   ],
   "source": [
    "# RMSE for validation data\n",
    "round(mean_squared_error(yvalid, result), 2)"
   ]
  },
  {
   "cell_type": "markdown",
   "metadata": {},
   "source": [
    "#### Trying different k-s\n",
    "\n",
    "Got it from PS7! Shout out to my group members!"
   ]
  },
  {
   "cell_type": "code",
   "execution_count": 498,
   "metadata": {},
   "outputs": [],
   "source": [
    "def computeAccuracy(X, y, k, m):\n",
    "  Xtrain, Xval, ytrain, yval = train_test_split(X, y, test_size = .2)\n",
    "  model = KNeighborsClassifier(k, metric = m)\n",
    "  m_train = model.fit(Xtrain, ytrain)\n",
    "  yhat_valid = m_train.predict(Xval)\n",
    "  convert_yhat = yhat_valid == yval\n",
    "  accuracy = convert_yhat.mean()\n",
    "  return accuracy"
   ]
  },
  {
   "cell_type": "code",
   "execution_count": 499,
   "metadata": {},
   "outputs": [
    {
     "data": {
      "text/plain": [
       "[<matplotlib.lines.Line2D at 0x27a11defb08>]"
      ]
     },
     "execution_count": 499,
     "metadata": {},
     "output_type": "execute_result"
    },
    {
     "data": {
      "image/png": "[encoded data removed]",
      "text/plain": [
       "<Figure size 432x288 with 1 Axes>"
      ]
     },
     "metadata": {
      "needs_background": "light"
     },
     "output_type": "display_data"
    }
   ],
   "source": [
    "klist = [1,2,3,5,7,11]\n",
    "accuracy = pd.Series(0, index = klist, dtype=float)\n",
    "for k in klist:\n",
    "  a = computeAccuracy(X, y, k, 'cosine')\n",
    "  accuracy[k] = a\n",
    "\n",
    "plt.plot(klist, accuracy)"
   ]
  },
  {
   "cell_type": "markdown",
   "metadata": {},
   "source": [
    "We can see, from the plot above, that the accuracy for this k-NN model is very high, independent of the k-value we choose. The results for accuracy and the f1 scores are very similar to the one from the logistic regression model above."
   ]
  },
  {
   "cell_type": "markdown",
   "metadata": {},
   "source": [
    "#### Logistic Regression without `log_price`"
   ]
  },
  {
   "cell_type": "code",
   "execution_count": 500,
   "metadata": {},
   "outputs": [],
   "source": [
    "y = listings.expensive\n",
    "X = np.hstack((listings['guest_red_dum'].values.reshape((-1, 1)),\n",
    "               listings['bed_red_dum'].values.reshape((-1, 1)),\n",
    "               listings['bath_red_dum'].values.reshape((-1, 1)),\n",
    "               listings['room_type_dum'].values.reshape((-1, 1)),\n",
    "               listings['number_of_reviews'].values.reshape((-1, 1)),\n",
    "              ))"
   ]
  },
  {
   "cell_type": "code",
   "execution_count": 501,
   "metadata": {},
   "outputs": [],
   "source": [
    "# 20% of the data will be used for validation, and 80% for training\n",
    "Xtrain, Xvalid, ytrain, yvalid = train_test_split(X, y, test_size=0.2)"
   ]
  },
  {
   "cell_type": "code",
   "execution_count": 502,
   "metadata": {},
   "outputs": [
    {
     "data": {
      "text/html": [
       "<div>\n",
       "<style scoped>\n",
       "    .dataframe tbody tr th:only-of-type {\n",
       "        vertical-align: middle;\n",
       "    }\n",
       "\n",
       "    .dataframe tbody tr th {\n",
       "        vertical-align: top;\n",
       "    }\n",
       "\n",
       "    .dataframe thead th {\n",
       "        text-align: right;\n",
       "    }\n",
       "</style>\n",
       "<table border=\"1\" class=\"dataframe\">\n",
       "  <thead>\n",
       "    <tr style=\"text-align: right;\">\n",
       "      <th>col_0</th>\n",
       "      <th>0</th>\n",
       "      <th>1</th>\n",
       "    </tr>\n",
       "    <tr>\n",
       "      <th>expensive</th>\n",
       "      <th></th>\n",
       "      <th></th>\n",
       "    </tr>\n",
       "  </thead>\n",
       "  <tbody>\n",
       "    <tr>\n",
       "      <th>0</th>\n",
       "      <td>11574</td>\n",
       "      <td>3910</td>\n",
       "    </tr>\n",
       "    <tr>\n",
       "      <th>1</th>\n",
       "      <td>3083</td>\n",
       "      <td>12381</td>\n",
       "    </tr>\n",
       "  </tbody>\n",
       "</table>\n",
       "</div>"
      ],
      "text/plain": [
       "col_0          0      1\n",
       "expensive              \n",
       "0          11574   3910\n",
       "1           3083  12381"
      ]
     },
     "execution_count": 502,
     "metadata": {},
     "output_type": "execute_result"
    }
   ],
   "source": [
    "# Confusion Matrix for training data\n",
    "m = LogisticRegression(solver='lbfgs').fit(Xtrain, ytrain)\n",
    "y_hat_train = m.predict(Xtrain)\n",
    "conf_matrix = pd.crosstab(ytrain, y_hat_train)\n",
    "conf_matrix"
   ]
  },
  {
   "cell_type": "code",
   "execution_count": 503,
   "metadata": {},
   "outputs": [
    {
     "name": "stdout",
     "output_type": "stream",
     "text": [
      "Accuracy: 0.77 ; F1: 0.78\n"
     ]
    }
   ],
   "source": [
    "# Calculating Accuracy and F-score for training data\n",
    "  # Accuracy (percentage of correct answers = (TP + TN) / N )\n",
    "  # F1-score: Harmonic mean of Precision and Recall\n",
    "from sklearn.metrics import accuracy_score, f1_score\n",
    "print(f'Accuracy: {round(accuracy_score(ytrain, y_hat_train), 2)} ; F1: {round(f1_score(ytrain, y_hat_train), 2)}')"
   ]
  },
  {
   "cell_type": "code",
   "execution_count": 504,
   "metadata": {},
   "outputs": [
    {
     "data": {
      "text/plain": [
       "0.23"
      ]
     },
     "execution_count": 504,
     "metadata": {},
     "output_type": "execute_result"
    }
   ],
   "source": [
    "# RMSE for training data\n",
    "round(mean_squared_error(ytrain, y_hat_train), 2)"
   ]
  },
  {
   "cell_type": "code",
   "execution_count": 505,
   "metadata": {},
   "outputs": [
    {
     "data": {
      "text/html": [
       "<div>\n",
       "<style scoped>\n",
       "    .dataframe tbody tr th:only-of-type {\n",
       "        vertical-align: middle;\n",
       "    }\n",
       "\n",
       "    .dataframe tbody tr th {\n",
       "        vertical-align: top;\n",
       "    }\n",
       "\n",
       "    .dataframe thead th {\n",
       "        text-align: right;\n",
       "    }\n",
       "</style>\n",
       "<table border=\"1\" class=\"dataframe\">\n",
       "  <thead>\n",
       "    <tr style=\"text-align: right;\">\n",
       "      <th>col_0</th>\n",
       "      <th>0</th>\n",
       "      <th>1</th>\n",
       "    </tr>\n",
       "    <tr>\n",
       "      <th>expensive</th>\n",
       "      <th></th>\n",
       "      <th></th>\n",
       "    </tr>\n",
       "  </thead>\n",
       "  <tbody>\n",
       "    <tr>\n",
       "      <th>0</th>\n",
       "      <td>2896</td>\n",
       "      <td>1002</td>\n",
       "    </tr>\n",
       "    <tr>\n",
       "      <th>1</th>\n",
       "      <td>771</td>\n",
       "      <td>3069</td>\n",
       "    </tr>\n",
       "  </tbody>\n",
       "</table>\n",
       "</div>"
      ],
      "text/plain": [
       "col_0         0     1\n",
       "expensive            \n",
       "0          2896  1002\n",
       "1           771  3069"
      ]
     },
     "execution_count": 505,
     "metadata": {},
     "output_type": "execute_result"
    }
   ],
   "source": [
    "# Confusion Matrix for validation data\n",
    "y_hat_valid = m.predict(Xvalid)\n",
    "conf_matrix_valid = pd.crosstab(yvalid, y_hat_valid)\n",
    "conf_matrix_valid"
   ]
  },
  {
   "cell_type": "code",
   "execution_count": 506,
   "metadata": {},
   "outputs": [
    {
     "name": "stdout",
     "output_type": "stream",
     "text": [
      "Accuracy: 0.77 ; F1: 0.78\n"
     ]
    }
   ],
   "source": [
    "print(f'Accuracy: {round(accuracy_score(yvalid, y_hat_valid), 2)} ; F1: {round(f1_score(yvalid, y_hat_valid), 2)}')"
   ]
  },
  {
   "cell_type": "code",
   "execution_count": 507,
   "metadata": {},
   "outputs": [
    {
     "data": {
      "text/plain": [
       "0.23"
      ]
     },
     "execution_count": 507,
     "metadata": {},
     "output_type": "execute_result"
    }
   ],
   "source": [
    "# RMSE for validation data\n",
    "round(mean_squared_error(yvalid, y_hat_valid), 2)"
   ]
  },
  {
   "cell_type": "markdown",
   "metadata": {},
   "source": [
    "Once again, the scores for accuracy and f1 are basically the same for training and validation data. However, compared to the first Logistic Regression model, they are about 78% instead of 99%. As I stated before, the fact that the `expensive` variable is created based on `price`. As `log_price` is the log transformation of the original variable, it is also highly correlated to our dependent variable. As we remove `log_price` from the Classification Model, it is natural for our accuracy and f1 scores to decrease as well."
   ]
  },
  {
   "cell_type": "markdown",
   "metadata": {},
   "source": [
    "#### 2.7 - Best model"
   ]
  },
  {
   "cell_type": "markdown",
   "metadata": {},
   "source": [
    "(a) Both models that had the `log_price` variable - the first Logistic Regression model, and the k-NN model - had almost perfect accuracy and f1 scores, both for training and validation data. The third model, even though it had a lower accuracy and f1 scores, also had very close percentages between training and validation data. In the end, I prefer the **k-NN model** as we can have a plot with the accuracy for different k-values chosen. This is great for **hyperparameter tuning**, which is a very important aspect of a classification model."
   ]
  },
  {
   "cell_type": "markdown",
   "metadata": {},
   "source": [
    "(b) The biggest difference was seen between the third model and the other two, for factors explained above a few times. There was a significant difference between them but, once again, the training and validation data had very similar results for accuracy and f1 scores, so that's positive."
   ]
  },
  {
   "cell_type": "markdown",
   "metadata": {},
   "source": [
    "(c) For all models, the RMSE scores for training and validation data are very similar to each other. If the RMSE for validation was much greater than the one for the training set, that would be an indicator of overfitting. However, as all models performed very well with validation data - in the same ratio as training data - I do not believe overfitting was an issue."
   ]
  },
  {
   "cell_type": "markdown",
   "metadata": {},
   "source": [
    "I spent about 7 to 8 hours total in this assignment!"
   ]
  },
  {
   "cell_type": "markdown",
   "metadata": {},
   "source": [
    "### Statement of Compliance\n",
    "\n",
    "![](https://i.imgur.com/ZtMCwZS.png)\n",
    "\n",
    "Thank you for the great course! I hope to take INFO 371 in the future :)"
   ]
  }
 ],
 "metadata": {
  "kernelspec": {
   "display_name": "Python 3",
   "language": "python",
   "name": "python3"
  },
  "language_info": {
   "codemirror_mode": {
    "name": "ipython",
    "version": 3
   },
   "file_extension": ".py",
   "mimetype": "text/x-python",
   "name": "python",
   "nbconvert_exporter": "python",
   "pygments_lexer": "ipython3",
   "version": "3.7.4"
  }
 },
 "nbformat": 4,
 "nbformat_minor": 2
}
