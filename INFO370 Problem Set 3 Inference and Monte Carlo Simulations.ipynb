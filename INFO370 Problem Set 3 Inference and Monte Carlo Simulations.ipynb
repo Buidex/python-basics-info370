{
 "cells": [
  {
   "cell_type": "markdown",
   "metadata": {},
   "source": [
    "### 1 - Monte-Carlo simulations"
   ]
  },
  {
   "cell_type": "code",
   "execution_count": 147,
   "metadata": {},
   "outputs": [],
   "source": [
    "# Import necessary libraries\n",
    "import numpy as np\n",
    "import matplotlib.pyplot as plt"
   ]
  },
  {
   "cell_type": "code",
   "execution_count": 148,
   "metadata": {},
   "outputs": [
    {
     "data": {
      "text/plain": [
       "array([0, 0, 1, 0, 0, 0, 0, 1, 0, 1])"
      ]
     },
     "execution_count": 148,
     "metadata": {},
     "output_type": "execute_result"
    }
   ],
   "source": [
    "# We select a seed so to produce the same output every time we run this cell\n",
    "np.random.seed(21)\n",
    "# Toss a fair coin 10 times. We encoded '0' as tails and '1' as heads\n",
    "coin_toss = np.random.binomial(1, 0.5, size=10)\n",
    "coin_toss"
   ]
  },
  {
   "cell_type": "code",
   "execution_count": 149,
   "metadata": {},
   "outputs": [
    {
     "data": {
      "text/plain": [
       "{0: 7, 1: 3}"
      ]
     },
     "execution_count": 149,
     "metadata": {},
     "output_type": "execute_result"
    }
   ],
   "source": [
    "# Counting the occurrences of each element in the array (https://stackoverflow.com/questions/28663856/how-to-count-the-occurrence-of-certain-item-in-an-ndarray-in-python)\n",
    "unique, counts = np.unique(coin_toss, return_counts=True)\n",
    "# zip() unites elements from different containers into a same index\n",
    "tosses_count = dict(zip(unique, counts))\n",
    "tosses_count"
   ]
  },
  {
   "cell_type": "markdown",
   "metadata": {},
   "source": [
    "1. We had a total of 7 tails and 3 heads in the above experiment."
   ]
  },
  {
   "cell_type": "markdown",
   "metadata": {},
   "source": [
    "2. Histogram of the coin tosses:"
   ]
  },
  {
   "cell_type": "code",
   "execution_count": 150,
   "metadata": {},
   "outputs": [
    {
     "data": {
      "text/plain": [
       "(array([7., 0., 0., 0., 0., 0., 0., 0., 0., 3.]),\n",
       " array([0. , 0.1, 0.2, 0.3, 0.4, 0.5, 0.6, 0.7, 0.8, 0.9, 1. ]),\n",
       " <a list of 10 Patch objects>)"
      ]
     },
     "execution_count": 150,
     "metadata": {},
     "output_type": "execute_result"
    },
    {
     "data": {
      "image/png": "[encoded data removed]",
      "text/plain": [
       "<Figure size 432x288 with 1 Axes>"
      ]
     },
     "metadata": {
      "needs_background": "light"
     },
     "output_type": "display_data"
    }
   ],
   "source": [
    "plt.hist(coin_toss)"
   ]
  },
  {
   "cell_type": "code",
   "execution_count": 151,
   "metadata": {},
   "outputs": [
    {
     "data": {
      "text/plain": [
       "0.3"
      ]
     },
     "execution_count": 151,
     "metadata": {},
     "output_type": "execute_result"
    }
   ],
   "source": [
    "heads_avg = tosses_count[1] / 10\n",
    "heads_avg"
   ]
  },
  {
   "cell_type": "markdown",
   "metadata": {},
   "source": [
    "3. The average number of heads is 0.3. That is, for every coin we toss, we'll get heads 30% of the time for this experiment."
   ]
  },
  {
   "cell_type": "code",
   "execution_count": 152,
   "metadata": {},
   "outputs": [
    {
     "data": {
      "text/plain": [
       "array([0, 2, 0, 0, 1, 2, 2, 2, 2, 1, 1, 1, 1, 2, 2, 2, 1, 0, 1, 1, 1, 1,\n",
       "       1, 0, 2, 1, 2, 1, 1, 1, 1, 1, 2, 1, 2, 1, 2, 2, 2, 2, 1, 1, 1, 2,\n",
       "       0, 1, 0, 1, 2, 1])"
      ]
     },
     "execution_count": 152,
     "metadata": {},
     "output_type": "execute_result"
    }
   ],
   "source": [
    "# Toss 2 fair coins 1000 times. We encoded '0' as tails and '1' as heads\n",
    "coins_toss_1000 = np.random.binomial(2, 0.5, size=1000)\n",
    "# Displays the first 50 results\n",
    "coins_toss_1000[:50]"
   ]
  },
  {
   "cell_type": "code",
   "execution_count": 153,
   "metadata": {},
   "outputs": [
    {
     "data": {
      "text/plain": [
       "(array([243.,   0.,   0.,   0.,   0., 495.,   0.,   0.,   0., 262.]),\n",
       " array([0. , 0.2, 0.4, 0.6, 0.8, 1. , 1.2, 1.4, 1.6, 1.8, 2. ]),\n",
       " <a list of 10 Patch objects>)"
      ]
     },
     "execution_count": 153,
     "metadata": {},
     "output_type": "execute_result"
    },
    {
     "data": {
      "image/png": "[encoded data removed]",
      "text/plain": [
       "<Figure size 432x288 with 1 Axes>"
      ]
     },
     "metadata": {
      "needs_background": "light"
     },
     "output_type": "display_data"
    }
   ],
   "source": [
    "plt.hist(coins_toss_1000)"
   ]
  },
  {
   "cell_type": "code",
   "execution_count": 154,
   "metadata": {},
   "outputs": [
    {
     "data": {
      "text/plain": [
       "{0: 243, 1: 495, 2: 262}"
      ]
     },
     "execution_count": 154,
     "metadata": {},
     "output_type": "execute_result"
    }
   ],
   "source": [
    "unique, counts = np.unique(coins_toss_1000, return_counts=True)\n",
    "tosses_count_1000 = dict(zip(unique, counts))\n",
    "tosses_count_1000"
   ]
  },
  {
   "cell_type": "code",
   "execution_count": 155,
   "metadata": {},
   "outputs": [
    {
     "data": {
      "text/plain": [
       "0.5095"
      ]
     },
     "execution_count": 155,
     "metadata": {},
     "output_type": "execute_result"
    }
   ],
   "source": [
    "# Total number of heads divided by the total number of coin tosses\n",
    "heads_avg = (tosses_count_1000[1] + 2*tosses_count_1000[2]) / 2000\n",
    "heads_avg"
   ]
  },
  {
   "cell_type": "markdown",
   "metadata": {},
   "source": [
    "4. From our experiment above, we can see that, out of 1000 trials of tossing two fair coins, we got tails on both coins 260 times. Besides, we got one head and one tails 481 times, and both heads 259 times.\n",
    "\n",
    "    Therefore, we managed to get _at least_ one head in 740 out of the 1000 trials.\n",
    "    For the total amount of heads, we got 1x481 + 2x259 which is 999.\n",
    "\n",
    "    So our *average number of heads* is 999/1000 which is approximately **0.5**."
   ]
  },
  {
   "cell_type": "markdown",
   "metadata": {},
   "source": [
    "5. We now have three peaks as we have three possible outcomes now that we toss 2 coins at each trial:\n",
    "    - 2 tails and 0 heads\n",
    "    - 1 tails and 1 head\n",
    "    - 0 tails and 2 heads\n",
    "    \n",
    "    Before, with only 1 coin, we could either get 1 tails and 0 heads or 0 tails and 1 head.\n",
    "    \n",
    "    The central peak is taller than the other two because the probability of getting **the same value** twice in a row (that is, either tails for both coins or heads for both coins) is **lower** than getting **different values** for each coin. \n",
    "    \n",
    "    For the first case, the probability of getting the same result for both coins is 0.5x0.5 which is **0.25**, as these are two independent, mutually exclusive events. \n",
    "    \n",
    "    For the second case, there are **two different ways** of getting heads and tails. The first coin can be heads and the second can come up tails, or the first coin can come up heads and the second can be heads. Each of these two scenarios has a 0.25 probability of happening, but we can sum them up to a total of **0.5**."
   ]
  },
  {
   "cell_type": "code",
   "execution_count": 156,
   "metadata": {},
   "outputs": [
    {
     "data": {
      "text/plain": [
       "array([1, 2, 3, 0, 2, 1, 2, 3, 2, 3, 1, 4, 1, 1, 2, 4, 3, 5, 3, 2, 2, 3,\n",
       "       2, 4, 4, 3, 3, 1, 2, 2, 2, 2, 3, 2, 3, 3, 4, 2, 3, 3, 2, 2, 3, 3,\n",
       "       4, 2, 4, 4, 3, 4])"
      ]
     },
     "execution_count": 156,
     "metadata": {},
     "output_type": "execute_result"
    }
   ],
   "source": [
    "np.random.seed(21)\n",
    "# Toss 5 fair coins 1000 times. We encoded '0' as tails and '1' as heads\n",
    "five_coins_toss_1000 = np.random.binomial(5, 0.5, size=1000)\n",
    "# Displays the first 50 results\n",
    "five_coins_toss_1000[:50]"
   ]
  },
  {
   "cell_type": "code",
   "execution_count": 157,
   "metadata": {},
   "outputs": [
    {
     "data": {
      "text/plain": [
       "(array([ 31.,   0.,   0., 142.,   0.,   0., 333.,   0.,   0., 295.,   0.,\n",
       "          0., 160.,   0.,  39.]),\n",
       " array([0.        , 0.33333333, 0.66666667, 1.        , 1.33333333,\n",
       "        1.66666667, 2.        , 2.33333333, 2.66666667, 3.        ,\n",
       "        3.33333333, 3.66666667, 4.        , 4.33333333, 4.66666667,\n",
       "        5.        ]),\n",
       " <a list of 15 Patch objects>)"
      ]
     },
     "execution_count": 157,
     "metadata": {},
     "output_type": "execute_result"
    },
    {
     "data": {
      "image/png": "[encoded data removed]",
      "text/plain": [
       "<Figure size 432x288 with 1 Axes>"
      ]
     },
     "metadata": {
      "needs_background": "light"
     },
     "output_type": "display_data"
    }
   ],
   "source": [
    "plt.hist(five_coins_toss_1000, bins=15)"
   ]
  },
  {
   "cell_type": "markdown",
   "metadata": {},
   "source": [
    "6. The histogram with more coins being tossed looks more like a normal distribution when compared to the single-coin histogram."
   ]
  },
  {
   "cell_type": "code",
   "execution_count": 204,
   "metadata": {},
   "outputs": [
    {
     "data": {
      "text/plain": [
       "(array([0.0037931 , 0.01310345, 0.03172414, 0.05724138, 0.07758621,\n",
       "        0.0762069 , 0.05241379, 0.02137931, 0.00793103, 0.00344828]),\n",
       " array([36. , 38.9, 41.8, 44.7, 47.6, 50.5, 53.4, 56.3, 59.2, 62.1, 65. ]),\n",
       " <a list of 10 Patch objects>)"
      ]
     },
     "execution_count": 204,
     "metadata": {},
     "output_type": "execute_result"
    },
    {
     "data": {
      "image/png": "[encoded data removed]",
      "text/plain": [
       "<Figure size 432x288 with 1 Axes>"
      ]
     },
     "metadata": {
      "needs_background": "light"
     },
     "output_type": "display_data"
    }
   ],
   "source": [
    "np.random.seed(21)\n",
    "# Toss 100 fair coins 1000 times. We encoded '0' as tails and '1' as heads\n",
    "hundred_coins_toss_1000 = np.random.binomial(100, 0.5, size=1000)\n",
    "\n",
    "# Calculates the experimental sample's mean and variance\n",
    "sample_mean = np.mean(hundred_coins_toss_1000)\n",
    "sample_var = np.var(hundred_coins_toss_1000)\n",
    "sample_std = np.std(hundred_coins_toss_1000)\n",
    "\n",
    "# Normal density function (https://docs.scipy.org/doc/scipy/reference/generated/scipy.stats.norm.html and\n",
    "#                          https://kite.com/python/docs/scipy.stats.norm.pdf)\n",
    "from scipy.stats import norm\n",
    "fig, ax = plt.subplots(1, 1)\n",
    "ax.plot(hundred_coins_toss_1000, \n",
    "        norm.pdf(hundred_coins_toss_1000, sample_mean, sample_std), 'r-', lw=.4, alpha=.8)\n",
    "\n",
    "# Plots the histogram\n",
    "ax.hist(hundred_coins_toss_1000, density=True)"
   ]
  },
  {
   "cell_type": "markdown",
   "metadata": {},
   "source": [
    "7/8. Histogram and density curve of the 100 coin tosses with R = 1000 trials. The histogram and density curve are similar to each other as they both have a peak towards the centre of the plot, as that's where we have the greatest probability of getting a certain number of heads. Besides that, they both reach their lowest levels towards the left and right borders of the plot, as that's where we have the lowest probability of getting a certain number of heads on our trials."
   ]
  },
  {
   "cell_type": "markdown",
   "metadata": {},
   "source": [
    "### 2 - Are sons taller than fathers? Monte-Carlo approach"
   ]
  },
  {
   "cell_type": "code",
   "execution_count": 160,
   "metadata": {},
   "outputs": [],
   "source": [
    "import pandas as pd"
   ]
  },
  {
   "cell_type": "code",
   "execution_count": 162,
   "metadata": {},
   "outputs": [],
   "source": [
    "father_son = pd.read_csv('C:/Users/porto/Downloads/fatherson.csv.bz2', sep='\\t')"
   ]
  },
  {
   "cell_type": "code",
   "execution_count": 165,
   "metadata": {},
   "outputs": [
    {
     "data": {
      "text/html": [
       "<div>\n",
       "<style scoped>\n",
       "    .dataframe tbody tr th:only-of-type {\n",
       "        vertical-align: middle;\n",
       "    }\n",
       "\n",
       "    .dataframe tbody tr th {\n",
       "        vertical-align: top;\n",
       "    }\n",
       "\n",
       "    .dataframe thead th {\n",
       "        text-align: right;\n",
       "    }\n",
       "</style>\n",
       "<table border=\"1\" class=\"dataframe\">\n",
       "  <thead>\n",
       "    <tr style=\"text-align: right;\">\n",
       "      <th></th>\n",
       "      <th>fheight</th>\n",
       "      <th>sheight</th>\n",
       "    </tr>\n",
       "  </thead>\n",
       "  <tbody>\n",
       "    <tr>\n",
       "      <td>0</td>\n",
       "      <td>165.2</td>\n",
       "      <td>151.8</td>\n",
       "    </tr>\n",
       "    <tr>\n",
       "      <td>1</td>\n",
       "      <td>160.7</td>\n",
       "      <td>160.6</td>\n",
       "    </tr>\n",
       "    <tr>\n",
       "      <td>2</td>\n",
       "      <td>165.0</td>\n",
       "      <td>160.9</td>\n",
       "    </tr>\n",
       "    <tr>\n",
       "      <td>3</td>\n",
       "      <td>167.0</td>\n",
       "      <td>159.5</td>\n",
       "    </tr>\n",
       "    <tr>\n",
       "      <td>4</td>\n",
       "      <td>155.3</td>\n",
       "      <td>163.3</td>\n",
       "    </tr>\n",
       "  </tbody>\n",
       "</table>\n",
       "</div>"
      ],
      "text/plain": [
       "   fheight  sheight\n",
       "0    165.2    151.8\n",
       "1    160.7    160.6\n",
       "2    165.0    160.9\n",
       "3    167.0    159.5\n",
       "4    155.3    163.3"
      ]
     },
     "execution_count": 165,
     "metadata": {},
     "output_type": "execute_result"
    }
   ],
   "source": [
    "father_son.head()"
   ]
  },
  {
   "cell_type": "code",
   "execution_count": 207,
   "metadata": {},
   "outputs": [
    {
     "data": {
      "text/plain": [
       "fheight    1078\n",
       "sheight    1078\n",
       "dtype: int64"
      ]
     },
     "execution_count": 207,
     "metadata": {},
     "output_type": "execute_result"
    }
   ],
   "source": [
    "# Number of observations\n",
    "father_son.count()"
   ]
  },
  {
   "cell_type": "code",
   "execution_count": 208,
   "metadata": {},
   "outputs": [
    {
     "data": {
      "text/plain": [
       "fheight    0\n",
       "sheight    0\n",
       "dtype: int64"
      ]
     },
     "execution_count": 208,
     "metadata": {},
     "output_type": "execute_result"
    }
   ],
   "source": [
    "# Number of null values\n",
    "father_son.isna().sum()"
   ]
  },
  {
   "cell_type": "markdown",
   "metadata": {},
   "source": [
    "1. Each column has 1078 observations, and none of them are null."
   ]
  },
  {
   "cell_type": "markdown",
   "metadata": {},
   "source": [
    "2. The measure type for both columns is **ratio**, as they contain values on equal intervals and **there is** a _true zero_ value, meaning that there is a pre-decided start point for this scale. There are _continuous_ and _non-negative_ values.\n",
    "\n",
    "   Both variables are quantitative, so we can apply most statistics to them.\n",
    "\n",
    "   The expected range for fathers' heights is [149.9, 191.6]cm which is then 41.7cm, and for sons' heights is [148.6, 199.0]cm, which is then 50.4cm.\n",
    "   \n",
    "   The value type is **continuous** as the values can take any value within an interval."
   ]
  },
  {
   "cell_type": "code",
   "execution_count": 213,
   "metadata": {},
   "outputs": [
    {
     "data": {
      "text/html": [
       "<div>\n",
       "<style scoped>\n",
       "    .dataframe tbody tr th:only-of-type {\n",
       "        vertical-align: middle;\n",
       "    }\n",
       "\n",
       "    .dataframe tbody tr th {\n",
       "        vertical-align: top;\n",
       "    }\n",
       "\n",
       "    .dataframe thead th {\n",
       "        text-align: right;\n",
       "    }\n",
       "</style>\n",
       "<table border=\"1\" class=\"dataframe\">\n",
       "  <thead>\n",
       "    <tr style=\"text-align: right;\">\n",
       "      <th></th>\n",
       "      <th>fheight</th>\n",
       "      <th>sheight</th>\n",
       "    </tr>\n",
       "  </thead>\n",
       "  <tbody>\n",
       "    <tr>\n",
       "      <td>count</td>\n",
       "      <td>1078.000000</td>\n",
       "      <td>1078.000000</td>\n",
       "    </tr>\n",
       "    <tr>\n",
       "      <td>mean</td>\n",
       "      <td>171.925232</td>\n",
       "      <td>174.457236</td>\n",
       "    </tr>\n",
       "    <tr>\n",
       "      <td>std</td>\n",
       "      <td>6.972346</td>\n",
       "      <td>7.150713</td>\n",
       "    </tr>\n",
       "    <tr>\n",
       "      <td>min</td>\n",
       "      <td>149.900000</td>\n",
       "      <td>148.600000</td>\n",
       "    </tr>\n",
       "    <tr>\n",
       "      <td>25%</td>\n",
       "      <td>167.100000</td>\n",
       "      <td>170.000000</td>\n",
       "    </tr>\n",
       "    <tr>\n",
       "      <td>50%</td>\n",
       "      <td>172.100000</td>\n",
       "      <td>174.300000</td>\n",
       "    </tr>\n",
       "    <tr>\n",
       "      <td>75%</td>\n",
       "      <td>176.800000</td>\n",
       "      <td>179.000000</td>\n",
       "    </tr>\n",
       "    <tr>\n",
       "      <td>max</td>\n",
       "      <td>191.600000</td>\n",
       "      <td>199.000000</td>\n",
       "    </tr>\n",
       "  </tbody>\n",
       "</table>\n",
       "</div>"
      ],
      "text/plain": [
       "           fheight      sheight\n",
       "count  1078.000000  1078.000000\n",
       "mean    171.925232   174.457236\n",
       "std       6.972346     7.150713\n",
       "min     149.900000   148.600000\n",
       "25%     167.100000   170.000000\n",
       "50%     172.100000   174.300000\n",
       "75%     176.800000   179.000000\n",
       "max     191.600000   199.000000"
      ]
     },
     "execution_count": 213,
     "metadata": {},
     "output_type": "execute_result"
    }
   ],
   "source": [
    "# Basic, powerful information about our data set\n",
    "father_son.describe()"
   ]
  },
  {
   "cell_type": "code",
   "execution_count": 214,
   "metadata": {},
   "outputs": [
    {
     "data": {
      "text/plain": [
       "fheight    172.1\n",
       "sheight    174.3\n",
       "dtype: float64"
      ]
     },
     "execution_count": 214,
     "metadata": {},
     "output_type": "execute_result"
    }
   ],
   "source": [
    "# Let's compute the median as well\n",
    "father_son.median()"
   ]
  },
  {
   "cell_type": "markdown",
   "metadata": {},
   "source": [
    "3. From the table and the computation above, we have the following values for our statistics:\n",
    "\n",
    "Mean:\n",
    " Fathers = 171.93cm ; Sons = 174.46cm\n",
    "\n",
    "Median:\n",
    " Fathers = 172.1cm ; Sons = 174.3cm\n",
    "\n",
    "Standard Deviation:\n",
    " Fathers = 6.97cm ; Sons = 7.15cm\n",
    "\n",
    "Range of their heights:\n",
    " Fathers = 41.7cm ; Sons = 50.4cm\n",
    "\n",
    "Therefore, from the information above, we can see that sons are, _in general_, taller than fathers."
   ]
  },
  {
   "cell_type": "code",
   "execution_count": 247,
   "metadata": {},
   "outputs": [
    {
     "data": {
      "text/plain": [
       "<matplotlib.axes._subplots.AxesSubplot at 0x1c514f498c8>"
      ]
     },
     "execution_count": 247,
     "metadata": {},
     "output_type": "execute_result"
    },
    {
     "data": {
      "image/png": "[encoded data removed]",
      "text/plain": [
       "<Figure size 432x288 with 2 Axes>"
      ]
     },
     "metadata": {
      "needs_background": "light"
     },
     "output_type": "display_data"
    }
   ],
   "source": [
    "# Density plots of both fathers and sons' heights\n",
    "fig, ax = plt.subplots(1, 2)\n",
    "import seaborn as sns\n",
    "sns.kdeplot(father_son.fheight, shade=True, color='maroon', cut=0, ax=ax[0])\n",
    "sns.kdeplot(father_son.sheight, shade=True, color='lightseagreen', cut=0, ax=ax[1])"
   ]
  },
  {
   "cell_type": "code",
   "execution_count": 248,
   "metadata": {},
   "outputs": [
    {
     "data": {
      "text/plain": [
       "<matplotlib.axes._subplots.AxesSubplot at 0x1c514ff19c8>"
      ]
     },
     "execution_count": 248,
     "metadata": {},
     "output_type": "execute_result"
    },
    {
     "data": {
      "image/png": "[encoded data removed]",
      "text/plain": [
       "<Figure size 432x288 with 1 Axes>"
      ]
     },
     "metadata": {
      "needs_background": "light"
     },
     "output_type": "display_data"
    }
   ],
   "source": [
    "# Let's plot them both together now!\n",
    "sns.kdeplot(father_son.fheight, shade=True, color='maroon', cut=0)\n",
    "sns.kdeplot(father_son.sheight, shade=True, color='lightseagreen', cut=0)"
   ]
  },
  {
   "cell_type": "markdown",
   "metadata": {},
   "source": [
    "4. The density plots above suggest what we had concluded in 3, i.e. sons' heights are higher relative to fathers'."
   ]
  },
  {
   "cell_type": "code",
   "execution_count": 271,
   "metadata": {},
   "outputs": [
    {
     "data": {
      "text/html": [
       "<div>\n",
       "<style scoped>\n",
       "    .dataframe tbody tr th:only-of-type {\n",
       "        vertical-align: middle;\n",
       "    }\n",
       "\n",
       "    .dataframe tbody tr th {\n",
       "        vertical-align: top;\n",
       "    }\n",
       "\n",
       "    .dataframe thead th {\n",
       "        text-align: right;\n",
       "    }\n",
       "</style>\n",
       "<table border=\"1\" class=\"dataframe\">\n",
       "  <thead>\n",
       "    <tr style=\"text-align: right;\">\n",
       "      <th></th>\n",
       "      <th>fheight</th>\n",
       "      <th>sheight</th>\n",
       "      <th>combined</th>\n",
       "    </tr>\n",
       "  </thead>\n",
       "  <tbody>\n",
       "    <tr>\n",
       "      <td>0</td>\n",
       "      <td>165.2</td>\n",
       "      <td>151.8</td>\n",
       "      <td>158.50</td>\n",
       "    </tr>\n",
       "    <tr>\n",
       "      <td>1</td>\n",
       "      <td>160.7</td>\n",
       "      <td>160.6</td>\n",
       "      <td>160.65</td>\n",
       "    </tr>\n",
       "    <tr>\n",
       "      <td>2</td>\n",
       "      <td>165.0</td>\n",
       "      <td>160.9</td>\n",
       "      <td>162.95</td>\n",
       "    </tr>\n",
       "    <tr>\n",
       "      <td>3</td>\n",
       "      <td>167.0</td>\n",
       "      <td>159.5</td>\n",
       "      <td>163.25</td>\n",
       "    </tr>\n",
       "    <tr>\n",
       "      <td>4</td>\n",
       "      <td>155.3</td>\n",
       "      <td>163.3</td>\n",
       "      <td>159.30</td>\n",
       "    </tr>\n",
       "    <tr>\n",
       "      <td>5</td>\n",
       "      <td>160.1</td>\n",
       "      <td>163.2</td>\n",
       "      <td>161.65</td>\n",
       "    </tr>\n",
       "    <tr>\n",
       "      <td>6</td>\n",
       "      <td>166.0</td>\n",
       "      <td>162.8</td>\n",
       "      <td>164.40</td>\n",
       "    </tr>\n",
       "  </tbody>\n",
       "</table>\n",
       "</div>"
      ],
      "text/plain": [
       "   fheight  sheight  combined\n",
       "0    165.2    151.8    158.50\n",
       "1    160.7    160.6    160.65\n",
       "2    165.0    160.9    162.95\n",
       "3    167.0    159.5    163.25\n",
       "4    155.3    163.3    159.30\n",
       "5    160.1    163.2    161.65\n",
       "6    166.0    162.8    164.40"
      ]
     },
     "execution_count": 271,
     "metadata": {},
     "output_type": "execute_result"
    }
   ],
   "source": [
    "# We sum the heights of fathers and sons for each observation and divide them by two to get its combined height.\n",
    "father_son['combined'] = (test.fheight + test.sheight)/2\n",
    "father_son.head(7)"
   ]
  },
  {
   "cell_type": "code",
   "execution_count": 274,
   "metadata": {},
   "outputs": [
    {
     "data": {
      "text/plain": [
       "173.19123376623398"
      ]
     },
     "execution_count": 274,
     "metadata": {},
     "output_type": "execute_result"
    }
   ],
   "source": [
    "# We take the mean\n",
    "father_son.combined.mean()"
   ]
  },
  {
   "cell_type": "code",
   "execution_count": 275,
   "metadata": {},
   "outputs": [
    {
     "data": {
      "text/plain": [
       "6.117856314582607"
      ]
     },
     "execution_count": 275,
     "metadata": {},
     "output_type": "execute_result"
    }
   ],
   "source": [
    "# We take the standard deviation\n",
    "father_son.combined.std()"
   ]
  },
  {
   "cell_type": "markdown",
   "metadata": {},
   "source": [
    "5. The overall mean is 173.19 and the overall standard deviation is 6.12"
   ]
  },
  {
   "cell_type": "code",
   "execution_count": 386,
   "metadata": {},
   "outputs": [
    {
     "data": {
      "text/plain": [
       "-0.23418651082803132"
      ]
     },
     "execution_count": 386,
     "metadata": {},
     "output_type": "execute_result"
    }
   ],
   "source": [
    "# loc=mean, scale=std\n",
    "# We round both the mean and the standard deviation to 2 decimal places\n",
    "np.random.seed(21)\n",
    "fathers_random = np.random.normal(loc=173.19, scale=6.12, size=1078)\n",
    "sons_random = np.random.normal(loc=173.19, scale=6.12, size=1078)\n",
    "\n",
    "random_diff_mean = np.mean(fathers_random - sons_random)\n",
    "random_diff_mean"
   ]
  },
  {
   "cell_type": "markdown",
   "metadata": {},
   "source": [
    "7. The absolute value for the father-son mean difference is approximately 0.23.\n",
    "\n",
    "OBS: Question 2.6 got cancelled so we do not need to compare it to its potential value."
   ]
  },
  {
   "cell_type": "markdown",
   "metadata": {},
   "source": [
    "8. Now let's repeat the above process R = 1000 times and store each mean difference we get:"
   ]
  },
  {
   "cell_type": "code",
   "execution_count": 361,
   "metadata": {},
   "outputs": [
    {
     "data": {
      "text/plain": [
       "array([-0.23418651, -0.25080275, -0.14116796, -0.29395646,  0.21482794,\n",
       "       -0.30328385, -0.2708437 , -0.16961553, -0.21178663,  0.05122156,\n",
       "        0.1345282 ,  0.23322336,  0.10332919,  0.18803093, -0.09786971,\n",
       "       -0.20075966,  0.19345211,  0.21372723, -0.45771785, -0.32310965,\n",
       "       -0.30811073,  0.47243191,  0.14048344, -0.15212716, -0.18738491,\n",
       "        0.27229238,  0.08237624,  0.48701912,  0.13005411,  0.34941398])"
      ]
     },
     "execution_count": 361,
     "metadata": {},
     "output_type": "execute_result"
    }
   ],
   "source": [
    "np.random.seed(21)\n",
    "diff_means = [np.mean(np.random.normal(loc=173.19, scale=6.12, size=1078)) -\n",
    "              np.mean(np.random.normal(loc=173.19, scale=6.12, size=1078))\n",
    "                  for i in range(1000)]\n",
    "\n",
    "diff_means = np.array(diff_means)\n",
    "# The first 30 mean differences we have in our array:\n",
    "diff_means[:30]"
   ]
  },
  {
   "cell_type": "code",
   "execution_count": 362,
   "metadata": {},
   "outputs": [
    {
     "data": {
      "text/plain": [
       "0.01134532801749836"
      ]
     },
     "execution_count": 362,
     "metadata": {},
     "output_type": "execute_result"
    }
   ],
   "source": [
    "# Let's compete the ULTIMATE mean of the mean differences\n",
    "np.mean(diff_means)"
   ]
  },
  {
   "cell_type": "markdown",
   "metadata": {},
   "source": [
    "9. After calculating the differences in height for fathers and sons for each observation, we took their mean. That was a mean difference. We then repeated this process, but 1000 times, and then we took its mean. This is the value we just got, of 0.011, which is the mean of the mean differences. It represents the mean difference between fathers and sons' heights as we approach a normal distribution due to repeating the process a large amount of times."
   ]
  },
  {
   "cell_type": "code",
   "execution_count": 363,
   "metadata": {},
   "outputs": [
    {
     "data": {
      "text/plain": [
       "0.2544501052130891"
      ]
     },
     "execution_count": 363,
     "metadata": {},
     "output_type": "execute_result"
    }
   ],
   "source": [
    "np.std(diff_means)"
   ]
  },
  {
   "cell_type": "markdown",
   "metadata": {},
   "source": [
    "10. The standard deviation of the mean differences is approximately 0.25."
   ]
  },
  {
   "cell_type": "code",
   "execution_count": 364,
   "metadata": {},
   "outputs": [
    {
     "data": {
      "text/plain": [
       "0.8435940097285766"
      ]
     },
     "execution_count": 364,
     "metadata": {},
     "output_type": "execute_result"
    }
   ],
   "source": [
    "absolute_means = np.abs(diff_means)\n",
    "absolute_means.max()"
   ]
  },
  {
   "cell_type": "markdown",
   "metadata": {},
   "source": [
    "11. The absolute value for the largest mean difference in our samples is approximately 0.84."
   ]
  },
  {
   "cell_type": "code",
   "execution_count": 374,
   "metadata": {},
   "outputs": [
    {
     "data": {
      "text/plain": [
       "0.500617790710234"
      ]
     },
     "execution_count": 374,
     "metadata": {},
     "output_type": "execute_result"
    }
   ],
   "source": [
    "# 95% quantile of the absolute value of the mean differences in the random sample\n",
    "np.quantile(absolute_means, 0.95)"
   ]
  },
  {
   "cell_type": "code",
   "execution_count": 395,
   "metadata": {},
   "outputs": [
    {
     "data": {
      "text/plain": [
       "9.0"
      ]
     },
     "execution_count": 395,
     "metadata": {},
     "output_type": "execute_result"
    }
   ],
   "source": [
    "# 95% quantile of the mean difference in the dataframe\n",
    "(father_son.fheight - father_son.sheight).quantile(0.95)"
   ]
  },
  {
   "cell_type": "markdown",
   "metadata": {},
   "source": [
    "12. When we used the combined fathers'-sons'-distribution parameters, we ignored the fact that we had two different variables and instead decided to use a single one, which was a combination of both. Therefore, when doing our random trials based on these parameters and comparing their statistics (mean, standard deviation, quantile...) with the original data set, we ended up getting very different values."
   ]
  },
  {
   "cell_type": "code",
   "execution_count": 378,
   "metadata": {},
   "outputs": [
    {
     "data": {
      "text/plain": [
       "array([-0.23418651, -0.25080275, -0.14116796, -0.29395646,  0.21482794,\n",
       "       -0.30328385, -0.2708437 , -0.16961553, -0.21178663,  0.05122156,\n",
       "        0.1345282 ,  0.23322336,  0.10332919,  0.18803093, -0.09786971,\n",
       "       -0.20075966,  0.19345211,  0.21372723, -0.45771785, -0.32310965,\n",
       "       -0.30811073,  0.47243191,  0.14048344, -0.15212716, -0.18738491,\n",
       "        0.27229238,  0.08237624,  0.48701912,  0.13005411,  0.34941398])"
      ]
     },
     "execution_count": 378,
     "metadata": {},
     "output_type": "execute_result"
    }
   ],
   "source": [
    "# Let's repeat the process but with A HUNDRED THOUSAND trials (oh wow)\n",
    "np.random.seed(21)\n",
    "diff_means_100k = [np.mean(np.random.normal(loc=173.19, scale=6.12, size=1078)) -\n",
    "              np.mean(np.random.normal(loc=173.19, scale=6.12, size=1078))\n",
    "                  for i in range(100000)]\n",
    "\n",
    "diff_means_100k = np.array(diff_means_100k)\n",
    "# The first 30 mean differences we have in our array:\n",
    "diff_means_100k[:30]"
   ]
  },
  {
   "cell_type": "code",
   "execution_count": 392,
   "metadata": {},
   "outputs": [
    {
     "data": {
      "text/plain": [
       "1.1776216595644655"
      ]
     },
     "execution_count": 392,
     "metadata": {},
     "output_type": "execute_result"
    }
   ],
   "source": [
    "# Let's get the maximum absolute mean difference from these 100,000 trials\n",
    "absolute_means_100k = np.abs(diff_means_100k)\n",
    "absolute_means_100k.max()"
   ]
  },
  {
   "cell_type": "code",
   "execution_count": 393,
   "metadata": {},
   "outputs": [
    {
     "data": {
      "text/plain": [
       "0.5160748170100329"
      ]
     },
     "execution_count": 393,
     "metadata": {},
     "output_type": "execute_result"
    }
   ],
   "source": [
    "# 95% quantile of the absolute value of the mean differences in the random sample\n",
    "np.quantile(absolute_means_100k, 0.95)"
   ]
  },
  {
   "cell_type": "markdown",
   "metadata": {},
   "source": [
    "13. Same as in 11, these results are not very comparable to the ones we would get from the original data set due to the same characteristics I said in 11. Here, although having 99,000 more trials than on 11, we had very similar results (check maximum value and 95% quantile, for example). As our sample size or number of trials increase, in the long run, we get closer and closer to a normal distribution, as determined by the **Central Limit Theorem (CLT)**."
   ]
  },
  {
   "cell_type": "markdown",
   "metadata": {},
   "source": [
    "### 3 - Same stuff, now with t-test"
   ]
  },
  {
   "cell_type": "code",
   "execution_count": 408,
   "metadata": {},
   "outputs": [
    {
     "name": "stdout",
     "output_type": "stream",
     "text": [
      "0.304185866556143\n"
     ]
    }
   ],
   "source": [
    "# Let's compute the t-value for the difference\n",
    "# First, the standard error for the average\n",
    "\n",
    "se = np.sqrt(father_son.fheight.var() / father_son.fheight.size + father_son.sheight.var() / father_son.sheight.size)\n",
    "print(se)"
   ]
  },
  {
   "cell_type": "code",
   "execution_count": 417,
   "metadata": {},
   "outputs": [
    {
     "name": "stdout",
     "output_type": "stream",
     "text": [
      "8.32387033375825\n"
     ]
    }
   ],
   "source": [
    "# Now, the t-value\n",
    "mean_diff = (father_son.fheight.mean() - father_son.sheight.mean())\n",
    "tval = np.abs(mean_diff / se)\n",
    "print(tval)"
   ]
  },
  {
   "cell_type": "markdown",
   "metadata": {},
   "source": [
    "1. The calculated t-value for the difference in fathers and sons' heights four our dataset is approximately 8.32."
   ]
  },
  {
   "cell_type": "code",
   "execution_count": 421,
   "metadata": {},
   "outputs": [
    {
     "name": "stdout",
     "output_type": "stream",
     "text": [
      "t-value: 8.32387033375825 ; Mean diff: 2.532003710575225\n",
      "Degrees of freedom: 1077\n"
     ]
    }
   ],
   "source": [
    "print(f\"t-value: {tval} ; Mean diff: {np.abs(mean_diff)}\")\n",
    "print(\"Degrees of freedom:\", min(father_son.fheight.size, father_son.sheight.size) -1)"
   ]
  },
  {
   "cell_type": "markdown",
   "metadata": {},
   "source": [
    "2. Our null hypothesis is that there is no difference in the means. Our alternative hypothesis states that there is, but the direction does not matter (if one is greater or smaller than the other). Therefore, we use a **two-tailed test**.\n",
    "\n",
    "    As stated above, we have degrees of freedom of 1077. Let's approximate it to 1000 degrees of freedom to check the critical value in the T table. The likelihood of us having the t-value of 8.32 is _extremely low_. The maximum value we can see for such degrees of freedom is with a 0.001 significance level, giving us a critical t-value of 3.3.\n",
    "\n",
    "    Therefore, the probability of getting a t-value of 8.32 is much lower than 0.1%."
   ]
  },
  {
   "cell_type": "markdown",
   "metadata": {},
   "source": [
    "3. Question 2.6 was cancelled, so there is no other t-value to compare to."
   ]
  },
  {
   "cell_type": "markdown",
   "metadata": {},
   "source": [
    "4. On both sides, the p-value (probability associated with the 8.32 t-value) is extremely small. It is low enough for us to **reject the null hypothesis** using any relevant significance level, such as 0.05, and 0.01. Our t-value is greater than the critical t-value from the T table:\n",
    "\n",
    "    Using a 0.05 significance level, we can state that for a t-distribution with df=1000, 95% of our results will fall more or less 1.96 t-values from the mean. Therefore, we can conclude that the mean difference between fathers and sons' heights **is not 0**. On the contrary, because we have such a large t-value, it tells us that these groups of heights are different, so there is a **statistically significant** difference between fathers and sons' heights."
   ]
  },
  {
   "cell_type": "code",
   "execution_count": null,
   "metadata": {},
   "outputs": [],
   "source": []
  }
 ],
 "metadata": {
  "kernelspec": {
   "display_name": "Python 3",
   "language": "python",
   "name": "python3"
  },
  "language_info": {
   "codemirror_mode": {
    "name": "ipython",
    "version": 3
   },
   "file_extension": ".py",
   "mimetype": "text/x-python",
   "name": "python",
   "nbconvert_exporter": "python",
   "pygments_lexer": "ipython3",
   "version": "3.7.4"
  }
 },
 "nbformat": 4,
 "nbformat_minor": 2
}
