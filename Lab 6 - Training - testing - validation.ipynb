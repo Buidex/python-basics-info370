{
 "cells": [
  {
   "cell_type": "code",
   "execution_count": 1,
   "metadata": {},
   "outputs": [],
   "source": [
    "import pandas as pd\n",
    "import numpy as np\n",
    "from sklearn.linear_model import LinearRegression\n",
    "from sklearn.model_selection import train_test_split\n",
    "import matplotlib.pyplot as plt"
   ]
  },
  {
   "cell_type": "markdown",
   "metadata": {},
   "source": [
    "### 1 - Random Data"
   ]
  },
  {
   "cell_type": "code",
   "execution_count": 2,
   "metadata": {},
   "outputs": [],
   "source": [
    "# Let's create a simple linear model\n",
    "x = np.random.normal(size=100)\n",
    "y = x + np.random.normal(size=100)\n",
    "# Reshaping the 'x' variable so to use it in the prediction model\n",
    "x = x.reshape((-1, 1))"
   ]
  },
  {
   "cell_type": "code",
   "execution_count": 3,
   "metadata": {},
   "outputs": [
    {
     "data": {
      "text/plain": [
       "(100, 1)"
      ]
     },
     "execution_count": 3,
     "metadata": {},
     "output_type": "execute_result"
    }
   ],
   "source": [
    "x.shape"
   ]
  },
  {
   "cell_type": "code",
   "execution_count": 4,
   "metadata": {},
   "outputs": [
    {
     "data": {
      "text/plain": [
       "(100,)"
      ]
     },
     "execution_count": 4,
     "metadata": {},
     "output_type": "execute_result"
    }
   ],
   "source": [
    "y.shape"
   ]
  },
  {
   "cell_type": "code",
   "execution_count": 5,
   "metadata": {},
   "outputs": [
    {
     "name": "stdout",
     "output_type": "stream",
     "text": [
      "RMSE on this basic data: 1.0651417345373733\n"
     ]
    }
   ],
   "source": [
    "m = LinearRegression().fit(x, y)\n",
    "yhat = m.predict(x)\n",
    "print(f'RMSE on this basic data: {np.sqrt(np.mean((y - yhat)**2))}')"
   ]
  },
  {
   "cell_type": "markdown",
   "metadata": {},
   "source": [
    "Now let's do a training-test split with 30% of the data for the validation part."
   ]
  },
  {
   "cell_type": "code",
   "execution_count": 6,
   "metadata": {},
   "outputs": [],
   "source": [
    "y_train, y_valid, x_train, x_valid = train_test_split(y, x, test_size=0.3)"
   ]
  },
  {
   "cell_type": "code",
   "execution_count": 7,
   "metadata": {},
   "outputs": [
    {
     "data": {
      "text/plain": [
       "(70,)"
      ]
     },
     "execution_count": 7,
     "metadata": {},
     "output_type": "execute_result"
    }
   ],
   "source": [
    "y_train.shape"
   ]
  },
  {
   "cell_type": "code",
   "execution_count": 8,
   "metadata": {},
   "outputs": [
    {
     "data": {
      "text/plain": [
       "(30,)"
      ]
     },
     "execution_count": 8,
     "metadata": {},
     "output_type": "execute_result"
    }
   ],
   "source": [
    "y_valid.shape"
   ]
  },
  {
   "cell_type": "code",
   "execution_count": 9,
   "metadata": {},
   "outputs": [
    {
     "data": {
      "text/plain": [
       "(70, 1)"
      ]
     },
     "execution_count": 9,
     "metadata": {},
     "output_type": "execute_result"
    }
   ],
   "source": [
    "x_train.shape"
   ]
  },
  {
   "cell_type": "code",
   "execution_count": 10,
   "metadata": {},
   "outputs": [
    {
     "data": {
      "text/plain": [
       "(30, 1)"
      ]
     },
     "execution_count": 10,
     "metadata": {},
     "output_type": "execute_result"
    }
   ],
   "source": [
    "x_valid.shape"
   ]
  },
  {
   "cell_type": "code",
   "execution_count": 11,
   "metadata": {},
   "outputs": [
    {
     "name": "stdout",
     "output_type": "stream",
     "text": [
      "RMSE on x_train data: 1.0944455711325562\n",
      "RMSE on x_valid data: 1.0031459446749897\n"
     ]
    }
   ],
   "source": [
    "m = LinearRegression().fit(x_train, y_train)\n",
    "\n",
    "# Prediction using training data\n",
    "y_hat_train = m.predict(x_train)\n",
    "print(f'RMSE on x_train data: {np.sqrt(np.mean((y_train - y_hat_train)**2))}')\n",
    "\n",
    "# Prediction using validation data\n",
    "y_hat_valid = m.predict(x_valid)\n",
    "print(f'RMSE on x_valid data: {np.sqrt(np.mean((y_valid - y_hat_valid)**2))}')\n",
    "\n",
    "# The validation data RMSE is the benchmark, so let's store it.\n",
    "RMSE_b = np.sqrt(np.mean((y_valid - y_hat_valid)**2))"
   ]
  },
  {
   "cell_type": "markdown",
   "metadata": {},
   "source": [
    "#### Let's overfit this now"
   ]
  },
  {
   "cell_type": "code",
   "execution_count": 12,
   "metadata": {},
   "outputs": [
    {
     "name": "stdout",
     "output_type": "stream",
     "text": [
      "RMSE on this basic data: 1.0592319044486689\n",
      "RMSE on x_train data: 0.9999745935135846\n",
      "RMSE on x_valid data: 1.4900267061249648\n"
     ]
    }
   ],
   "source": [
    "# Creating some irrelevant data\n",
    "z1 = x**2\n",
    "# Stacking it\n",
    "X = np.hstack((x, z1))\n",
    "m = LinearRegression().fit(X, y)\n",
    "\n",
    "# Whole sample \n",
    "yhat = m.predict(X)\n",
    "print(f'RMSE on this basic data: {np.sqrt(np.mean((y - yhat)**2))}')\n",
    "\n",
    "# Training and validation samples\n",
    "y_train, y_valid, X_train, X_valid = train_test_split(y, X, test_size=0.1)\n",
    "\n",
    "# Prediction using training data\n",
    "y_hat_train = m.predict(X_train)\n",
    "print(f'RMSE on x_train data: {np.sqrt(np.mean((y_train - y_hat_train)**2))}')\n",
    "\n",
    "# Prediction using validation data\n",
    "y_hat_valid = m.predict(X_valid)\n",
    "print(f'RMSE on x_valid data: {np.sqrt(np.mean((y_valid - y_hat_valid)**2))}')"
   ]
  },
  {
   "cell_type": "code",
   "execution_count": 13,
   "metadata": {},
   "outputs": [
    {
     "data": {
      "text/plain": [
       "Text(0.5, 1.0, 'Validation data')"
      ]
     },
     "execution_count": 13,
     "metadata": {},
     "output_type": "execute_result"
    },
    {
     "data": {
      "image/png": "[encoded data removed]",
      "text/plain": [
       "<Figure size 432x288 with 2 Axes>"
      ]
     },
     "metadata": {
      "needs_background": "light"
     },
     "output_type": "display_data"
    }
   ],
   "source": [
    "# Actual x Predicted graphs for training and validation data\n",
    "plt.subplot(1, 2, 1)\n",
    "plt.scatter(X_train[:,0], y_train, s=80, edgecolors='k', label='actual')\n",
    "yhatTrain = m.predict(X_train)\n",
    "plt.scatter(X_train[:,0], y_hat_train, c='r', s=40, edgecolors='k', label='predicted')\n",
    "plt.legend()\n",
    "plt.title(\"Training data\")\n",
    "\n",
    "plt.subplot(1, 2, 2)\n",
    "plt.scatter(X_valid[:,0], y_valid, s=80, edgecolors='k', label='actual')\n",
    "yhatValid = m.predict(X_valid)\n",
    "plt.scatter(X_valid[:,0], y_hat_valid, c='r', s=40, edgecolors='k', label='predicted')\n",
    "plt.legend()\n",
    "plt.title(\"Validation data\")"
   ]
  },
  {
   "cell_type": "markdown",
   "metadata": {},
   "source": [
    "Now let's do the same with more random variables"
   ]
  },
  {
   "cell_type": "code",
   "execution_count": 14,
   "metadata": {},
   "outputs": [
    {
     "name": "stdout",
     "output_type": "stream",
     "text": [
      "RMSE on this basic data: 1.055361832593552\n",
      "RMSE on x_train data: 1.0719910918552444\n",
      "RMSE on x_valid data: 0.8918530528059051\n"
     ]
    }
   ],
   "source": [
    "z2 = x**4\n",
    "z3 = x*182126/47\n",
    "z4 = np.cos(x)\n",
    "X = np.hstack((x, z1, z2, z3, z4))\n",
    "m = LinearRegression().fit(X, y)\n",
    "\n",
    "# Whole sample \n",
    "yhat = m.predict(X)\n",
    "print(f'RMSE on this basic data: {np.sqrt(np.mean((y - yhat)**2))}')\n",
    "\n",
    "# Training and validation samples\n",
    "y_train, y_valid, X_train, X_valid = train_test_split(y, X, test_size=0.1)\n",
    "\n",
    "# Prediction using training data\n",
    "y_hat_train = m.predict(X_train)\n",
    "print(f'RMSE on x_train data: {np.sqrt(np.mean((y_train - y_hat_train)**2))}')\n",
    "\n",
    "# Prediction using validation data\n",
    "y_hat_valid = m.predict(X_valid)\n",
    "print(f'RMSE on x_valid data: {np.sqrt(np.mean((y_valid - y_hat_valid)**2))}')"
   ]
  },
  {
   "cell_type": "code",
   "execution_count": 15,
   "metadata": {},
   "outputs": [
    {
     "data": {
      "text/plain": [
       "Text(0.5, 1.0, 'Validation data')"
      ]
     },
     "execution_count": 15,
     "metadata": {},
     "output_type": "execute_result"
    },
    {
     "data": {
      "image/png": "[encoded data removed]",
      "text/plain": [
       "<Figure size 432x288 with 2 Axes>"
      ]
     },
     "metadata": {
      "needs_background": "light"
     },
     "output_type": "display_data"
    }
   ],
   "source": [
    "# Actual x Predicted graphs for training and validation data\n",
    "plt.subplot(1, 2, 1)\n",
    "plt.scatter(X_train[:,0], y_train, s=80, edgecolors='k', label='actual')\n",
    "plt.scatter(X_train[:,0], y_hat_train, c='r', s=40, edgecolors='k', label='predicted')\n",
    "plt.legend()\n",
    "plt.title(\"Training data\")\n",
    "\n",
    "plt.subplot(1, 2, 2)\n",
    "plt.scatter(X_valid[:,0], y_valid, s=80, edgecolors='k', label='actual')\n",
    "plt.scatter(X_valid[:,0], y_hat_valid, c='r', s=40, edgecolors='k', label='predicted')\n",
    "plt.legend()\n",
    "plt.title(\"Validation data\")"
   ]
  },
  {
   "cell_type": "markdown",
   "metadata": {},
   "source": [
    "We can see the overfitting effect above. In the plot for training data, look at how the curve is not very linear but, instead, it adapts itself to the data."
   ]
  },
  {
   "cell_type": "markdown",
   "metadata": {},
   "source": [
    "Now let's replace the random 'z' variables with some random 'r' data"
   ]
  },
  {
   "cell_type": "code",
   "execution_count": 16,
   "metadata": {},
   "outputs": [],
   "source": [
    "r1 = np.random.normal(size=100)\n",
    "r2 = np.random.uniform(size=100)\n",
    "r3 = np.random.normal(size=100)"
   ]
  },
  {
   "cell_type": "code",
   "execution_count": 17,
   "metadata": {},
   "outputs": [
    {
     "name": "stdout",
     "output_type": "stream",
     "text": [
      "RMSE on this basic data: 1.0476995761031853\n",
      "RMSE on x_train data: 1.0165929439677002\n",
      "RMSE on x_valid data: 1.294447022532673\n"
     ]
    }
   ],
   "source": [
    "X = np.hstack((x.reshape((-1, 1)),\n",
    "             r1.reshape((-1, 1)),\n",
    "             r2.reshape((-1, 1)),\n",
    "             r3.reshape((-1, 1))\n",
    "    ))\n",
    "m = LinearRegression().fit(X, y)\n",
    "\n",
    "# Whole sample \n",
    "yhat = m.predict(X)\n",
    "print(f'RMSE on this basic data: {np.sqrt(np.mean((y - yhat)**2))}')\n",
    "\n",
    "# Training and validation samples\n",
    "y_train, y_valid, X_train, X_valid = train_test_split(y, X, test_size=0.1)\n",
    "\n",
    "# Prediction using training data\n",
    "y_hat_train = m.predict(X_train)\n",
    "print(f'RMSE on x_train data: {np.sqrt(np.mean((y_train - y_hat_train)**2))}')\n",
    "\n",
    "# Prediction using validation data\n",
    "y_hat_valid = m.predict(X_valid)\n",
    "print(f'RMSE on x_valid data: {np.sqrt(np.mean((y_valid - y_hat_valid)**2))}')"
   ]
  },
  {
   "cell_type": "code",
   "execution_count": 18,
   "metadata": {},
   "outputs": [
    {
     "data": {
      "text/plain": [
       "Text(0.5, 1.0, 'Validation data')"
      ]
     },
     "execution_count": 18,
     "metadata": {},
     "output_type": "execute_result"
    },
    {
     "data": {
      "image/png": "[encoded data removed]",
      "text/plain": [
       "<Figure size 432x288 with 2 Axes>"
      ]
     },
     "metadata": {
      "needs_background": "light"
     },
     "output_type": "display_data"
    }
   ],
   "source": [
    "# Actual x Predicted graphs for training and validation data\n",
    "plt.subplot(1, 2, 1)\n",
    "plt.scatter(X_train[:,0], y_train, s=80, edgecolors='k', label='actual')\n",
    "plt.scatter(X_train[:,0], y_hat_train, c='r', s=40, edgecolors='k', label='predicted')\n",
    "plt.legend()\n",
    "plt.title(\"Training data\")\n",
    "\n",
    "plt.subplot(1, 2, 2)\n",
    "plt.scatter(X_valid[:,0], y_valid, s=80, edgecolors='k', label='actual')\n",
    "plt.scatter(X_valid[:,0], y_hat_valid, c='r', s=40, edgecolors='k', label='predicted')\n",
    "plt.legend()\n",
    "plt.title(\"Validation data\")"
   ]
  },
  {
   "cell_type": "markdown",
   "metadata": {},
   "source": [
    "We can see that, because our data is mostly uniform and/or normal, the RMSE scores were basically **the same**, no matter if we chose to use the entire data or split it into training and validation ones. This made overfitting a bit more complicated to identify, if there is any."
   ]
  },
  {
   "cell_type": "markdown",
   "metadata": {},
   "source": [
    "### 2 - Boston Data"
   ]
  },
  {
   "cell_type": "code",
   "execution_count": 19,
   "metadata": {},
   "outputs": [
    {
     "data": {
      "text/html": [
       "<div>\n",
       "<style scoped>\n",
       "    .dataframe tbody tr th:only-of-type {\n",
       "        vertical-align: middle;\n",
       "    }\n",
       "\n",
       "    .dataframe tbody tr th {\n",
       "        vertical-align: top;\n",
       "    }\n",
       "\n",
       "    .dataframe thead th {\n",
       "        text-align: right;\n",
       "    }\n",
       "</style>\n",
       "<table border=\"1\" class=\"dataframe\">\n",
       "  <thead>\n",
       "    <tr style=\"text-align: right;\">\n",
       "      <th></th>\n",
       "      <th>crim</th>\n",
       "      <th>zn</th>\n",
       "      <th>indus</th>\n",
       "      <th>chas</th>\n",
       "      <th>nox</th>\n",
       "      <th>rm</th>\n",
       "      <th>age</th>\n",
       "      <th>dis</th>\n",
       "      <th>rad</th>\n",
       "      <th>tax</th>\n",
       "      <th>ptratio</th>\n",
       "      <th>black</th>\n",
       "      <th>lstat</th>\n",
       "      <th>medv</th>\n",
       "    </tr>\n",
       "  </thead>\n",
       "  <tbody>\n",
       "    <tr>\n",
       "      <td>238</td>\n",
       "      <td>0.08244</td>\n",
       "      <td>30.0</td>\n",
       "      <td>4.93</td>\n",
       "      <td>0</td>\n",
       "      <td>0.428</td>\n",
       "      <td>6.481</td>\n",
       "      <td>18.5</td>\n",
       "      <td>6.1899</td>\n",
       "      <td>6</td>\n",
       "      <td>300</td>\n",
       "      <td>16.6</td>\n",
       "      <td>379.41</td>\n",
       "      <td>6.36</td>\n",
       "      <td>23.7</td>\n",
       "    </tr>\n",
       "    <tr>\n",
       "      <td>317</td>\n",
       "      <td>0.24522</td>\n",
       "      <td>0.0</td>\n",
       "      <td>9.90</td>\n",
       "      <td>0</td>\n",
       "      <td>0.544</td>\n",
       "      <td>5.782</td>\n",
       "      <td>71.7</td>\n",
       "      <td>4.0317</td>\n",
       "      <td>4</td>\n",
       "      <td>304</td>\n",
       "      <td>18.4</td>\n",
       "      <td>396.90</td>\n",
       "      <td>15.94</td>\n",
       "      <td>19.8</td>\n",
       "    </tr>\n",
       "    <tr>\n",
       "      <td>347</td>\n",
       "      <td>0.01870</td>\n",
       "      <td>85.0</td>\n",
       "      <td>4.15</td>\n",
       "      <td>0</td>\n",
       "      <td>0.429</td>\n",
       "      <td>6.516</td>\n",
       "      <td>27.7</td>\n",
       "      <td>8.5353</td>\n",
       "      <td>4</td>\n",
       "      <td>351</td>\n",
       "      <td>17.9</td>\n",
       "      <td>392.43</td>\n",
       "      <td>6.36</td>\n",
       "      <td>23.1</td>\n",
       "    </tr>\n",
       "    <tr>\n",
       "      <td>243</td>\n",
       "      <td>0.12757</td>\n",
       "      <td>30.0</td>\n",
       "      <td>4.93</td>\n",
       "      <td>0</td>\n",
       "      <td>0.428</td>\n",
       "      <td>6.393</td>\n",
       "      <td>7.8</td>\n",
       "      <td>7.0355</td>\n",
       "      <td>6</td>\n",
       "      <td>300</td>\n",
       "      <td>16.6</td>\n",
       "      <td>374.71</td>\n",
       "      <td>5.19</td>\n",
       "      <td>23.7</td>\n",
       "    </tr>\n",
       "    <tr>\n",
       "      <td>117</td>\n",
       "      <td>0.15098</td>\n",
       "      <td>0.0</td>\n",
       "      <td>10.01</td>\n",
       "      <td>0</td>\n",
       "      <td>0.547</td>\n",
       "      <td>6.021</td>\n",
       "      <td>82.6</td>\n",
       "      <td>2.7474</td>\n",
       "      <td>6</td>\n",
       "      <td>432</td>\n",
       "      <td>17.8</td>\n",
       "      <td>394.51</td>\n",
       "      <td>10.30</td>\n",
       "      <td>19.2</td>\n",
       "    </tr>\n",
       "  </tbody>\n",
       "</table>\n",
       "</div>"
      ],
      "text/plain": [
       "        crim    zn  indus  chas    nox     rm   age     dis  rad  tax  \\\n",
       "238  0.08244  30.0   4.93     0  0.428  6.481  18.5  6.1899    6  300   \n",
       "317  0.24522   0.0   9.90     0  0.544  5.782  71.7  4.0317    4  304   \n",
       "347  0.01870  85.0   4.15     0  0.429  6.516  27.7  8.5353    4  351   \n",
       "243  0.12757  30.0   4.93     0  0.428  6.393   7.8  7.0355    6  300   \n",
       "117  0.15098   0.0  10.01     0  0.547  6.021  82.6  2.7474    6  432   \n",
       "\n",
       "     ptratio   black  lstat  medv  \n",
       "238     16.6  379.41   6.36  23.7  \n",
       "317     18.4  396.90  15.94  19.8  \n",
       "347     17.9  392.43   6.36  23.1  \n",
       "243     16.6  374.71   5.19  23.7  \n",
       "117     17.8  394.51  10.30  19.2  "
      ]
     },
     "execution_count": 19,
     "metadata": {},
     "output_type": "execute_result"
    }
   ],
   "source": [
    "boston = pd.read_csv(\"./Downloads/boston.csv.bz2\", sep='\\t')\n",
    "boston.sample(5)"
   ]
  },
  {
   "cell_type": "markdown",
   "metadata": {},
   "source": [
    "Initially, let's just use a sample of our data."
   ]
  },
  {
   "cell_type": "code",
   "execution_count": 20,
   "metadata": {},
   "outputs": [],
   "source": [
    "boston = boston.sample(100)"
   ]
  },
  {
   "cell_type": "markdown",
   "metadata": {},
   "source": [
    "Let's do the test/train split in the Boston data and calculate the RMSE for both data."
   ]
  },
  {
   "cell_type": "code",
   "execution_count": 21,
   "metadata": {},
   "outputs": [
    {
     "name": "stdout",
     "output_type": "stream",
     "text": [
      "RMSE on X_train data: 4.040052025534729\n",
      "RMSE on X_valid data: 4.594858310077801\n"
     ]
    }
   ],
   "source": [
    "y = boston.medv\n",
    "X0 = boston.drop('medv', axis=1)\n",
    "\n",
    "# 30% of the data will be used for testing. So 70% will be used for training\n",
    "y_train, y_valid, X_train, X_valid = train_test_split(y, X0, test_size=0.3)\n",
    "m = LinearRegression().fit(X_train, y_train)\n",
    "\n",
    "# Prediction using training data\n",
    "y_hat_train = m.predict(X_train)\n",
    "print(f'RMSE on X_train data: {np.sqrt(np.mean((y_train - y_hat_train)**2))}')\n",
    "\n",
    "# Prediction using validation data\n",
    "y_hat_valid = m.predict(X_valid)\n",
    "print(f'RMSE on X_valid data: {np.sqrt(np.mean((y_valid - y_hat_valid)**2))}')"
   ]
  },
  {
   "cell_type": "markdown",
   "metadata": {},
   "source": [
    "Now let's add some random variables to our data and see how it affects the results of our prediction model."
   ]
  },
  {
   "cell_type": "code",
   "execution_count": 22,
   "metadata": {},
   "outputs": [
    {
     "data": {
      "text/plain": [
       "100"
      ]
     },
     "execution_count": 22,
     "metadata": {},
     "output_type": "execute_result"
    }
   ],
   "source": [
    "X0.shape[0]"
   ]
  },
  {
   "cell_type": "code",
   "execution_count": 23,
   "metadata": {},
   "outputs": [
    {
     "name": "stdout",
     "output_type": "stream",
     "text": [
      "RMSE on X_train data: 3.5463909095839043\n",
      "RMSE on X_valid data: 6.7803995661982075\n"
     ]
    }
   ],
   "source": [
    "z1 = boston.indus**4\n",
    "z2 = boston.age*182126/47\n",
    "z3 = np.cos(boston.tax)\n",
    "z4 = boston.zn + boston.crim\n",
    "\n",
    "y = boston.medv\n",
    "X0 = boston.drop('medv', axis=1)\n",
    "\n",
    "# Adding these new variables to our data frame\n",
    "X0['z1'] = z1\n",
    "X0['z2'] = z2\n",
    "X0['z3'] = z3\n",
    "X0['z4'] = z4\n",
    "\n",
    "# 30% of the data will be used for testing. So 70% will be used for training\n",
    "y_train, y_valid, X_train, X_valid = train_test_split(y, X0, test_size=0.3)\n",
    "m = LinearRegression().fit(X_train, y_train)\n",
    "\n",
    "# Prediction using training data\n",
    "y_hat_train = m.predict(X_train)\n",
    "print(f'RMSE on X_train data: {np.sqrt(np.mean((y_train - y_hat_train)**2))}')\n",
    "\n",
    "# Prediction using validation data\n",
    "y_hat_valid = m.predict(X_valid)\n",
    "print(f'RMSE on X_valid data: {np.sqrt(np.mean((y_valid - y_hat_valid)**2))}')"
   ]
  },
  {
   "cell_type": "code",
   "execution_count": 24,
   "metadata": {},
   "outputs": [
    {
     "name": "stdout",
     "output_type": "stream",
     "text": [
      "My first time running the cell above game ve me an RMSE of 3.82 for _train and of 5.28 for X_valid\n"
     ]
    }
   ],
   "source": [
    "print('My first time running the cell above game ve me an RMSE of 3.82 for _train and of 5.28 for X_valid')"
   ]
  },
  {
   "cell_type": "markdown",
   "metadata": {},
   "source": [
    "Now, same calculations but with the entire sample."
   ]
  },
  {
   "cell_type": "code",
   "execution_count": 25,
   "metadata": {},
   "outputs": [
    {
     "name": "stdout",
     "output_type": "stream",
     "text": [
      "RMSE on X_train data: 4.546864496528843\n",
      "RMSE on X_valid data: 5.042965366774651\n"
     ]
    }
   ],
   "source": [
    "boston = pd.read_csv(\"./Downloads/boston.csv.bz2\", sep='\\t')\n",
    "y = boston.medv\n",
    "X0 = boston.drop('medv', axis=1)\n",
    "\n",
    "# 30% of the data will be used for testing. So 70% will be used for training\n",
    "y_train, y_valid, X_train, X_valid = train_test_split(y, X0, test_size=0.3)\n",
    "m = LinearRegression().fit(X_train, y_train)\n",
    "\n",
    "# Prediction using training data\n",
    "y_hat_train = m.predict(X_train)\n",
    "print(f'RMSE on X_train data: {np.sqrt(np.mean((y_train - y_hat_train)**2))}')\n",
    "\n",
    "# Prediction using validation data\n",
    "y_hat_valid = m.predict(X_valid)\n",
    "print(f'RMSE on X_valid data: {np.sqrt(np.mean((y_valid - y_hat_valid)**2))}')"
   ]
  },
  {
   "cell_type": "code",
   "execution_count": 26,
   "metadata": {},
   "outputs": [
    {
     "name": "stdout",
     "output_type": "stream",
     "text": [
      "RMSE on X_train data: 4.683152527453882\n",
      "RMSE on X_valid data: 4.655373403712233\n"
     ]
    }
   ],
   "source": [
    "z1 = boston.indus**4\n",
    "z2 = boston.age*182126/47\n",
    "z3 = np.cos(boston.tax)\n",
    "z4 = boston.zn + boston.crim\n",
    "\n",
    "y = boston.medv\n",
    "X0 = boston.drop('medv', axis=1)\n",
    "\n",
    "# Adding these new variables to our data frame\n",
    "X0['z1'] = z1\n",
    "X0['z2'] = z2\n",
    "X0['z3'] = z3\n",
    "X0['z4'] = z4\n",
    "\n",
    "# 30% of the data will be used for testing. So 70% will be used for training\n",
    "y_train, y_valid, X_train, X_valid = train_test_split(y, X0, test_size=0.3)\n",
    "m = LinearRegression().fit(X_train, y_train)\n",
    "\n",
    "# Prediction using training data\n",
    "y_hat_train = m.predict(X_train)\n",
    "print(f'RMSE on X_train data: {np.sqrt(np.mean((y_train - y_hat_train)**2))}')\n",
    "\n",
    "# Prediction using validation data\n",
    "y_hat_valid = m.predict(X_valid)\n",
    "print(f'RMSE on X_valid data: {np.sqrt(np.mean((y_valid - y_hat_valid)**2))}')"
   ]
  },
  {
   "cell_type": "markdown",
   "metadata": {},
   "source": [
    "We can see that the error in the validation data increased, as our training data potentially underfit due to adding some random variables. However, the **increase in sample size reduced overfitting**. Therefore, more data (rows) is better for our prediction model."
   ]
  },
  {
   "cell_type": "code",
   "execution_count": null,
   "metadata": {},
   "outputs": [],
   "source": []
  }
 ],
 "metadata": {
  "kernelspec": {
   "display_name": "Python 3",
   "language": "python",
   "name": "python3"
  },
  "language_info": {
   "codemirror_mode": {
    "name": "ipython",
    "version": 3
   },
   "file_extension": ".py",
   "mimetype": "text/x-python",
   "name": "python",
   "nbconvert_exporter": "python",
   "pygments_lexer": "ipython3",
   "version": "3.7.4"
  }
 },
 "nbformat": 4,
 "nbformat_minor": 2
}
