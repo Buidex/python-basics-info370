{
 "cells": [
  {
   "cell_type": "code",
   "execution_count": 20,
   "metadata": {},
   "outputs": [],
   "source": [
    "import pandas as pd\n",
    "import numpy as np\n",
    "ncbirths = pd.read_csv(\"./Downloads/ncbirths.csv.bz2\", sep=\"\\t\")"
   ]
  },
  {
   "cell_type": "code",
   "execution_count": 2,
   "metadata": {},
   "outputs": [
    {
     "data": {
      "text/html": [
       "<div>\n",
       "<style scoped>\n",
       "    .dataframe tbody tr th:only-of-type {\n",
       "        vertical-align: middle;\n",
       "    }\n",
       "\n",
       "    .dataframe tbody tr th {\n",
       "        vertical-align: top;\n",
       "    }\n",
       "\n",
       "    .dataframe thead th {\n",
       "        text-align: right;\n",
       "    }\n",
       "</style>\n",
       "<table border=\"1\" class=\"dataframe\">\n",
       "  <thead>\n",
       "    <tr style=\"text-align: right;\">\n",
       "      <th></th>\n",
       "      <th>fage</th>\n",
       "      <th>mage</th>\n",
       "      <th>mature</th>\n",
       "      <th>weeks</th>\n",
       "      <th>premie</th>\n",
       "      <th>visits</th>\n",
       "      <th>marital</th>\n",
       "      <th>gained</th>\n",
       "      <th>weight</th>\n",
       "      <th>lowbirthweight</th>\n",
       "      <th>gender</th>\n",
       "      <th>habit</th>\n",
       "      <th>whitemom</th>\n",
       "    </tr>\n",
       "  </thead>\n",
       "  <tbody>\n",
       "    <tr>\n",
       "      <td>0</td>\n",
       "      <td>NaN</td>\n",
       "      <td>13</td>\n",
       "      <td>younger mom</td>\n",
       "      <td>39.0</td>\n",
       "      <td>full term</td>\n",
       "      <td>10.0</td>\n",
       "      <td>not married</td>\n",
       "      <td>38.0</td>\n",
       "      <td>7.63</td>\n",
       "      <td>not low</td>\n",
       "      <td>male</td>\n",
       "      <td>nonsmoker</td>\n",
       "      <td>not white</td>\n",
       "    </tr>\n",
       "    <tr>\n",
       "      <td>1</td>\n",
       "      <td>NaN</td>\n",
       "      <td>14</td>\n",
       "      <td>younger mom</td>\n",
       "      <td>42.0</td>\n",
       "      <td>full term</td>\n",
       "      <td>15.0</td>\n",
       "      <td>not married</td>\n",
       "      <td>20.0</td>\n",
       "      <td>7.88</td>\n",
       "      <td>not low</td>\n",
       "      <td>male</td>\n",
       "      <td>nonsmoker</td>\n",
       "      <td>not white</td>\n",
       "    </tr>\n",
       "    <tr>\n",
       "      <td>2</td>\n",
       "      <td>19.0</td>\n",
       "      <td>15</td>\n",
       "      <td>younger mom</td>\n",
       "      <td>37.0</td>\n",
       "      <td>full term</td>\n",
       "      <td>11.0</td>\n",
       "      <td>not married</td>\n",
       "      <td>38.0</td>\n",
       "      <td>6.63</td>\n",
       "      <td>not low</td>\n",
       "      <td>female</td>\n",
       "      <td>nonsmoker</td>\n",
       "      <td>white</td>\n",
       "    </tr>\n",
       "    <tr>\n",
       "      <td>3</td>\n",
       "      <td>21.0</td>\n",
       "      <td>15</td>\n",
       "      <td>younger mom</td>\n",
       "      <td>41.0</td>\n",
       "      <td>full term</td>\n",
       "      <td>6.0</td>\n",
       "      <td>not married</td>\n",
       "      <td>34.0</td>\n",
       "      <td>8.00</td>\n",
       "      <td>not low</td>\n",
       "      <td>male</td>\n",
       "      <td>nonsmoker</td>\n",
       "      <td>white</td>\n",
       "    </tr>\n",
       "    <tr>\n",
       "      <td>4</td>\n",
       "      <td>NaN</td>\n",
       "      <td>15</td>\n",
       "      <td>younger mom</td>\n",
       "      <td>39.0</td>\n",
       "      <td>full term</td>\n",
       "      <td>9.0</td>\n",
       "      <td>not married</td>\n",
       "      <td>27.0</td>\n",
       "      <td>6.38</td>\n",
       "      <td>not low</td>\n",
       "      <td>female</td>\n",
       "      <td>nonsmoker</td>\n",
       "      <td>not white</td>\n",
       "    </tr>\n",
       "    <tr>\n",
       "      <td>5</td>\n",
       "      <td>NaN</td>\n",
       "      <td>15</td>\n",
       "      <td>younger mom</td>\n",
       "      <td>38.0</td>\n",
       "      <td>full term</td>\n",
       "      <td>19.0</td>\n",
       "      <td>not married</td>\n",
       "      <td>22.0</td>\n",
       "      <td>5.38</td>\n",
       "      <td>low</td>\n",
       "      <td>male</td>\n",
       "      <td>nonsmoker</td>\n",
       "      <td>not white</td>\n",
       "    </tr>\n",
       "    <tr>\n",
       "      <td>6</td>\n",
       "      <td>18.0</td>\n",
       "      <td>15</td>\n",
       "      <td>younger mom</td>\n",
       "      <td>37.0</td>\n",
       "      <td>full term</td>\n",
       "      <td>12.0</td>\n",
       "      <td>not married</td>\n",
       "      <td>76.0</td>\n",
       "      <td>8.44</td>\n",
       "      <td>not low</td>\n",
       "      <td>male</td>\n",
       "      <td>nonsmoker</td>\n",
       "      <td>not white</td>\n",
       "    </tr>\n",
       "  </tbody>\n",
       "</table>\n",
       "</div>"
      ],
      "text/plain": [
       "   fage  mage       mature  weeks     premie  visits      marital  gained  \\\n",
       "0   NaN    13  younger mom   39.0  full term    10.0  not married    38.0   \n",
       "1   NaN    14  younger mom   42.0  full term    15.0  not married    20.0   \n",
       "2  19.0    15  younger mom   37.0  full term    11.0  not married    38.0   \n",
       "3  21.0    15  younger mom   41.0  full term     6.0  not married    34.0   \n",
       "4   NaN    15  younger mom   39.0  full term     9.0  not married    27.0   \n",
       "5   NaN    15  younger mom   38.0  full term    19.0  not married    22.0   \n",
       "6  18.0    15  younger mom   37.0  full term    12.0  not married    76.0   \n",
       "\n",
       "   weight lowbirthweight  gender      habit   whitemom  \n",
       "0    7.63        not low    male  nonsmoker  not white  \n",
       "1    7.88        not low    male  nonsmoker  not white  \n",
       "2    6.63        not low  female  nonsmoker      white  \n",
       "3    8.00        not low    male  nonsmoker      white  \n",
       "4    6.38        not low  female  nonsmoker  not white  \n",
       "5    5.38            low    male  nonsmoker  not white  \n",
       "6    8.44        not low    male  nonsmoker  not white  "
      ]
     },
     "execution_count": 2,
     "metadata": {},
     "output_type": "execute_result"
    }
   ],
   "source": [
    "ncbirths.head(7)"
   ]
  },
  {
   "cell_type": "markdown",
   "metadata": {},
   "source": [
    "### 1: Simulations"
   ]
  },
  {
   "cell_type": "markdown",
   "metadata": {},
   "source": [
    "1. Difference in average birth weight between mothers who are smokers and those who are not"
   ]
  },
  {
   "cell_type": "code",
   "execution_count": 56,
   "metadata": {},
   "outputs": [
    {
     "data": {
      "text/plain": [
       "-0.3155424644084732"
      ]
     },
     "execution_count": 56,
     "metadata": {},
     "output_type": "execute_result"
    }
   ],
   "source": [
    "weight_diff = ncbirths[ncbirths.habit == 'smoker'].weight.mean() - \\\n",
    "              ncbirths[ncbirths.habit == 'nonsmoker'].weight.mean()\n",
    "\n",
    "weight_diff"
   ]
  },
  {
   "cell_type": "code",
   "execution_count": 59,
   "metadata": {},
   "outputs": [
    {
     "data": {
      "text/plain": [
       "0.3155424644084732"
      ]
     },
     "execution_count": 59,
     "metadata": {},
     "output_type": "execute_result"
    }
   ],
   "source": [
    "# For the absolute value\n",
    "abs(weight_diff)"
   ]
  },
  {
   "cell_type": "markdown",
   "metadata": {},
   "source": [
    "2. Mean and standard deviation of the birth weight in the data"
   ]
  },
  {
   "cell_type": "code",
   "execution_count": 22,
   "metadata": {},
   "outputs": [],
   "source": [
    "mu, sigma = ncbirths.weight.agg([np.mean, np.std])"
   ]
  },
  {
   "cell_type": "code",
   "execution_count": 19,
   "metadata": {},
   "outputs": [
    {
     "name": "stdout",
     "output_type": "stream",
     "text": [
      "Mean = 7.101000000000028 and std = 1.5088602517328296\n"
     ]
    }
   ],
   "source": [
    "print('Mean = ' + str(mu) + ' and std = ' + str(sigma))"
   ]
  },
  {
   "cell_type": "markdown",
   "metadata": {},
   "source": [
    "3. Simulation of the number of smokers and non-smokers"
   ]
  },
  {
   "cell_type": "code",
   "execution_count": 36,
   "metadata": {},
   "outputs": [
    {
     "data": {
      "text/plain": [
       "habit\n",
       "nonsmoker    873\n",
       "smoker       126\n",
       "Name: weight, dtype: int64"
      ]
     },
     "execution_count": 36,
     "metadata": {},
     "output_type": "execute_result"
    }
   ],
   "source": [
    "ncbirths.groupby('habit').weight.count()"
   ]
  },
  {
   "cell_type": "code",
   "execution_count": 75,
   "metadata": {},
   "outputs": [
    {
     "name": "stdout",
     "output_type": "stream",
     "text": [
      "Sample size: smokers = 875 and non-smokers = 130\n"
     ]
    }
   ],
   "source": [
    "# Let's approximate the sample size for both smokers and non-smokers\n",
    "smokers = np.random.normal(mu, sigma, size=130)\n",
    "nonsmokers = np.random.normal(mu, sigma, size=875)\n",
    "print('Sample size: smokers = ' + str(len(nonsmokers)) + ' and non-smokers = ' + str(len(smokers)))"
   ]
  },
  {
   "cell_type": "markdown",
   "metadata": {},
   "source": [
    "4. Difference between the (simulated) mean weights for smokers and non-smokers"
   ]
  },
  {
   "cell_type": "code",
   "execution_count": 76,
   "metadata": {},
   "outputs": [
    {
     "data": {
      "text/plain": [
       "-0.02216227879972532"
      ]
     },
     "execution_count": 76,
     "metadata": {},
     "output_type": "execute_result"
    }
   ],
   "source": [
    "np.mean(smokers) - np.mean(nonsmokers)"
   ]
  },
  {
   "cell_type": "markdown",
   "metadata": {},
   "source": [
    "5. Now let's repeat this process for R = 1000 times"
   ]
  },
  {
   "cell_type": "code",
   "execution_count": 77,
   "metadata": {},
   "outputs": [],
   "source": [
    "R = 1000\n",
    "\n",
    "# mean_diffs stores all the 1000 difference in means of the smokers and non-smokers samples\n",
    "mean_diffs = [np.mean(np.random.normal(mu, sigma, size=130)) - \n",
    "              np.mean(np.random.normal(mu, sigma, size=875)) for i in range(R)]\n",
    "\n",
    "# We're interested in the absolute values\n",
    "mean_diffs = np.array(np.abs(mean_diffs))"
   ]
  },
  {
   "cell_type": "markdown",
   "metadata": {},
   "source": [
    "6. Compute the 2.5% and 97.5% sample quantiles. Does the difference between smokers and non-smokers fall inside or outside this interval?"
   ]
  },
  {
   "cell_type": "code",
   "execution_count": 78,
   "metadata": {},
   "outputs": [
    {
     "data": {
      "text/plain": [
       "array([0.00488441, 0.32021476])"
      ]
     },
     "execution_count": 78,
     "metadata": {},
     "output_type": "execute_result"
    }
   ],
   "source": [
    "np.quantile(mean_diffs, [0.025, 0.975])"
   ]
  },
  {
   "cell_type": "code",
   "execution_count": 79,
   "metadata": {},
   "outputs": [
    {
     "name": "stdout",
     "output_type": "stream",
     "text": [
      "Inside the interval!\n"
     ]
    }
   ],
   "source": [
    "if (abs(weight_diff) > np.quantile(mean_diffs, [0.025, 0.975])[0] and \\\n",
    "    abs(weight_diff) < np.quantile(mean_diffs, [0.025, 0.975])[1]):\n",
    "    print('Inside the interval!')\n",
    "else:\n",
    "    print('Outside the interval!')"
   ]
  },
  {
   "cell_type": "markdown",
   "metadata": {},
   "source": [
    "7. The actual difference between smokers and non-smokers falls **inside** the interval. Therefore it is not statistically significant. It almost fell outside the interval though, but it was a bit below the upper bound (97.5% quantile)."
   ]
  },
  {
   "cell_type": "markdown",
   "metadata": {},
   "source": [
    "### 2: t-test"
   ]
  },
  {
   "cell_type": "markdown",
   "metadata": {},
   "source": [
    "1. Standard error (SE) of the mean"
   ]
  },
  {
   "cell_type": "code",
   "execution_count": 81,
   "metadata": {},
   "outputs": [
    {
     "data": {
      "text/plain": [
       "0.04771435066370764"
      ]
     },
     "execution_count": 81,
     "metadata": {},
     "output_type": "execute_result"
    }
   ],
   "source": [
    "# Sample's standard deviation over the square root of the sample size\n",
    "se = sigma/np.sqrt(len(ncbirths))\n",
    "se"
   ]
  },
  {
   "cell_type": "markdown",
   "metadata": {},
   "source": [
    "Alternatively:"
   ]
  },
  {
   "cell_type": "code",
   "execution_count": 86,
   "metadata": {},
   "outputs": [
    {
     "data": {
      "text/plain": [
       "0.04771435066370766"
      ]
     },
     "execution_count": 86,
     "metadata": {},
     "output_type": "execute_result"
    }
   ],
   "source": [
    "from scipy import stats\n",
    "stats.sem(ncbirths.weight)"
   ]
  },
  {
   "cell_type": "markdown",
   "metadata": {},
   "source": [
    "2. Computing the t-value"
   ]
  },
  {
   "cell_type": "code",
   "execution_count": 109,
   "metadata": {},
   "outputs": [
    {
     "data": {
      "text/plain": [
       "0.13667860518923652"
      ]
     },
     "execution_count": 109,
     "metadata": {},
     "output_type": "execute_result"
    }
   ],
   "source": [
    "# According to the equation for sigma in the 'sl05a-compare-means' pdf file on slide 33:\n",
    "sigma_t_test = np.sqrt(np.var(smokers)/len(smokers) + np.var(nonsmokers)/len(nonsmokers))\n",
    "sigma_t_test"
   ]
  },
  {
   "cell_type": "code",
   "execution_count": 112,
   "metadata": {},
   "outputs": [
    {
     "data": {
      "text/plain": [
       "0.1621488510878556"
      ]
     },
     "execution_count": 112,
     "metadata": {},
     "output_type": "execute_result"
    }
   ],
   "source": [
    "t_value = np.abs((np.mean(smokers) - np.mean(nonsmokers))/sigma_t_test)\n",
    "t_value"
   ]
  },
  {
   "cell_type": "markdown",
   "metadata": {},
   "source": [
    "##### T Table:\n",
    "![T Table!](https://lh3.googleusercontent.com/proxy/lHcbfC_mzanUuy39I_qv7cKAQodGGxif6lOknllfAL2EN_32kG57qGtQjn0kgQa6_TnHghmODej_6OL2FAtwzUhh2DVv2Zcw70LD6PXYorpfi634rrKLKrzrf7zlrUDYJOrV3BpnCA)"
   ]
  },
  {
   "cell_type": "markdown",
   "metadata": {},
   "source": [
    "3. The critical t-value from the table for degrees of freedom of approximately 1000 at a two-tailed 0.05 probability (95% confidence level) is 1.962."
   ]
  },
  {
   "cell_type": "markdown",
   "metadata": {},
   "source": [
    "4. Therefore our we have a very low confidence level on our calculated t-value."
   ]
  },
  {
   "cell_type": "code",
   "execution_count": null,
   "metadata": {},
   "outputs": [],
   "source": []
  }
 ],
 "metadata": {
  "kernelspec": {
   "display_name": "Python 3",
   "language": "python",
   "name": "python3"
  },
  "language_info": {
   "codemirror_mode": {
    "name": "ipython",
    "version": 3
   },
   "file_extension": ".py",
   "mimetype": "text/x-python",
   "name": "python",
   "nbconvert_exporter": "python",
   "pygments_lexer": "ipython3",
   "version": "3.7.4"
  }
 },
 "nbformat": 4,
 "nbformat_minor": 2
}
